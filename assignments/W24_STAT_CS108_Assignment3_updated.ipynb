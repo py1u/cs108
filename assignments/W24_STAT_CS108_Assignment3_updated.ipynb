{
  "cells": [
    {
      "cell_type": "markdown",
      "metadata": {
        "id": "vwq_ZK35q9H5"
      },
      "source": [
        "# LIME - Local Interpretable Model-Agnostic Explanations\n",
        "\n",
        "This assignment uses LIME, a package that provides \"Locally Interpetable Model-agnostic Explanations\" for machine learning models.\n",
        "\n",
        "- **Locally interpretable**: for each specific prediction, we can provide a relevant explanation.\n",
        "- **Model-agnostic**: we can provide the same sort of explanation for models of different classes.\n",
        "\n",
        "For more documentation of the LIME package, see [here](https://github.com/marcotcr/lime) and [here](https://lime-ml.readthedocs.io/en/latest/index.html). The original paper describing the method is [here](https://arxiv.org/pdf/1602.04938.pdf)."
      ]
    },
    {
      "cell_type": "code",
      "execution_count": 1,
      "metadata": {
        "id": "P5Cca7_drV8g"
      },
      "outputs": [
        {
          "name": "stderr",
          "output_type": "stream",
          "text": [
            "ERROR: Invalid requirement: '#'\n"
          ]
        },
        {
          "name": "stdout",
          "output_type": "stream",
          "text": [
            "Collecting xgboost\n",
            "  Downloading xgboost-2.0.3-py3-none-win_amd64.whl.metadata (2.0 kB)\n",
            "Requirement already satisfied: numpy in c:\\users\\peter\\appdata\\local\\programs\\python\\python311\\lib\\site-packages (from xgboost) (1.23.5)\n",
            "Requirement already satisfied: scipy in c:\\users\\peter\\appdata\\local\\programs\\python\\python311\\lib\\site-packages (from xgboost) (1.11.4)\n",
            "Downloading xgboost-2.0.3-py3-none-win_amd64.whl (99.8 MB)\n",
            "   ---------------------------------------- 0.0/99.8 MB ? eta -:--:--\n",
            "   ---------------------------------------- 0.4/99.8 MB 7.4 MB/s eta 0:00:14\n",
            "    --------------------------------------- 1.4/99.8 MB 18.2 MB/s eta 0:00:06\n",
            "   - -------------------------------------- 3.1/99.8 MB 24.9 MB/s eta 0:00:04\n",
            "   - -------------------------------------- 4.5/99.8 MB 28.9 MB/s eta 0:00:04\n",
            "   -- ------------------------------------- 6.0/99.8 MB 31.9 MB/s eta 0:00:03\n",
            "   -- ------------------------------------- 7.3/99.8 MB 31.3 MB/s eta 0:00:03\n",
            "   --- ------------------------------------ 8.9/99.8 MB 31.5 MB/s eta 0:00:03\n",
            "   ---- ----------------------------------- 10.1/99.8 MB 30.8 MB/s eta 0:00:03\n",
            "   ---- ----------------------------------- 11.5/99.8 MB 36.4 MB/s eta 0:00:03\n",
            "   ----- ---------------------------------- 13.5/99.8 MB 36.4 MB/s eta 0:00:03\n",
            "   ----- ---------------------------------- 14.8/99.8 MB 36.4 MB/s eta 0:00:03\n",
            "   ------ --------------------------------- 16.2/99.8 MB 34.4 MB/s eta 0:00:03\n",
            "   ------- -------------------------------- 17.6/99.8 MB 34.4 MB/s eta 0:00:03\n",
            "   ------- -------------------------------- 19.0/99.8 MB 36.4 MB/s eta 0:00:03\n",
            "   -------- ------------------------------- 20.6/99.8 MB 36.4 MB/s eta 0:00:03\n",
            "   -------- ------------------------------- 21.8/99.8 MB 34.4 MB/s eta 0:00:03\n",
            "   --------- ------------------------------ 23.3/99.8 MB 36.4 MB/s eta 0:00:03\n",
            "   ---------- ----------------------------- 25.2/99.8 MB 36.4 MB/s eta 0:00:03\n",
            "   ---------- ----------------------------- 25.3/99.8 MB 36.4 MB/s eta 0:00:03\n",
            "   ----------- ---------------------------- 28.0/99.8 MB 36.4 MB/s eta 0:00:02\n",
            "   ------------ --------------------------- 30.1/99.8 MB 38.5 MB/s eta 0:00:02\n",
            "   ------------ --------------------------- 31.4/99.8 MB 38.6 MB/s eta 0:00:02\n",
            "   ------------- -------------------------- 32.9/99.8 MB 38.6 MB/s eta 0:00:02\n",
            "   ------------- -------------------------- 34.3/99.8 MB 36.4 MB/s eta 0:00:02\n",
            "   ------------- -------------------------- 34.9/99.8 MB 36.4 MB/s eta 0:00:02\n",
            "   -------------- ------------------------- 34.9/99.8 MB 34.4 MB/s eta 0:00:02\n",
            "   -------------- ------------------------- 36.2/99.8 MB 34.6 MB/s eta 0:00:02\n",
            "   --------------- ------------------------ 37.5/99.8 MB 31.2 MB/s eta 0:00:02\n",
            "   --------------- ------------------------ 39.2/99.8 MB 29.7 MB/s eta 0:00:03\n",
            "   ---------------- ----------------------- 40.4/99.8 MB 28.5 MB/s eta 0:00:03\n",
            "   ---------------- ----------------------- 42.0/99.8 MB 28.5 MB/s eta 0:00:03\n",
            "   ----------------- ---------------------- 43.4/99.8 MB 28.4 MB/s eta 0:00:02\n",
            "   ----------------- ---------------------- 44.7/99.8 MB 29.7 MB/s eta 0:00:02\n",
            "   ------------------ --------------------- 46.0/99.8 MB 36.3 MB/s eta 0:00:02\n",
            "   ------------------- -------------------- 47.5/99.8 MB 36.4 MB/s eta 0:00:02\n",
            "   ------------------- -------------------- 49.0/99.8 MB 36.4 MB/s eta 0:00:02\n",
            "   -------------------- ------------------- 50.7/99.8 MB 36.3 MB/s eta 0:00:02\n",
            "   --------------------- ------------------ 52.6/99.8 MB 38.5 MB/s eta 0:00:02\n",
            "   --------------------- ------------------ 54.5/99.8 MB 40.9 MB/s eta 0:00:02\n",
            "   ---------------------- ----------------- 56.1/99.8 MB 40.9 MB/s eta 0:00:02\n",
            "   ----------------------- ---------------- 58.2/99.8 MB 40.9 MB/s eta 0:00:02\n",
            "   ----------------------- ---------------- 59.8/99.8 MB 40.9 MB/s eta 0:00:01\n",
            "   ------------------------ --------------- 61.3/99.8 MB 38.6 MB/s eta 0:00:01\n",
            "   ------------------------- -------------- 63.5/99.8 MB 38.6 MB/s eta 0:00:01\n",
            "   -------------------------- ------------- 65.0/99.8 MB 38.5 MB/s eta 0:00:01\n",
            "   -------------------------- ------------- 66.4/99.8 MB 38.6 MB/s eta 0:00:01\n",
            "   --------------------------- ------------ 68.0/99.8 MB 40.9 MB/s eta 0:00:01\n",
            "   --------------------------- ------------ 69.7/99.8 MB 40.9 MB/s eta 0:00:01\n",
            "   ---------------------------- ----------- 71.4/99.8 MB 40.9 MB/s eta 0:00:01\n",
            "   ---------------------------- ----------- 71.9/99.8 MB 40.9 MB/s eta 0:00:01\n",
            "   ---------------------------- ----------- 72.2/99.8 MB 32.8 MB/s eta 0:00:01\n",
            "   ----------------------------- ---------- 72.5/99.8 MB 28.5 MB/s eta 0:00:01\n",
            "   ----------------------------- ---------- 74.0/99.8 MB 28.5 MB/s eta 0:00:01\n",
            "   ------------------------------ --------- 75.2/99.8 MB 28.5 MB/s eta 0:00:01\n",
            "   ------------------------------ --------- 76.6/99.8 MB 27.3 MB/s eta 0:00:01\n",
            "   ------------------------------- -------- 78.2/99.8 MB 27.3 MB/s eta 0:00:01\n",
            "   ------------------------------- -------- 79.6/99.8 MB 27.3 MB/s eta 0:00:01\n",
            "   -------------------------------- ------- 81.4/99.8 MB 28.4 MB/s eta 0:00:01\n",
            "   --------------------------------- ------ 83.1/99.8 MB 40.9 MB/s eta 0:00:01\n",
            "   --------------------------------- ------ 84.6/99.8 MB 38.5 MB/s eta 0:00:01\n",
            "   ---------------------------------- ----- 86.3/99.8 MB 40.9 MB/s eta 0:00:01\n",
            "   ----------------------------------- ---- 88.3/99.8 MB 43.7 MB/s eta 0:00:01\n",
            "   ------------------------------------ --- 90.1/99.8 MB 43.5 MB/s eta 0:00:01\n",
            "   ------------------------------------ --- 91.6/99.8 MB 43.7 MB/s eta 0:00:01\n",
            "   ------------------------------------- -- 92.7/99.8 MB 40.9 MB/s eta 0:00:01\n",
            "   ------------------------------------- -- 94.5/99.8 MB 43.7 MB/s eta 0:00:01\n",
            "   -------------------------------------- - 96.2/99.8 MB 43.7 MB/s eta 0:00:01\n",
            "   -------------------------------------- - 96.7/99.8 MB 34.4 MB/s eta 0:00:01\n",
            "   -------------------------------------- - 97.2/99.8 MB 32.7 MB/s eta 0:00:01\n",
            "   ---------------------------------------  98.6/99.8 MB 31.2 MB/s eta 0:00:01\n",
            "   ---------------------------------------  99.7/99.8 MB 31.2 MB/s eta 0:00:01\n",
            "   ---------------------------------------  99.7/99.8 MB 31.2 MB/s eta 0:00:01\n",
            "   ---------------------------------------  99.7/99.8 MB 31.2 MB/s eta 0:00:01\n",
            "   ---------------------------------------  99.7/99.8 MB 31.2 MB/s eta 0:00:01\n",
            "   ---------------------------------------- 99.8/99.8 MB 21.8 MB/s eta 0:00:00\n",
            "Installing collected packages: xgboost\n",
            "Successfully installed xgboost-2.0.3\n"
          ]
        }
      ],
      "source": [
        "!pip install lime # if you are running on JupyterLab, use !/opt/anaconda/bin/pip\n",
        "!pip install xgboost"
      ]
    },
    {
      "cell_type": "code",
      "execution_count": 2,
      "metadata": {
        "id": "_sEEdxC0q9IK"
      },
      "outputs": [],
      "source": [
        "%matplotlib inline\n",
        "\n",
        "import sklearn.model_selection\n",
        "import sklearn.metrics\n",
        "import sklearn.datasets\n",
        "import sklearn.ensemble\n",
        "import sklearn.preprocessing\n",
        "from sklearn.compose import ColumnTransformer\n",
        "from sklearn.preprocessing import OneHotEncoder\n",
        "from sklearn.linear_model import LogisticRegression\n",
        "from sklearn.preprocessing import StandardScaler\n",
        "from sklearn.metrics import accuracy_score\n",
        "import numpy as np\n",
        "from IPython.display import Markdown, display\n",
        "import matplotlib.pyplot as plt\n",
        "import warnings\n",
        "import lime\n",
        "import lime.lime_tabular\n",
        "from lime import submodular_pick\n",
        "import xgboost\n",
        "from xgboost import plot_importance\n",
        "import json\n",
        "from collections import OrderedDict\n",
        "\n",
        "import pandas as pd\n",
        "\n",
        "np.random.seed(1)"
      ]
    },
    {
      "cell_type": "markdown",
      "metadata": {
        "id": "eR1b4tyQq9IM"
      },
      "source": [
        "***\n",
        "## Part 1: Prepare the data"
      ]
    },
    {
      "cell_type": "markdown",
      "metadata": {
        "id": "LhM5lhswq9IM"
      },
      "source": [
        "We will be using the Adult dataset which we can use to predict whether a person makes over 50K dollars per year based on census information. A version of the dataset is found on UCI ML Repository : [here](https://archive.ics.uci.edu/ml/datasets/adult)."
      ]
    },
    {
      "cell_type": "markdown",
      "metadata": {
        "id": "KV9s8V2iq9IO"
      },
      "source": [
        "### Read in the data"
      ]
    },
    {
      "cell_type": "code",
      "execution_count": 7,
      "metadata": {
        "id": "Mx0PKgRUq9IO"
      },
      "outputs": [
        {
          "name": "stdout",
          "output_type": "stream",
          "text": [
            "Shape:  (32561, 15)\n"
          ]
        },
        {
          "data": {
            "text/html": [
              "<div>\n",
              "<style scoped>\n",
              "    .dataframe tbody tr th:only-of-type {\n",
              "        vertical-align: middle;\n",
              "    }\n",
              "\n",
              "    .dataframe tbody tr th {\n",
              "        vertical-align: top;\n",
              "    }\n",
              "\n",
              "    .dataframe thead th {\n",
              "        text-align: right;\n",
              "    }\n",
              "</style>\n",
              "<table border=\"1\" class=\"dataframe\">\n",
              "  <thead>\n",
              "    <tr style=\"text-align: right;\">\n",
              "      <th></th>\n",
              "      <th>Age</th>\n",
              "      <th>Workclass</th>\n",
              "      <th>fnlwgt</th>\n",
              "      <th>Education</th>\n",
              "      <th>Education-Num</th>\n",
              "      <th>Marital-Status</th>\n",
              "      <th>Occupation</th>\n",
              "      <th>Relationship</th>\n",
              "      <th>Race</th>\n",
              "      <th>Sex</th>\n",
              "      <th>Capital-Gain</th>\n",
              "      <th>Capital-Loss</th>\n",
              "      <th>Hours-per-week</th>\n",
              "      <th>Country</th>\n",
              "      <th>income</th>\n",
              "    </tr>\n",
              "  </thead>\n",
              "  <tbody>\n",
              "    <tr>\n",
              "      <th>0</th>\n",
              "      <td>39</td>\n",
              "      <td>State-gov</td>\n",
              "      <td>77516</td>\n",
              "      <td>Bachelors</td>\n",
              "      <td>13</td>\n",
              "      <td>Never-married</td>\n",
              "      <td>Adm-clerical</td>\n",
              "      <td>Not-in-family</td>\n",
              "      <td>White</td>\n",
              "      <td>Male</td>\n",
              "      <td>2174</td>\n",
              "      <td>0</td>\n",
              "      <td>40</td>\n",
              "      <td>United-States</td>\n",
              "      <td>&lt;=50K</td>\n",
              "    </tr>\n",
              "    <tr>\n",
              "      <th>1</th>\n",
              "      <td>50</td>\n",
              "      <td>Self-emp-not-inc</td>\n",
              "      <td>83311</td>\n",
              "      <td>Bachelors</td>\n",
              "      <td>13</td>\n",
              "      <td>Married-civ-spouse</td>\n",
              "      <td>Exec-managerial</td>\n",
              "      <td>Husband</td>\n",
              "      <td>White</td>\n",
              "      <td>Male</td>\n",
              "      <td>0</td>\n",
              "      <td>0</td>\n",
              "      <td>13</td>\n",
              "      <td>United-States</td>\n",
              "      <td>&lt;=50K</td>\n",
              "    </tr>\n",
              "    <tr>\n",
              "      <th>2</th>\n",
              "      <td>38</td>\n",
              "      <td>Private</td>\n",
              "      <td>215646</td>\n",
              "      <td>HS-grad</td>\n",
              "      <td>9</td>\n",
              "      <td>Divorced</td>\n",
              "      <td>Handlers-cleaners</td>\n",
              "      <td>Not-in-family</td>\n",
              "      <td>White</td>\n",
              "      <td>Male</td>\n",
              "      <td>0</td>\n",
              "      <td>0</td>\n",
              "      <td>40</td>\n",
              "      <td>United-States</td>\n",
              "      <td>&lt;=50K</td>\n",
              "    </tr>\n",
              "    <tr>\n",
              "      <th>3</th>\n",
              "      <td>53</td>\n",
              "      <td>Private</td>\n",
              "      <td>234721</td>\n",
              "      <td>11th</td>\n",
              "      <td>7</td>\n",
              "      <td>Married-civ-spouse</td>\n",
              "      <td>Handlers-cleaners</td>\n",
              "      <td>Husband</td>\n",
              "      <td>Black</td>\n",
              "      <td>Male</td>\n",
              "      <td>0</td>\n",
              "      <td>0</td>\n",
              "      <td>40</td>\n",
              "      <td>United-States</td>\n",
              "      <td>&lt;=50K</td>\n",
              "    </tr>\n",
              "    <tr>\n",
              "      <th>4</th>\n",
              "      <td>28</td>\n",
              "      <td>Private</td>\n",
              "      <td>338409</td>\n",
              "      <td>Bachelors</td>\n",
              "      <td>13</td>\n",
              "      <td>Married-civ-spouse</td>\n",
              "      <td>Prof-specialty</td>\n",
              "      <td>Wife</td>\n",
              "      <td>Black</td>\n",
              "      <td>Female</td>\n",
              "      <td>0</td>\n",
              "      <td>0</td>\n",
              "      <td>40</td>\n",
              "      <td>Cuba</td>\n",
              "      <td>&lt;=50K</td>\n",
              "    </tr>\n",
              "  </tbody>\n",
              "</table>\n",
              "</div>"
            ],
            "text/plain": [
              "   Age          Workclass  fnlwgt   Education  Education-Num  \\\n",
              "0   39          State-gov   77516   Bachelors             13   \n",
              "1   50   Self-emp-not-inc   83311   Bachelors             13   \n",
              "2   38            Private  215646     HS-grad              9   \n",
              "3   53            Private  234721        11th              7   \n",
              "4   28            Private  338409   Bachelors             13   \n",
              "\n",
              "        Marital-Status          Occupation    Relationship    Race      Sex  \\\n",
              "0        Never-married        Adm-clerical   Not-in-family   White     Male   \n",
              "1   Married-civ-spouse     Exec-managerial         Husband   White     Male   \n",
              "2             Divorced   Handlers-cleaners   Not-in-family   White     Male   \n",
              "3   Married-civ-spouse   Handlers-cleaners         Husband   Black     Male   \n",
              "4   Married-civ-spouse      Prof-specialty            Wife   Black   Female   \n",
              "\n",
              "   Capital-Gain  Capital-Loss  Hours-per-week         Country  income  \n",
              "0          2174             0              40   United-States   <=50K  \n",
              "1             0             0              13   United-States   <=50K  \n",
              "2             0             0              40   United-States   <=50K  \n",
              "3             0             0              40   United-States   <=50K  \n",
              "4             0             0              40            Cuba   <=50K  "
            ]
          },
          "execution_count": 7,
          "metadata": {},
          "output_type": "execute_result"
        }
      ],
      "source": [
        "# Read in the data\n",
        "colnames = [\"Age\", \"Workclass\", \"fnlwgt\", \"Education\", \"Education-Num\",\n",
        "            \"Marital-Status\", \"Occupation\", \"Relationship\", \"Race\", \"Sex\",\n",
        "            \"Capital-Gain\", \"Capital-Loss\",\"Hours-per-week\", \"Country\",\n",
        "            \"income\"]\n",
        "data_df = pd.read_csv('http://archive.ics.uci.edu/ml/machine-learning-databases/adult/adult.data',\n",
        "                      names = colnames)\n",
        "print(\"Shape: \", data_df.shape)\n",
        "data_df.head()"
      ]
    },
    {
      "cell_type": "markdown",
      "metadata": {
        "id": "gl6mTdX2q9IQ"
      },
      "source": [
        "### Clean the data"
      ]
    },
    {
      "cell_type": "code",
      "execution_count": 9,
      "metadata": {
        "id": "buhCTvcuq9IR"
      },
      "outputs": [
        {
          "name": "stdout",
          "output_type": "stream",
          "text": [
            "Shape:  (32561, 14)\n"
          ]
        },
        {
          "data": {
            "text/html": [
              "<div>\n",
              "<style scoped>\n",
              "    .dataframe tbody tr th:only-of-type {\n",
              "        vertical-align: middle;\n",
              "    }\n",
              "\n",
              "    .dataframe tbody tr th {\n",
              "        vertical-align: top;\n",
              "    }\n",
              "\n",
              "    .dataframe thead th {\n",
              "        text-align: right;\n",
              "    }\n",
              "</style>\n",
              "<table border=\"1\" class=\"dataframe\">\n",
              "  <thead>\n",
              "    <tr style=\"text-align: right;\">\n",
              "      <th></th>\n",
              "      <th>Age</th>\n",
              "      <th>Workclass</th>\n",
              "      <th>fnlwgt</th>\n",
              "      <th>Education</th>\n",
              "      <th>Marital-Status</th>\n",
              "      <th>Occupation</th>\n",
              "      <th>Relationship</th>\n",
              "      <th>Race</th>\n",
              "      <th>Sex</th>\n",
              "      <th>Capital-Gain</th>\n",
              "      <th>Capital-Loss</th>\n",
              "      <th>Hours-per-week</th>\n",
              "      <th>Country</th>\n",
              "      <th>income</th>\n",
              "    </tr>\n",
              "  </thead>\n",
              "  <tbody>\n",
              "    <tr>\n",
              "      <th>0</th>\n",
              "      <td>39</td>\n",
              "      <td>State-gov</td>\n",
              "      <td>77516</td>\n",
              "      <td>Bachelors</td>\n",
              "      <td>Never-married</td>\n",
              "      <td>Adm-clerical</td>\n",
              "      <td>Not-in-family</td>\n",
              "      <td>White</td>\n",
              "      <td>Male</td>\n",
              "      <td>2174</td>\n",
              "      <td>0</td>\n",
              "      <td>40</td>\n",
              "      <td>United-States</td>\n",
              "      <td>&lt;=50K</td>\n",
              "    </tr>\n",
              "    <tr>\n",
              "      <th>1</th>\n",
              "      <td>50</td>\n",
              "      <td>Self-emp-not-inc</td>\n",
              "      <td>83311</td>\n",
              "      <td>Bachelors</td>\n",
              "      <td>Married-civ-spouse</td>\n",
              "      <td>Exec-managerial</td>\n",
              "      <td>Husband</td>\n",
              "      <td>White</td>\n",
              "      <td>Male</td>\n",
              "      <td>0</td>\n",
              "      <td>0</td>\n",
              "      <td>13</td>\n",
              "      <td>United-States</td>\n",
              "      <td>&lt;=50K</td>\n",
              "    </tr>\n",
              "    <tr>\n",
              "      <th>2</th>\n",
              "      <td>38</td>\n",
              "      <td>Private</td>\n",
              "      <td>215646</td>\n",
              "      <td>HS-grad</td>\n",
              "      <td>Divorced</td>\n",
              "      <td>Handlers-cleaners</td>\n",
              "      <td>Not-in-family</td>\n",
              "      <td>White</td>\n",
              "      <td>Male</td>\n",
              "      <td>0</td>\n",
              "      <td>0</td>\n",
              "      <td>40</td>\n",
              "      <td>United-States</td>\n",
              "      <td>&lt;=50K</td>\n",
              "    </tr>\n",
              "    <tr>\n",
              "      <th>3</th>\n",
              "      <td>53</td>\n",
              "      <td>Private</td>\n",
              "      <td>234721</td>\n",
              "      <td>11th</td>\n",
              "      <td>Married-civ-spouse</td>\n",
              "      <td>Handlers-cleaners</td>\n",
              "      <td>Husband</td>\n",
              "      <td>Black</td>\n",
              "      <td>Male</td>\n",
              "      <td>0</td>\n",
              "      <td>0</td>\n",
              "      <td>40</td>\n",
              "      <td>United-States</td>\n",
              "      <td>&lt;=50K</td>\n",
              "    </tr>\n",
              "    <tr>\n",
              "      <th>4</th>\n",
              "      <td>28</td>\n",
              "      <td>Private</td>\n",
              "      <td>338409</td>\n",
              "      <td>Bachelors</td>\n",
              "      <td>Married-civ-spouse</td>\n",
              "      <td>Prof-specialty</td>\n",
              "      <td>Wife</td>\n",
              "      <td>Black</td>\n",
              "      <td>Female</td>\n",
              "      <td>0</td>\n",
              "      <td>0</td>\n",
              "      <td>40</td>\n",
              "      <td>Cuba</td>\n",
              "      <td>&lt;=50K</td>\n",
              "    </tr>\n",
              "  </tbody>\n",
              "</table>\n",
              "</div>"
            ],
            "text/plain": [
              "   Age          Workclass  fnlwgt   Education       Marital-Status  \\\n",
              "0   39          State-gov   77516   Bachelors        Never-married   \n",
              "1   50   Self-emp-not-inc   83311   Bachelors   Married-civ-spouse   \n",
              "2   38            Private  215646     HS-grad             Divorced   \n",
              "3   53            Private  234721        11th   Married-civ-spouse   \n",
              "4   28            Private  338409   Bachelors   Married-civ-spouse   \n",
              "\n",
              "           Occupation    Relationship    Race      Sex  Capital-Gain  \\\n",
              "0        Adm-clerical   Not-in-family   White     Male          2174   \n",
              "1     Exec-managerial         Husband   White     Male             0   \n",
              "2   Handlers-cleaners   Not-in-family   White     Male             0   \n",
              "3   Handlers-cleaners         Husband   Black     Male             0   \n",
              "4      Prof-specialty            Wife   Black   Female             0   \n",
              "\n",
              "   Capital-Loss  Hours-per-week         Country  income  \n",
              "0             0              40   United-States   <=50K  \n",
              "1             0              13   United-States   <=50K  \n",
              "2             0              40   United-States   <=50K  \n",
              "3             0              40   United-States   <=50K  \n",
              "4             0              40            Cuba   <=50K  "
            ]
          },
          "execution_count": 9,
          "metadata": {},
          "output_type": "execute_result"
        }
      ],
      "source": [
        "# TODO - Drop Education-Num, which has a functional dependency with Education\n",
        "\n",
        "data_df = data_df.drop('Education-Num', axis=1)\n",
        "print(\"Shape: \", data_df.shape)\n",
        "data_df.head()\n"
      ]
    },
    {
      "cell_type": "code",
      "execution_count": 10,
      "metadata": {
        "id": "RpadUNmNq9IT"
      },
      "outputs": [],
      "source": [
        "# Get a list of feature names (excluding the outcome variable)\n",
        "feature_names = data_df.columns[:-1]"
      ]
    },
    {
      "cell_type": "code",
      "execution_count": 11,
      "metadata": {
        "id": "RNtzudwOq9IT"
      },
      "outputs": [
        {
          "name": "stdout",
          "output_type": "stream",
          "text": [
            "Class names:  [' <=50K' ' >50K']\n",
            "Label mapping:  {' <=50K': 0, ' >50K': 1}\n"
          ]
        }
      ],
      "source": [
        "# Mark labels and encode them using sklearn\n",
        "labels = data_df.iloc[:,-1]\n",
        "le= sklearn.preprocessing.LabelEncoder()\n",
        "le.fit(labels)\n",
        "labels = le.transform(labels)\n",
        "class_names = le.classes_\n",
        "data = data_df.iloc[:,:-1]\n",
        "le_label_mapping = dict(zip(le.classes_, le.transform(le.classes_)))\n",
        "print(\"Class names: \", class_names)\n",
        "print(\"Label mapping: \", le_label_mapping)"
      ]
    },
    {
      "cell_type": "code",
      "execution_count": 12,
      "metadata": {
        "id": "7w56XCNeq9IU"
      },
      "outputs": [
        {
          "name": "stdout",
          "output_type": "stream",
          "text": [
            "Age                int64\n",
            "Workclass         object\n",
            "fnlwgt             int64\n",
            "Education         object\n",
            "Marital-Status    object\n",
            "Occupation        object\n",
            "Relationship      object\n",
            "Race              object\n",
            "Sex               object\n",
            "Capital-Gain       int64\n",
            "Capital-Loss       int64\n",
            "Hours-per-week     int64\n",
            "Country           object\n",
            "dtype: object\n",
            "Indices of categorical features:  [1, 3, 4, 5, 6, 7, 8, 12]\n"
          ]
        },
        {
          "name": "stderr",
          "output_type": "stream",
          "text": [
            "C:\\Users\\Peter\\AppData\\Local\\Temp\\ipykernel_14964\\408250832.py:4: FutureWarning: Series.__getitem__ treating keys as positions is deprecated. In a future version, integer keys will always be treated as labels (consistent with DataFrame behavior). To access a value by position, use `ser.iloc[pos]`\n",
            "  categorical_features  = [i for i in range(len(data.dtypes)) if data.dtypes[i]=='object']\n",
            "C:\\Users\\Peter\\AppData\\Local\\Temp\\ipykernel_14964\\408250832.py:4: FutureWarning: Series.__getitem__ treating keys as positions is deprecated. In a future version, integer keys will always be treated as labels (consistent with DataFrame behavior). To access a value by position, use `ser.iloc[pos]`\n",
            "  categorical_features  = [i for i in range(len(data.dtypes)) if data.dtypes[i]=='object']\n",
            "C:\\Users\\Peter\\AppData\\Local\\Temp\\ipykernel_14964\\408250832.py:4: FutureWarning: Series.__getitem__ treating keys as positions is deprecated. In a future version, integer keys will always be treated as labels (consistent with DataFrame behavior). To access a value by position, use `ser.iloc[pos]`\n",
            "  categorical_features  = [i for i in range(len(data.dtypes)) if data.dtypes[i]=='object']\n",
            "C:\\Users\\Peter\\AppData\\Local\\Temp\\ipykernel_14964\\408250832.py:4: FutureWarning: Series.__getitem__ treating keys as positions is deprecated. In a future version, integer keys will always be treated as labels (consistent with DataFrame behavior). To access a value by position, use `ser.iloc[pos]`\n",
            "  categorical_features  = [i for i in range(len(data.dtypes)) if data.dtypes[i]=='object']\n",
            "C:\\Users\\Peter\\AppData\\Local\\Temp\\ipykernel_14964\\408250832.py:4: FutureWarning: Series.__getitem__ treating keys as positions is deprecated. In a future version, integer keys will always be treated as labels (consistent with DataFrame behavior). To access a value by position, use `ser.iloc[pos]`\n",
            "  categorical_features  = [i for i in range(len(data.dtypes)) if data.dtypes[i]=='object']\n",
            "C:\\Users\\Peter\\AppData\\Local\\Temp\\ipykernel_14964\\408250832.py:4: FutureWarning: Series.__getitem__ treating keys as positions is deprecated. In a future version, integer keys will always be treated as labels (consistent with DataFrame behavior). To access a value by position, use `ser.iloc[pos]`\n",
            "  categorical_features  = [i for i in range(len(data.dtypes)) if data.dtypes[i]=='object']\n",
            "C:\\Users\\Peter\\AppData\\Local\\Temp\\ipykernel_14964\\408250832.py:4: FutureWarning: Series.__getitem__ treating keys as positions is deprecated. In a future version, integer keys will always be treated as labels (consistent with DataFrame behavior). To access a value by position, use `ser.iloc[pos]`\n",
            "  categorical_features  = [i for i in range(len(data.dtypes)) if data.dtypes[i]=='object']\n",
            "C:\\Users\\Peter\\AppData\\Local\\Temp\\ipykernel_14964\\408250832.py:4: FutureWarning: Series.__getitem__ treating keys as positions is deprecated. In a future version, integer keys will always be treated as labels (consistent with DataFrame behavior). To access a value by position, use `ser.iloc[pos]`\n",
            "  categorical_features  = [i for i in range(len(data.dtypes)) if data.dtypes[i]=='object']\n",
            "C:\\Users\\Peter\\AppData\\Local\\Temp\\ipykernel_14964\\408250832.py:4: FutureWarning: Series.__getitem__ treating keys as positions is deprecated. In a future version, integer keys will always be treated as labels (consistent with DataFrame behavior). To access a value by position, use `ser.iloc[pos]`\n",
            "  categorical_features  = [i for i in range(len(data.dtypes)) if data.dtypes[i]=='object']\n",
            "C:\\Users\\Peter\\AppData\\Local\\Temp\\ipykernel_14964\\408250832.py:4: FutureWarning: Series.__getitem__ treating keys as positions is deprecated. In a future version, integer keys will always be treated as labels (consistent with DataFrame behavior). To access a value by position, use `ser.iloc[pos]`\n",
            "  categorical_features  = [i for i in range(len(data.dtypes)) if data.dtypes[i]=='object']\n",
            "C:\\Users\\Peter\\AppData\\Local\\Temp\\ipykernel_14964\\408250832.py:4: FutureWarning: Series.__getitem__ treating keys as positions is deprecated. In a future version, integer keys will always be treated as labels (consistent with DataFrame behavior). To access a value by position, use `ser.iloc[pos]`\n",
            "  categorical_features  = [i for i in range(len(data.dtypes)) if data.dtypes[i]=='object']\n",
            "C:\\Users\\Peter\\AppData\\Local\\Temp\\ipykernel_14964\\408250832.py:4: FutureWarning: Series.__getitem__ treating keys as positions is deprecated. In a future version, integer keys will always be treated as labels (consistent with DataFrame behavior). To access a value by position, use `ser.iloc[pos]`\n",
            "  categorical_features  = [i for i in range(len(data.dtypes)) if data.dtypes[i]=='object']\n",
            "C:\\Users\\Peter\\AppData\\Local\\Temp\\ipykernel_14964\\408250832.py:4: FutureWarning: Series.__getitem__ treating keys as positions is deprecated. In a future version, integer keys will always be treated as labels (consistent with DataFrame behavior). To access a value by position, use `ser.iloc[pos]`\n",
            "  categorical_features  = [i for i in range(len(data.dtypes)) if data.dtypes[i]=='object']\n"
          ]
        }
      ],
      "source": [
        "# Check if there are categorical variables that we need to make dummies for\n",
        "print(data.dtypes)\n",
        "# Get a list of which variables are categorical\n",
        "categorical_features  = [i for i in range(len(data.dtypes)) if data.dtypes[i]=='object']\n",
        "print(\"Indices of categorical features: \", categorical_features)"
      ]
    },
    {
      "cell_type": "markdown",
      "metadata": {
        "id": "nLCXpuzhq9IW"
      },
      "source": [
        "LIME will require us to provde categorical variables as a single column, not as dummies, so we can't just explode these columns the way we normally would during pre-processing.\n",
        "\n",
        "Instead, we'll use some sklearn tools to take the following steps:\n",
        "1. Encode the existing categories with a number corresponding to each category\n",
        "2. Make a dictionary storing the relationship between the original string category and the number we've replaced it with (categorical_names)\n",
        "3. Make a function that we can use down the line to transform categorical variables into dummies"
      ]
    },
    {
      "cell_type": "code",
      "execution_count": 13,
      "metadata": {
        "id": "eetKPh7hq9IW"
      },
      "outputs": [
        {
          "name": "stdout",
          "output_type": "stream",
          "text": [
            "Feature:  1\n",
            "[' ?' ' Federal-gov' ' Local-gov' ' Never-worked' ' Private'\n",
            " ' Self-emp-inc' ' Self-emp-not-inc' ' State-gov' ' Without-pay']\n",
            "==================================================\n",
            "Feature:  3\n",
            "[' 10th' ' 11th' ' 12th' ' 1st-4th' ' 5th-6th' ' 7th-8th' ' 9th'\n",
            " ' Assoc-acdm' ' Assoc-voc' ' Bachelors' ' Doctorate' ' HS-grad'\n",
            " ' Masters' ' Preschool' ' Prof-school' ' Some-college']\n",
            "==================================================\n",
            "Feature:  4\n",
            "[' Divorced' ' Married-AF-spouse' ' Married-civ-spouse'\n",
            " ' Married-spouse-absent' ' Never-married' ' Separated' ' Widowed']\n",
            "==================================================\n",
            "Feature:  5\n",
            "[' ?' ' Adm-clerical' ' Armed-Forces' ' Craft-repair' ' Exec-managerial'\n",
            " ' Farming-fishing' ' Handlers-cleaners' ' Machine-op-inspct'\n",
            " ' Other-service' ' Priv-house-serv' ' Prof-specialty' ' Protective-serv'\n",
            " ' Sales' ' Tech-support' ' Transport-moving']\n",
            "==================================================\n",
            "Feature:  6\n",
            "[' Husband' ' Not-in-family' ' Other-relative' ' Own-child' ' Unmarried'\n",
            " ' Wife']\n",
            "==================================================\n",
            "Feature:  7\n",
            "[' Amer-Indian-Eskimo' ' Asian-Pac-Islander' ' Black' ' Other' ' White']\n",
            "==================================================\n",
            "Feature:  8\n",
            "[' Female' ' Male']\n",
            "==================================================\n",
            "Feature:  12\n",
            "[' ?' ' Cambodia' ' Canada' ' China' ' Columbia' ' Cuba'\n",
            " ' Dominican-Republic' ' Ecuador' ' El-Salvador' ' England' ' France'\n",
            " ' Germany' ' Greece' ' Guatemala' ' Haiti' ' Holand-Netherlands'\n",
            " ' Honduras' ' Hong' ' Hungary' ' India' ' Iran' ' Ireland' ' Italy'\n",
            " ' Jamaica' ' Japan' ' Laos' ' Mexico' ' Nicaragua'\n",
            " ' Outlying-US(Guam-USVI-etc)' ' Peru' ' Philippines' ' Poland'\n",
            " ' Portugal' ' Puerto-Rico' ' Scotland' ' South' ' Taiwan' ' Thailand'\n",
            " ' Trinadad&Tobago' ' United-States' ' Vietnam' ' Yugoslavia']\n",
            "==================================================\n"
          ]
        }
      ],
      "source": [
        "categorical_names = {}\n",
        "for feature in categorical_features:\n",
        "    print(\"Feature: \", feature)\n",
        "    # Use label encoder to map categories to numbers\n",
        "    le = sklearn.preprocessing.LabelEncoder()\n",
        "    le.fit(data.iloc[:, feature])\n",
        "    # Replace the categories with corresponding numbers in the original data\n",
        "    data.iloc[:, feature] = le.transform(data.iloc[:, feature])\n",
        "    # Store and print the mappings for reference later\n",
        "    categorical_names[feature] = le.classes_\n",
        "    print(categorical_names[feature])\n",
        "    print(\"==================================================\")"
      ]
    },
    {
      "cell_type": "code",
      "execution_count": 14,
      "metadata": {
        "id": "K9AZ7Yhgq9IX"
      },
      "outputs": [
        {
          "data": {
            "text/plain": [
              "{1: array([' ?', ' Federal-gov', ' Local-gov', ' Never-worked', ' Private',\n",
              "        ' Self-emp-inc', ' Self-emp-not-inc', ' State-gov', ' Without-pay'],\n",
              "       dtype=object),\n",
              " 3: array([' 10th', ' 11th', ' 12th', ' 1st-4th', ' 5th-6th', ' 7th-8th',\n",
              "        ' 9th', ' Assoc-acdm', ' Assoc-voc', ' Bachelors', ' Doctorate',\n",
              "        ' HS-grad', ' Masters', ' Preschool', ' Prof-school',\n",
              "        ' Some-college'], dtype=object),\n",
              " 4: array([' Divorced', ' Married-AF-spouse', ' Married-civ-spouse',\n",
              "        ' Married-spouse-absent', ' Never-married', ' Separated',\n",
              "        ' Widowed'], dtype=object),\n",
              " 5: array([' ?', ' Adm-clerical', ' Armed-Forces', ' Craft-repair',\n",
              "        ' Exec-managerial', ' Farming-fishing', ' Handlers-cleaners',\n",
              "        ' Machine-op-inspct', ' Other-service', ' Priv-house-serv',\n",
              "        ' Prof-specialty', ' Protective-serv', ' Sales', ' Tech-support',\n",
              "        ' Transport-moving'], dtype=object),\n",
              " 6: array([' Husband', ' Not-in-family', ' Other-relative', ' Own-child',\n",
              "        ' Unmarried', ' Wife'], dtype=object),\n",
              " 7: array([' Amer-Indian-Eskimo', ' Asian-Pac-Islander', ' Black', ' Other',\n",
              "        ' White'], dtype=object),\n",
              " 8: array([' Female', ' Male'], dtype=object),\n",
              " 12: array([' ?', ' Cambodia', ' Canada', ' China', ' Columbia', ' Cuba',\n",
              "        ' Dominican-Republic', ' Ecuador', ' El-Salvador', ' England',\n",
              "        ' France', ' Germany', ' Greece', ' Guatemala', ' Haiti',\n",
              "        ' Holand-Netherlands', ' Honduras', ' Hong', ' Hungary', ' India',\n",
              "        ' Iran', ' Ireland', ' Italy', ' Jamaica', ' Japan', ' Laos',\n",
              "        ' Mexico', ' Nicaragua', ' Outlying-US(Guam-USVI-etc)', ' Peru',\n",
              "        ' Philippines', ' Poland', ' Portugal', ' Puerto-Rico',\n",
              "        ' Scotland', ' South', ' Taiwan', ' Thailand', ' Trinadad&Tobago',\n",
              "        ' United-States', ' Vietnam', ' Yugoslavia'], dtype=object)}"
            ]
          },
          "execution_count": 14,
          "metadata": {},
          "output_type": "execute_result"
        }
      ],
      "source": [
        "# This variable is where we store the original names of each category for each variable\n",
        "categorical_names"
      ]
    },
    {
      "cell_type": "code",
      "execution_count": 15,
      "metadata": {
        "id": "YmXlL0fvq9IZ"
      },
      "outputs": [],
      "source": [
        "# We can (and will) use this encoder function to transform the categorical columns into dummies--\n",
        "# but we can't do that to the original dataset if we want to use LIME\n",
        "encoder = ColumnTransformer(transformers=[('get_dummies', OneHotEncoder(), categorical_features)], remainder='passthrough')\n",
        "encoder = encoder.fit(data)"
      ]
    },
    {
      "cell_type": "markdown",
      "metadata": {
        "id": "FUZI7wvOq9Ia"
      },
      "source": [
        "### Split into training and test sets\n",
        "\n",
        "We will us an 80/20 train-test split. We won't be doing any hyperparameter tuning during this lab, so no need to worry about a validation set."
      ]
    },
    {
      "cell_type": "code",
      "execution_count": 16,
      "metadata": {
        "id": "dorpzcSgq9Ib"
      },
      "outputs": [
        {
          "name": "stdout",
          "output_type": "stream",
          "text": [
            "Train shape:  (26048, 13)\n",
            "Test shape:  (6513, 13)\n"
          ]
        }
      ],
      "source": [
        "train, test, labels_train, labels_test = sklearn.model_selection.train_test_split(data, labels, train_size=0.80, random_state=10)\n",
        "print(\"Train shape: \", train.shape)\n",
        "print(\"Test shape: \", test.shape)\n"
      ]
    },
    {
      "cell_type": "markdown",
      "metadata": {
        "id": "qfD3plyiq9Ib"
      },
      "source": [
        "***\n",
        "## Part 2: Train a model\n",
        "\n",
        "We will be using gradient boosted decision trees as implemented by the [xgboost](https://github.com/dmlc/xgboost) package."
      ]
    },
    {
      "cell_type": "code",
      "execution_count": 17,
      "metadata": {
        "id": "qNp3U31xq9Ic"
      },
      "outputs": [
        {
          "data": {
            "text/html": [
              "<style>#sk-container-id-1 {\n",
              "  /* Definition of color scheme common for light and dark mode */\n",
              "  --sklearn-color-text: black;\n",
              "  --sklearn-color-line: gray;\n",
              "  /* Definition of color scheme for unfitted estimators */\n",
              "  --sklearn-color-unfitted-level-0: #fff5e6;\n",
              "  --sklearn-color-unfitted-level-1: #f6e4d2;\n",
              "  --sklearn-color-unfitted-level-2: #ffe0b3;\n",
              "  --sklearn-color-unfitted-level-3: chocolate;\n",
              "  /* Definition of color scheme for fitted estimators */\n",
              "  --sklearn-color-fitted-level-0: #f0f8ff;\n",
              "  --sklearn-color-fitted-level-1: #d4ebff;\n",
              "  --sklearn-color-fitted-level-2: #b3dbfd;\n",
              "  --sklearn-color-fitted-level-3: cornflowerblue;\n",
              "\n",
              "  /* Specific color for light theme */\n",
              "  --sklearn-color-text-on-default-background: var(--sg-text-color, var(--theme-code-foreground, var(--jp-content-font-color1, black)));\n",
              "  --sklearn-color-background: var(--sg-background-color, var(--theme-background, var(--jp-layout-color0, white)));\n",
              "  --sklearn-color-border-box: var(--sg-text-color, var(--theme-code-foreground, var(--jp-content-font-color1, black)));\n",
              "  --sklearn-color-icon: #696969;\n",
              "\n",
              "  @media (prefers-color-scheme: dark) {\n",
              "    /* Redefinition of color scheme for dark theme */\n",
              "    --sklearn-color-text-on-default-background: var(--sg-text-color, var(--theme-code-foreground, var(--jp-content-font-color1, white)));\n",
              "    --sklearn-color-background: var(--sg-background-color, var(--theme-background, var(--jp-layout-color0, #111)));\n",
              "    --sklearn-color-border-box: var(--sg-text-color, var(--theme-code-foreground, var(--jp-content-font-color1, white)));\n",
              "    --sklearn-color-icon: #878787;\n",
              "  }\n",
              "}\n",
              "\n",
              "#sk-container-id-1 {\n",
              "  color: var(--sklearn-color-text);\n",
              "}\n",
              "\n",
              "#sk-container-id-1 pre {\n",
              "  padding: 0;\n",
              "}\n",
              "\n",
              "#sk-container-id-1 input.sk-hidden--visually {\n",
              "  border: 0;\n",
              "  clip: rect(1px 1px 1px 1px);\n",
              "  clip: rect(1px, 1px, 1px, 1px);\n",
              "  height: 1px;\n",
              "  margin: -1px;\n",
              "  overflow: hidden;\n",
              "  padding: 0;\n",
              "  position: absolute;\n",
              "  width: 1px;\n",
              "}\n",
              "\n",
              "#sk-container-id-1 div.sk-dashed-wrapped {\n",
              "  border: 1px dashed var(--sklearn-color-line);\n",
              "  margin: 0 0.4em 0.5em 0.4em;\n",
              "  box-sizing: border-box;\n",
              "  padding-bottom: 0.4em;\n",
              "  background-color: var(--sklearn-color-background);\n",
              "}\n",
              "\n",
              "#sk-container-id-1 div.sk-container {\n",
              "  /* jupyter's `normalize.less` sets `[hidden] { display: none; }`\n",
              "     but bootstrap.min.css set `[hidden] { display: none !important; }`\n",
              "     so we also need the `!important` here to be able to override the\n",
              "     default hidden behavior on the sphinx rendered scikit-learn.org.\n",
              "     See: https://github.com/scikit-learn/scikit-learn/issues/21755 */\n",
              "  display: inline-block !important;\n",
              "  position: relative;\n",
              "}\n",
              "\n",
              "#sk-container-id-1 div.sk-text-repr-fallback {\n",
              "  display: none;\n",
              "}\n",
              "\n",
              "div.sk-parallel-item,\n",
              "div.sk-serial,\n",
              "div.sk-item {\n",
              "  /* draw centered vertical line to link estimators */\n",
              "  background-image: linear-gradient(var(--sklearn-color-text-on-default-background), var(--sklearn-color-text-on-default-background));\n",
              "  background-size: 2px 100%;\n",
              "  background-repeat: no-repeat;\n",
              "  background-position: center center;\n",
              "}\n",
              "\n",
              "/* Parallel-specific style estimator block */\n",
              "\n",
              "#sk-container-id-1 div.sk-parallel-item::after {\n",
              "  content: \"\";\n",
              "  width: 100%;\n",
              "  border-bottom: 2px solid var(--sklearn-color-text-on-default-background);\n",
              "  flex-grow: 1;\n",
              "}\n",
              "\n",
              "#sk-container-id-1 div.sk-parallel {\n",
              "  display: flex;\n",
              "  align-items: stretch;\n",
              "  justify-content: center;\n",
              "  background-color: var(--sklearn-color-background);\n",
              "  position: relative;\n",
              "}\n",
              "\n",
              "#sk-container-id-1 div.sk-parallel-item {\n",
              "  display: flex;\n",
              "  flex-direction: column;\n",
              "}\n",
              "\n",
              "#sk-container-id-1 div.sk-parallel-item:first-child::after {\n",
              "  align-self: flex-end;\n",
              "  width: 50%;\n",
              "}\n",
              "\n",
              "#sk-container-id-1 div.sk-parallel-item:last-child::after {\n",
              "  align-self: flex-start;\n",
              "  width: 50%;\n",
              "}\n",
              "\n",
              "#sk-container-id-1 div.sk-parallel-item:only-child::after {\n",
              "  width: 0;\n",
              "}\n",
              "\n",
              "/* Serial-specific style estimator block */\n",
              "\n",
              "#sk-container-id-1 div.sk-serial {\n",
              "  display: flex;\n",
              "  flex-direction: column;\n",
              "  align-items: center;\n",
              "  background-color: var(--sklearn-color-background);\n",
              "  padding-right: 1em;\n",
              "  padding-left: 1em;\n",
              "}\n",
              "\n",
              "\n",
              "/* Toggleable style: style used for estimator/Pipeline/ColumnTransformer box that is\n",
              "clickable and can be expanded/collapsed.\n",
              "- Pipeline and ColumnTransformer use this feature and define the default style\n",
              "- Estimators will overwrite some part of the style using the `sk-estimator` class\n",
              "*/\n",
              "\n",
              "/* Pipeline and ColumnTransformer style (default) */\n",
              "\n",
              "#sk-container-id-1 div.sk-toggleable {\n",
              "  /* Default theme specific background. It is overwritten whether we have a\n",
              "  specific estimator or a Pipeline/ColumnTransformer */\n",
              "  background-color: var(--sklearn-color-background);\n",
              "}\n",
              "\n",
              "/* Toggleable label */\n",
              "#sk-container-id-1 label.sk-toggleable__label {\n",
              "  cursor: pointer;\n",
              "  display: block;\n",
              "  width: 100%;\n",
              "  margin-bottom: 0;\n",
              "  padding: 0.5em;\n",
              "  box-sizing: border-box;\n",
              "  text-align: center;\n",
              "}\n",
              "\n",
              "#sk-container-id-1 label.sk-toggleable__label-arrow:before {\n",
              "  /* Arrow on the left of the label */\n",
              "  content: \"▸\";\n",
              "  float: left;\n",
              "  margin-right: 0.25em;\n",
              "  color: var(--sklearn-color-icon);\n",
              "}\n",
              "\n",
              "#sk-container-id-1 label.sk-toggleable__label-arrow:hover:before {\n",
              "  color: var(--sklearn-color-text);\n",
              "}\n",
              "\n",
              "/* Toggleable content - dropdown */\n",
              "\n",
              "#sk-container-id-1 div.sk-toggleable__content {\n",
              "  max-height: 0;\n",
              "  max-width: 0;\n",
              "  overflow: hidden;\n",
              "  text-align: left;\n",
              "  /* unfitted */\n",
              "  background-color: var(--sklearn-color-unfitted-level-0);\n",
              "}\n",
              "\n",
              "#sk-container-id-1 div.sk-toggleable__content.fitted {\n",
              "  /* fitted */\n",
              "  background-color: var(--sklearn-color-fitted-level-0);\n",
              "}\n",
              "\n",
              "#sk-container-id-1 div.sk-toggleable__content pre {\n",
              "  margin: 0.2em;\n",
              "  border-radius: 0.25em;\n",
              "  color: var(--sklearn-color-text);\n",
              "  /* unfitted */\n",
              "  background-color: var(--sklearn-color-unfitted-level-0);\n",
              "}\n",
              "\n",
              "#sk-container-id-1 div.sk-toggleable__content.fitted pre {\n",
              "  /* unfitted */\n",
              "  background-color: var(--sklearn-color-fitted-level-0);\n",
              "}\n",
              "\n",
              "#sk-container-id-1 input.sk-toggleable__control:checked~div.sk-toggleable__content {\n",
              "  /* Expand drop-down */\n",
              "  max-height: 200px;\n",
              "  max-width: 100%;\n",
              "  overflow: auto;\n",
              "}\n",
              "\n",
              "#sk-container-id-1 input.sk-toggleable__control:checked~label.sk-toggleable__label-arrow:before {\n",
              "  content: \"▾\";\n",
              "}\n",
              "\n",
              "/* Pipeline/ColumnTransformer-specific style */\n",
              "\n",
              "#sk-container-id-1 div.sk-label input.sk-toggleable__control:checked~label.sk-toggleable__label {\n",
              "  color: var(--sklearn-color-text);\n",
              "  background-color: var(--sklearn-color-unfitted-level-2);\n",
              "}\n",
              "\n",
              "#sk-container-id-1 div.sk-label.fitted input.sk-toggleable__control:checked~label.sk-toggleable__label {\n",
              "  background-color: var(--sklearn-color-fitted-level-2);\n",
              "}\n",
              "\n",
              "/* Estimator-specific style */\n",
              "\n",
              "/* Colorize estimator box */\n",
              "#sk-container-id-1 div.sk-estimator input.sk-toggleable__control:checked~label.sk-toggleable__label {\n",
              "  /* unfitted */\n",
              "  background-color: var(--sklearn-color-unfitted-level-2);\n",
              "}\n",
              "\n",
              "#sk-container-id-1 div.sk-estimator.fitted input.sk-toggleable__control:checked~label.sk-toggleable__label {\n",
              "  /* fitted */\n",
              "  background-color: var(--sklearn-color-fitted-level-2);\n",
              "}\n",
              "\n",
              "#sk-container-id-1 div.sk-label label.sk-toggleable__label,\n",
              "#sk-container-id-1 div.sk-label label {\n",
              "  /* The background is the default theme color */\n",
              "  color: var(--sklearn-color-text-on-default-background);\n",
              "}\n",
              "\n",
              "/* On hover, darken the color of the background */\n",
              "#sk-container-id-1 div.sk-label:hover label.sk-toggleable__label {\n",
              "  color: var(--sklearn-color-text);\n",
              "  background-color: var(--sklearn-color-unfitted-level-2);\n",
              "}\n",
              "\n",
              "/* Label box, darken color on hover, fitted */\n",
              "#sk-container-id-1 div.sk-label.fitted:hover label.sk-toggleable__label.fitted {\n",
              "  color: var(--sklearn-color-text);\n",
              "  background-color: var(--sklearn-color-fitted-level-2);\n",
              "}\n",
              "\n",
              "/* Estimator label */\n",
              "\n",
              "#sk-container-id-1 div.sk-label label {\n",
              "  font-family: monospace;\n",
              "  font-weight: bold;\n",
              "  display: inline-block;\n",
              "  line-height: 1.2em;\n",
              "}\n",
              "\n",
              "#sk-container-id-1 div.sk-label-container {\n",
              "  text-align: center;\n",
              "}\n",
              "\n",
              "/* Estimator-specific */\n",
              "#sk-container-id-1 div.sk-estimator {\n",
              "  font-family: monospace;\n",
              "  border: 1px dotted var(--sklearn-color-border-box);\n",
              "  border-radius: 0.25em;\n",
              "  box-sizing: border-box;\n",
              "  margin-bottom: 0.5em;\n",
              "  /* unfitted */\n",
              "  background-color: var(--sklearn-color-unfitted-level-0);\n",
              "}\n",
              "\n",
              "#sk-container-id-1 div.sk-estimator.fitted {\n",
              "  /* fitted */\n",
              "  background-color: var(--sklearn-color-fitted-level-0);\n",
              "}\n",
              "\n",
              "/* on hover */\n",
              "#sk-container-id-1 div.sk-estimator:hover {\n",
              "  /* unfitted */\n",
              "  background-color: var(--sklearn-color-unfitted-level-2);\n",
              "}\n",
              "\n",
              "#sk-container-id-1 div.sk-estimator.fitted:hover {\n",
              "  /* fitted */\n",
              "  background-color: var(--sklearn-color-fitted-level-2);\n",
              "}\n",
              "\n",
              "/* Specification for estimator info (e.g. \"i\" and \"?\") */\n",
              "\n",
              "/* Common style for \"i\" and \"?\" */\n",
              "\n",
              ".sk-estimator-doc-link,\n",
              "a:link.sk-estimator-doc-link,\n",
              "a:visited.sk-estimator-doc-link {\n",
              "  float: right;\n",
              "  font-size: smaller;\n",
              "  line-height: 1em;\n",
              "  font-family: monospace;\n",
              "  background-color: var(--sklearn-color-background);\n",
              "  border-radius: 1em;\n",
              "  height: 1em;\n",
              "  width: 1em;\n",
              "  text-decoration: none !important;\n",
              "  margin-left: 1ex;\n",
              "  /* unfitted */\n",
              "  border: var(--sklearn-color-unfitted-level-1) 1pt solid;\n",
              "  color: var(--sklearn-color-unfitted-level-1);\n",
              "}\n",
              "\n",
              ".sk-estimator-doc-link.fitted,\n",
              "a:link.sk-estimator-doc-link.fitted,\n",
              "a:visited.sk-estimator-doc-link.fitted {\n",
              "  /* fitted */\n",
              "  border: var(--sklearn-color-fitted-level-1) 1pt solid;\n",
              "  color: var(--sklearn-color-fitted-level-1);\n",
              "}\n",
              "\n",
              "/* On hover */\n",
              "div.sk-estimator:hover .sk-estimator-doc-link:hover,\n",
              ".sk-estimator-doc-link:hover,\n",
              "div.sk-label-container:hover .sk-estimator-doc-link:hover,\n",
              ".sk-estimator-doc-link:hover {\n",
              "  /* unfitted */\n",
              "  background-color: var(--sklearn-color-unfitted-level-3);\n",
              "  color: var(--sklearn-color-background);\n",
              "  text-decoration: none;\n",
              "}\n",
              "\n",
              "div.sk-estimator.fitted:hover .sk-estimator-doc-link.fitted:hover,\n",
              ".sk-estimator-doc-link.fitted:hover,\n",
              "div.sk-label-container:hover .sk-estimator-doc-link.fitted:hover,\n",
              ".sk-estimator-doc-link.fitted:hover {\n",
              "  /* fitted */\n",
              "  background-color: var(--sklearn-color-fitted-level-3);\n",
              "  color: var(--sklearn-color-background);\n",
              "  text-decoration: none;\n",
              "}\n",
              "\n",
              "/* Span, style for the box shown on hovering the info icon */\n",
              ".sk-estimator-doc-link span {\n",
              "  display: none;\n",
              "  z-index: 9999;\n",
              "  position: relative;\n",
              "  font-weight: normal;\n",
              "  right: .2ex;\n",
              "  padding: .5ex;\n",
              "  margin: .5ex;\n",
              "  width: min-content;\n",
              "  min-width: 20ex;\n",
              "  max-width: 50ex;\n",
              "  color: var(--sklearn-color-text);\n",
              "  box-shadow: 2pt 2pt 4pt #999;\n",
              "  /* unfitted */\n",
              "  background: var(--sklearn-color-unfitted-level-0);\n",
              "  border: .5pt solid var(--sklearn-color-unfitted-level-3);\n",
              "}\n",
              "\n",
              ".sk-estimator-doc-link.fitted span {\n",
              "  /* fitted */\n",
              "  background: var(--sklearn-color-fitted-level-0);\n",
              "  border: var(--sklearn-color-fitted-level-3);\n",
              "}\n",
              "\n",
              ".sk-estimator-doc-link:hover span {\n",
              "  display: block;\n",
              "}\n",
              "\n",
              "/* \"?\"-specific style due to the `<a>` HTML tag */\n",
              "\n",
              "#sk-container-id-1 a.estimator_doc_link {\n",
              "  float: right;\n",
              "  font-size: 1rem;\n",
              "  line-height: 1em;\n",
              "  font-family: monospace;\n",
              "  background-color: var(--sklearn-color-background);\n",
              "  border-radius: 1rem;\n",
              "  height: 1rem;\n",
              "  width: 1rem;\n",
              "  text-decoration: none;\n",
              "  /* unfitted */\n",
              "  color: var(--sklearn-color-unfitted-level-1);\n",
              "  border: var(--sklearn-color-unfitted-level-1) 1pt solid;\n",
              "}\n",
              "\n",
              "#sk-container-id-1 a.estimator_doc_link.fitted {\n",
              "  /* fitted */\n",
              "  border: var(--sklearn-color-fitted-level-1) 1pt solid;\n",
              "  color: var(--sklearn-color-fitted-level-1);\n",
              "}\n",
              "\n",
              "/* On hover */\n",
              "#sk-container-id-1 a.estimator_doc_link:hover {\n",
              "  /* unfitted */\n",
              "  background-color: var(--sklearn-color-unfitted-level-3);\n",
              "  color: var(--sklearn-color-background);\n",
              "  text-decoration: none;\n",
              "}\n",
              "\n",
              "#sk-container-id-1 a.estimator_doc_link.fitted:hover {\n",
              "  /* fitted */\n",
              "  background-color: var(--sklearn-color-fitted-level-3);\n",
              "}\n",
              "</style><div id=\"sk-container-id-1\" class=\"sk-top-container\"><div class=\"sk-text-repr-fallback\"><pre>XGBClassifier(base_score=None, booster=None, callbacks=None,\n",
              "              colsample_bylevel=None, colsample_bynode=None,\n",
              "              colsample_bytree=None, device=None, early_stopping_rounds=None,\n",
              "              enable_categorical=False, eval_metric=None, feature_types=None,\n",
              "              gamma=None, grow_policy=None, importance_type=None,\n",
              "              interaction_constraints=None, learning_rate=None, max_bin=None,\n",
              "              max_cat_threshold=None, max_cat_to_onehot=None,\n",
              "              max_delta_step=None, max_depth=5, max_leaves=None,\n",
              "              min_child_weight=None, missing=nan, monotone_constraints=None,\n",
              "              multi_strategy=None, n_estimators=200, n_jobs=None,\n",
              "              num_parallel_tree=None, random_state=None, ...)</pre><b>In a Jupyter environment, please rerun this cell to show the HTML representation or trust the notebook. <br />On GitHub, the HTML representation is unable to render, please try loading this page with nbviewer.org.</b></div><div class=\"sk-container\" hidden><div class=\"sk-item\"><div class=\"sk-estimator fitted sk-toggleable\"><input class=\"sk-toggleable__control sk-hidden--visually\" id=\"sk-estimator-id-1\" type=\"checkbox\" checked><label for=\"sk-estimator-id-1\" class=\"sk-toggleable__label fitted sk-toggleable__label-arrow fitted\">&nbsp;XGBClassifier<span class=\"sk-estimator-doc-link fitted\">i<span>Fitted</span></span></label><div class=\"sk-toggleable__content fitted\"><pre>XGBClassifier(base_score=None, booster=None, callbacks=None,\n",
              "              colsample_bylevel=None, colsample_bynode=None,\n",
              "              colsample_bytree=None, device=None, early_stopping_rounds=None,\n",
              "              enable_categorical=False, eval_metric=None, feature_types=None,\n",
              "              gamma=None, grow_policy=None, importance_type=None,\n",
              "              interaction_constraints=None, learning_rate=None, max_bin=None,\n",
              "              max_cat_threshold=None, max_cat_to_onehot=None,\n",
              "              max_delta_step=None, max_depth=5, max_leaves=None,\n",
              "              min_child_weight=None, missing=nan, monotone_constraints=None,\n",
              "              multi_strategy=None, n_estimators=200, n_jobs=None,\n",
              "              num_parallel_tree=None, random_state=None, ...)</pre></div> </div></div></div></div>"
            ],
            "text/plain": [
              "XGBClassifier(base_score=None, booster=None, callbacks=None,\n",
              "              colsample_bylevel=None, colsample_bynode=None,\n",
              "              colsample_bytree=None, device=None, early_stopping_rounds=None,\n",
              "              enable_categorical=False, eval_metric=None, feature_types=None,\n",
              "              gamma=None, grow_policy=None, importance_type=None,\n",
              "              interaction_constraints=None, learning_rate=None, max_bin=None,\n",
              "              max_cat_threshold=None, max_cat_to_onehot=None,\n",
              "              max_delta_step=None, max_depth=5, max_leaves=None,\n",
              "              min_child_weight=None, missing=nan, monotone_constraints=None,\n",
              "              multi_strategy=None, n_estimators=200, n_jobs=None,\n",
              "              num_parallel_tree=None, random_state=None, ...)"
            ]
          },
          "execution_count": 17,
          "metadata": {},
          "output_type": "execute_result"
        }
      ],
      "source": [
        "# Fit the model\n",
        "gbtree = xgboost.XGBClassifier(n_estimators=200, max_depth=5)\n",
        "gbtree.fit(encoder.transform(train), labels_train)"
      ]
    },
    {
      "cell_type": "code",
      "execution_count": 18,
      "metadata": {
        "id": "tGqRGKPWq9Id"
      },
      "outputs": [
        {
          "name": "stdout",
          "output_type": "stream",
          "text": [
            "Test set accuracy:  0.866421004145555\n"
          ]
        }
      ],
      "source": [
        "# Make predictions\n",
        "pred_labels_test = gbtree.predict(encoder.transform(test))\n",
        "\n",
        "# Calculate accuracy on the test set\n",
        "print(\"Test set accuracy: \", sklearn.metrics.accuracy_score(labels_test, pred_labels_test))"
      ]
    },
    {
      "cell_type": "markdown",
      "metadata": {
        "id": "rQL9f5XGq9Ie"
      },
      "source": [
        "***\n",
        "## Part 3: Explaining predictions the usual way\n",
        "\n"
      ]
    },
    {
      "cell_type": "markdown",
      "metadata": {
        "id": "tUV4Lpp9q9Ig"
      },
      "source": [
        "### **Questions:**\n",
        "*Hint:* Google is your best friend!\n",
        "1. How would you normally explain the predictions of a single decision tree?\n",
        "\n",
        "    **Write answer here:** Prediction of a single decision tree are made with mutiple factors. I would first analyze the structure, noting decision nodes, leaf nodes, and the root node as well as understanding how deep the tree goes. Predicitons are made by the path choices made at a decision node and understanding the feature importance at every level when traversing the tree until the leaf node. The only difficulty with a prediciton of a single decision tree would be the problem of overfitting. \n"
      ]
    },
    {
      "cell_type": "markdown",
      "metadata": {
        "id": "GrTHcz9ASiOl"
      },
      "source": [
        "2. What is a gradient boosted decision tree?\n",
        "\n",
        "    **Write answer here:** Unlike a single decision tree, a gradient boosting decision tree utilizes gradient boosting with a sequence of decision trees in a ensemble, building a better tree compared to the previous through iterations that has better testing accuracy. At the end of training, the model would produce a decision tree with more accurate prediction performance.  "
      ]
    },
    {
      "cell_type": "markdown",
      "metadata": {
        "id": "84wwbcOXSjx1"
      },
      "source": [
        "3. Does that change for a gradient boosted decision tree?\n",
        "\n",
        "    **Write answer here:**\n",
        "\n"
      ]
    },
    {
      "cell_type": "markdown",
      "metadata": {
        "id": "6Vvh_RxXR3Lg"
      },
      "source": [
        "We're going to be looking at a measure of feature importance. This is calculated for a single tree by counting how many splits occured on each variable. We arrive at a feature importance for the entire model by averaging the score for each feature across all trees in the forest.\n"
      ]
    },
    {
      "cell_type": "code",
      "execution_count": null,
      "metadata": {
        "id": "crE6trorq9Ih"
      },
      "outputs": [],
      "source": [
        "# Get feature names for the transformed dataset so that they'll show up on the plot -- don't worry about this bit\n",
        "gbtree_features_orig = gbtree.get_booster().feature_names\n",
        "gbtree_features = []\n",
        "for cat_var in categorical_names:\n",
        "    cat_var_names = [feature_names[cat_var] +\" = \" + cat for cat in categorical_names[cat_var]]\n",
        "    gbtree_features.extend(cat_var_names)\n",
        "gbtree_features.extend([feature_names[i] for i in range(len(feature_names)) if i not in categorical_features])\n",
        "gbtree.get_booster().feature_names = gbtree_features\n",
        "\n",
        "# Plot feature importances\n",
        "plt.rcParams[\"figure.figsize\"] = (10,20)\n",
        "plot_importance(gbtree.get_booster())"
      ]
    },
    {
      "cell_type": "markdown",
      "metadata": {
        "id": "pd-cRCaoq9Ii"
      },
      "source": [
        "Pick an interesting feature with a high importance in the plot above. Can you figure out the relationship of that feature with the outcome variable? (Is a higher or lower value more likely to indicate a high-income individual? For binary variables, is it 0 or 1?)"
      ]
    },
    {
      "cell_type": "code",
      "execution_count": null,
      "metadata": {
        "id": "r6xqC8xaq9Ii"
      },
      "outputs": [],
      "source": [
        "# TODO - Your code here"
      ]
    },
    {
      "cell_type": "markdown",
      "metadata": {
        "id": "-j1NGR73q9I4"
      },
      "source": [
        "The plot_importance function takes a parameter called 'importance_type', which you can read more about [in the documentation](https://xgboost.readthedocs.io/en/latest/python/python_api.html#module-xgboost.plotting). Try changing the importance type and re-making the plot. How does our explanation change?"
      ]
    },
    {
      "cell_type": "code",
      "execution_count": null,
      "metadata": {
        "id": "uMZtvdzXq9I5"
      },
      "outputs": [],
      "source": [
        "# TODO - Your code here"
      ]
    },
    {
      "cell_type": "code",
      "execution_count": null,
      "metadata": {
        "id": "m2Na9ju_q9I6"
      },
      "outputs": [],
      "source": [
        "# Replace the original feature names, which LIME will expect\n",
        "gbtree.get_booster().feature_names = gbtree_features_orig"
      ]
    },
    {
      "cell_type": "markdown",
      "metadata": {
        "id": "jAhSESA_q9I6"
      },
      "source": [
        "***\n",
        "## Part 4: Explaining predictions with LIME\n",
        "\n",
        "Time for LIME!"
      ]
    },
    {
      "cell_type": "markdown",
      "metadata": {
        "id": "7hov3P0uPx-O"
      },
      "source": [
        "### LIME Tabular Explainer\n",
        "\n",
        "The tabular explainer is how we get locally interpretable explanations for classification problems.\n",
        "\n",
        "First, we initialize an explainer object that takes in all the information we stored/encoded earlier about the dataset."
      ]
    },
    {
      "cell_type": "code",
      "execution_count": null,
      "metadata": {
        "id": "-6RMsMWsq9I7"
      },
      "outputs": [],
      "source": [
        "explainer = lime.lime_tabular.LimeTabularExplainer(train.values,\n",
        "                                                   feature_names=feature_names,\n",
        "                                                   class_names=class_names,\n",
        "                                                   categorical_features=categorical_features,\n",
        "                                                   categorical_names=categorical_names)"
      ]
    },
    {
      "cell_type": "markdown",
      "metadata": {
        "id": "X_8ZuaqIq9I7"
      },
      "source": [
        "Next, we need to define a single function that takes in the form of data that LIME expects and returns the type of prediction that LIME expects. In particular,\n",
        "- the input should be a numpy array (which we can get from a pandas df using .values)\n",
        "- the input features should be human-understandable\n",
        "- the input data should have each categorical variable in a single column\n",
        "- the output should be a predicted probability (not a predicted class)"
      ]
    },
    {
      "cell_type": "code",
      "execution_count": null,
      "metadata": {
        "id": "JygO8Hu7q9I8"
      },
      "outputs": [],
      "source": [
        "predict_fn = lambda x: gbtree.predict_proba(encoder.transform(x)).astype(float)"
      ]
    },
    {
      "cell_type": "markdown",
      "metadata": {
        "id": "CEwAQi8Zq9I9"
      },
      "source": [
        "Now we have everything we need to use the explainer. Let's get an explanation for one of the examples in the test set."
      ]
    },
    {
      "cell_type": "code",
      "execution_count": null,
      "metadata": {
        "id": "2Tn42gAtq9I-"
      },
      "outputs": [],
      "source": [
        "i = 2\n",
        "print('Actual class: ', labels_test[i])\n",
        "# Get explanation\n",
        "exp = explainer.explain_instance((test.values[i]), predict_fn, num_features=5)"
      ]
    },
    {
      "cell_type": "code",
      "execution_count": null,
      "metadata": {
        "id": "J_Gq5gfTq9I_"
      },
      "outputs": [],
      "source": [
        "# Visualize the explanation\n",
        "%matplotlib inline\n",
        "fig = exp.as_pyplot_figure()"
      ]
    },
    {
      "cell_type": "markdown",
      "metadata": {
        "id": "hU6Z7Vchq9JA"
      },
      "source": [
        "The explanations can also be exported as an html page (which we can render here in this notebook), using D3.js to render graphs. You could also save the html page to a file if you wanted to."
      ]
    },
    {
      "cell_type": "code",
      "execution_count": null,
      "metadata": {
        "id": "YC2AmRIiq9JA"
      },
      "outputs": [],
      "source": [
        "exp.show_in_notebook(show_all=True)"
      ]
    },
    {
      "cell_type": "markdown",
      "metadata": {
        "id": "3-e0HCinq9JJ"
      },
      "source": [
        "The explanation can also be presented as a list of weighted features."
      ]
    },
    {
      "cell_type": "code",
      "execution_count": null,
      "metadata": {
        "id": "TDedXxbZq9JK"
      },
      "outputs": [],
      "source": [
        "exp.as_list()"
      ]
    },
    {
      "cell_type": "markdown",
      "metadata": {
        "id": "aEwIFNwiq9JK"
      },
      "source": [
        "### **Questions:**\n",
        "4. How do we interpret this plot? That is, what do red and green mean? What's on the x axis?\n",
        "\n",
        "    **Write answer here:**"
      ]
    },
    {
      "cell_type": "markdown",
      "metadata": {
        "id": "KmidheqATuDq"
      },
      "source": [
        "5. How does this explanation differ from the feature importance explanation given above?\n",
        "\n",
        "    **Write answer here:**\n"
      ]
    },
    {
      "cell_type": "markdown",
      "metadata": {
        "id": "zkNUXfPNUHu5"
      },
      "source": [
        "### **TODO - Generate LIME explanations (in whichever format you chose) for some other examples in the test set. Are similar features important? Add text + code cells below**"
      ]
    },
    {
      "cell_type": "markdown",
      "metadata": {
        "id": "ncnzPDQUq9JL"
      },
      "source": [
        "### LIME Submodular Picker\n",
        "\n",
        "As we just saw, explanations can vary a lot depending on what instance we pick. While this is great for explaining a single prediction, it makes it hard to give someone general intuition for \"how the model makes decisions.\" That's where the submodular picker comes in. It picks useful, representative examples that together give global explanation for the model.\n",
        "\n",
        "In broad strokes, the algorithm does the following:\n",
        "1. Calculate an explanation for all examples in the dataset\n",
        "2. Determine which features are important in explaining a lot of predictions -- that is, features that seem globally important\n",
        "3. Select (greedily) examples where the top globally important feature is part of the local explanation for that one example's prediction\n",
        "3. Continue selecting examples until we've covered as many of the globally important features as possible, constrained by the number of features that the user wants returned (num_exps_desired)\n",
        "\n",
        "You can read the details of how this is done in the paper."
      ]
    },
    {
      "cell_type": "code",
      "execution_count": null,
      "metadata": {
        "id": "zMga3Fkzq9JL"
      },
      "outputs": [],
      "source": [
        "# Initialize the SP object\n",
        "sp_obj = submodular_pick.SubmodularPick(explainer, train.values, predict_fn, sample_size=10,\n",
        "                                        num_features=5, num_exps_desired=5)"
      ]
    },
    {
      "cell_type": "markdown",
      "metadata": {
        "id": "-ub4Zpf0q9JM"
      },
      "source": [
        "The attribute V tells us the best indices from the test set to explain the overall predictions of the classifier."
      ]
    },
    {
      "cell_type": "code",
      "execution_count": null,
      "metadata": {
        "id": "fFWAZSh6q9JM"
      },
      "outputs": [],
      "source": [
        "sp_obj.V"
      ]
    },
    {
      "cell_type": "markdown",
      "metadata": {
        "id": "8_dwJfBGq9JN"
      },
      "source": [
        "Now, we can get explantions for each of those examples:"
      ]
    },
    {
      "cell_type": "code",
      "execution_count": null,
      "metadata": {
        "id": "u9VwYBLwq9JN"
      },
      "outputs": [],
      "source": [
        "for ind in sp_obj.V:\n",
        "    exp = explainer.explain_instance(test.values[ind], predict_fn, num_features=5)\n",
        "    print(\"Actual class: \", labels_test[ind])\n",
        "    exp.show_in_notebook(show_all=False)\n",
        "    print(\"==========================\")"
      ]
    },
    {
      "cell_type": "markdown",
      "metadata": {
        "id": "3ktCjp5zq9Jr"
      },
      "source": [
        "### **Question:**\n",
        "\n",
        "6. Based on these carefully chosen examples, what would you say to someone who wanted to know how our model makes decisions?\n",
        "\n",
        "    **Write answer here:**\n"
      ]
    }
  ],
  "metadata": {
    "colab": {
      "provenance": []
    },
    "kernelspec": {
      "display_name": "Python 3",
      "language": "python",
      "name": "python3"
    },
    "language_info": {
      "codemirror_mode": {
        "name": "ipython",
        "version": 3
      },
      "file_extension": ".py",
      "mimetype": "text/x-python",
      "name": "python",
      "nbconvert_exporter": "python",
      "pygments_lexer": "ipython3",
      "version": "3.11.3"
    }
  },
  "nbformat": 4,
  "nbformat_minor": 0
}
