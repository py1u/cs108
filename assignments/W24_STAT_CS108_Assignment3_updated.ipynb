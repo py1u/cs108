{
  "cells": [
    {
      "cell_type": "markdown",
      "metadata": {
        "id": "vwq_ZK35q9H5"
      },
      "source": [
        "# LIME - Local Interpretable Model-Agnostic Explanations\n",
        "\n",
        "This assignment uses LIME, a package that provides \"Locally Interpetable Model-agnostic Explanations\" for machine learning models.\n",
        "\n",
        "- **Locally interpretable**: for each specific prediction, we can provide a relevant explanation.\n",
        "- **Model-agnostic**: we can provide the same sort of explanation for models of different classes.\n",
        "\n",
        "For more documentation of the LIME package, see [here](https://github.com/marcotcr/lime) and [here](https://lime-ml.readthedocs.io/en/latest/index.html). The original paper describing the method is [here](https://arxiv.org/pdf/1602.04938.pdf)."
      ]
    },
    {
      "cell_type": "code",
      "execution_count": null,
      "metadata": {
        "id": "P5Cca7_drV8g"
      },
      "outputs": [],
      "source": [
        "!pip install lime # if you are running on JupyterLab, use !/opt/anaconda/bin/pip\n",
        "!pip install xgboost"
      ]
    },
    {
      "cell_type": "code",
      "execution_count": null,
      "metadata": {
        "id": "_sEEdxC0q9IK"
      },
      "outputs": [],
      "source": [
        "%matplotlib inline\n",
        "\n",
        "import sklearn.model_selection\n",
        "import sklearn.metrics\n",
        "import sklearn.datasets\n",
        "import sklearn.ensemble\n",
        "import sklearn.preprocessing\n",
        "from sklearn.compose import ColumnTransformer\n",
        "from sklearn.preprocessing import OneHotEncoder\n",
        "from sklearn.linear_model import LogisticRegression\n",
        "from sklearn.preprocessing import StandardScaler\n",
        "from sklearn.metrics import accuracy_score\n",
        "import numpy as np\n",
        "from IPython.display import Markdown, display\n",
        "import matplotlib.pyplot as plt\n",
        "import warnings\n",
        "import lime\n",
        "import lime.lime_tabular\n",
        "from lime import submodular_pick\n",
        "import xgboost\n",
        "from xgboost import plot_importance\n",
        "import json\n",
        "from collections import OrderedDict\n",
        "\n",
        "import pandas as pd\n",
        "\n",
        "np.random.seed(1)"
      ]
    },
    {
      "cell_type": "markdown",
      "metadata": {
        "id": "eR1b4tyQq9IM"
      },
      "source": [
        "***\n",
        "## Part 1: Prepare the data"
      ]
    },
    {
      "cell_type": "markdown",
      "metadata": {
        "id": "LhM5lhswq9IM"
      },
      "source": [
        "We will be using the Adult dataset which we can use to predict whether a person makes over 50K dollars per year based on census information. A version of the dataset is found on UCI ML Repository : [here](https://archive.ics.uci.edu/ml/datasets/adult)."
      ]
    },
    {
      "cell_type": "markdown",
      "metadata": {
        "id": "KV9s8V2iq9IO"
      },
      "source": [
        "### Read in the data"
      ]
    },
    {
      "cell_type": "code",
      "execution_count": null,
      "metadata": {
        "id": "Mx0PKgRUq9IO"
      },
      "outputs": [],
      "source": [
        "# Read in the data\n",
        "colnames = [\"Age\", \"Workclass\", \"fnlwgt\", \"Education\", \"Education-Num\",\n",
        "            \"Marital-Status\", \"Occupation\", \"Relationship\", \"Race\", \"Sex\",\n",
        "            \"Capital-Gain\", \"Capital-Loss\",\"Hours-per-week\", \"Country\",\n",
        "            \"income\"]\n",
        "data_df = pd.read_csv('http://archive.ics.uci.edu/ml/machine-learning-databases/adult/adult.data',\n",
        "                      names = colnames)\n",
        "print(\"Shape: \", data_df.shape)\n",
        "data_df.head()"
      ]
    },
    {
      "cell_type": "markdown",
      "metadata": {
        "id": "gl6mTdX2q9IQ"
      },
      "source": [
        "### Clean the data"
      ]
    },
    {
      "cell_type": "code",
      "execution_count": null,
      "metadata": {
        "id": "buhCTvcuq9IR"
      },
      "outputs": [],
      "source": [
        "# TODO - Drop Education-Num, which has a functional dependency with Education\n"
      ]
    },
    {
      "cell_type": "code",
      "execution_count": null,
      "metadata": {
        "id": "RpadUNmNq9IT"
      },
      "outputs": [],
      "source": [
        "# Get a list of feature names (excluding the outcome variable)\n",
        "feature_names = data_df.columns[:-1]"
      ]
    },
    {
      "cell_type": "code",
      "execution_count": null,
      "metadata": {
        "id": "RNtzudwOq9IT"
      },
      "outputs": [],
      "source": [
        "# Mark labels and encode them using sklearn\n",
        "labels = data_df.iloc[:,-1]\n",
        "le= sklearn.preprocessing.LabelEncoder()\n",
        "le.fit(labels)\n",
        "labels = le.transform(labels)\n",
        "class_names = le.classes_\n",
        "data = data_df.iloc[:,:-1]\n",
        "le_label_mapping = dict(zip(le.classes_, le.transform(le.classes_)))\n",
        "print(\"Class names: \", class_names)\n",
        "print(\"Label mapping: \", le_label_mapping)"
      ]
    },
    {
      "cell_type": "code",
      "execution_count": null,
      "metadata": {
        "id": "7w56XCNeq9IU"
      },
      "outputs": [],
      "source": [
        "# Check if there are categorical variables that we need to make dummies for\n",
        "print(data.dtypes)\n",
        "# Get a list of which variables are categorical\n",
        "categorical_features  = [i for i in range(len(data.dtypes)) if data.dtypes[i]=='object']\n",
        "print(\"Indices of categorical features: \", categorical_features)"
      ]
    },
    {
      "cell_type": "markdown",
      "metadata": {
        "id": "nLCXpuzhq9IW"
      },
      "source": [
        "LIME will require us to provde categorical variables as a single column, not as dummies, so we can't just explode these columns the way we normally would during pre-processing.\n",
        "\n",
        "Instead, we'll use some sklearn tools to take the following steps:\n",
        "1. Encode the existing categories with a number corresponding to each category\n",
        "2. Make a dictionary storing the relationship between the original string category and the number we've replaced it with (categorical_names)\n",
        "3. Make a function that we can use down the line to transform categorical variables into dummies"
      ]
    },
    {
      "cell_type": "code",
      "execution_count": null,
      "metadata": {
        "id": "eetKPh7hq9IW"
      },
      "outputs": [],
      "source": [
        "categorical_names = {}\n",
        "for feature in categorical_features:\n",
        "    print(\"Feature: \", feature)\n",
        "    # Use label encoder to map categories to numbers\n",
        "    le = sklearn.preprocessing.LabelEncoder()\n",
        "    le.fit(data.iloc[:, feature])\n",
        "    # Replace the categories with corresponding numbers in the original data\n",
        "    data.iloc[:, feature] = le.transform(data.iloc[:, feature])\n",
        "    # Store and print the mappings for reference later\n",
        "    categorical_names[feature] = le.classes_\n",
        "    print(categorical_names[feature])\n",
        "    print(\"==================================================\")"
      ]
    },
    {
      "cell_type": "code",
      "execution_count": null,
      "metadata": {
        "id": "K9AZ7Yhgq9IX"
      },
      "outputs": [],
      "source": [
        "# This variable is where we store the original names of each category for each variable\n",
        "categorical_names"
      ]
    },
    {
      "cell_type": "code",
      "execution_count": null,
      "metadata": {
        "id": "YmXlL0fvq9IZ"
      },
      "outputs": [],
      "source": [
        "# We can (and will) use this encoder function to transform the categorical columns into dummies--\n",
        "# but we can't do that to the original dataset if we want to use LIME\n",
        "encoder = ColumnTransformer(transformers=[('get_dummies', OneHotEncoder(), categorical_features)], remainder='passthrough')\n",
        "encoder = encoder.fit(data)"
      ]
    },
    {
      "cell_type": "markdown",
      "metadata": {
        "id": "FUZI7wvOq9Ia"
      },
      "source": [
        "### Split into training and test sets\n",
        "\n",
        "We will us an 80/20 train-test split. We won't be doing any hyperparameter tuning during this lab, so no need to worry about a validation set."
      ]
    },
    {
      "cell_type": "code",
      "execution_count": null,
      "metadata": {
        "id": "dorpzcSgq9Ib"
      },
      "outputs": [],
      "source": [
        "train, test, labels_train, labels_test = sklearn.model_selection.train_test_split(data, labels, train_size=0.80, random_state=10)\n",
        "print(\"Train shape: \", train.shape)\n",
        "print(\"Test shape: \", test.shape)\n"
      ]
    },
    {
      "cell_type": "markdown",
      "metadata": {
        "id": "qfD3plyiq9Ib"
      },
      "source": [
        "***\n",
        "## Part 2: Train a model\n",
        "\n",
        "We will be using gradient boosted decision trees as implemented by the [xgboost](https://github.com/dmlc/xgboost) package."
      ]
    },
    {
      "cell_type": "code",
      "execution_count": null,
      "metadata": {
        "id": "qNp3U31xq9Ic"
      },
      "outputs": [],
      "source": [
        "# Fit the model\n",
        "gbtree = xgboost.XGBClassifier(n_estimators=200, max_depth=5)\n",
        "gbtree.fit(encoder.transform(train), labels_train)"
      ]
    },
    {
      "cell_type": "code",
      "execution_count": null,
      "metadata": {
        "id": "tGqRGKPWq9Id"
      },
      "outputs": [],
      "source": [
        "# Make predictions\n",
        "pred_labels_test = gbtree.predict(encoder.transform(test))\n",
        "\n",
        "# Calculate accuracy on the test set\n",
        "print(\"Test set accuracy: \", sklearn.metrics.accuracy_score(labels_test, pred_labels_test))"
      ]
    },
    {
      "cell_type": "markdown",
      "metadata": {
        "id": "rQL9f5XGq9Ie"
      },
      "source": [
        "***\n",
        "## Part 3: Explaining predictions the usual way\n",
        "\n"
      ]
    },
    {
      "cell_type": "markdown",
      "metadata": {
        "id": "tUV4Lpp9q9Ig"
      },
      "source": [
        "### **Questions:**\n",
        "*Hint:* Google is your best friend!\n",
        "1. How would you normally explain the predictions of a single decision tree?\n",
        "\n",
        "    **Write answer here:**\n"
      ]
    },
    {
      "cell_type": "markdown",
      "source": [
        "2. What is a gradient boosted decision tree?\n",
        "\n",
        "    **Write answer here:**"
      ],
      "metadata": {
        "id": "GrTHcz9ASiOl"
      }
    },
    {
      "cell_type": "markdown",
      "source": [
        "3. Does that change for a gradient boosted decision tree?\n",
        "\n",
        "    **Write answer here:**\n",
        "\n"
      ],
      "metadata": {
        "id": "84wwbcOXSjx1"
      }
    },
    {
      "cell_type": "markdown",
      "source": [
        "We're going to be looking at a measure of feature importance. This is calculated for a single tree by counting how many splits occured on each variable. We arrive at a feature importance for the entire model by averaging the score for each feature across all trees in the forest.\n"
      ],
      "metadata": {
        "id": "6Vvh_RxXR3Lg"
      }
    },
    {
      "cell_type": "code",
      "execution_count": null,
      "metadata": {
        "id": "crE6trorq9Ih"
      },
      "outputs": [],
      "source": [
        "# Get feature names for the transformed dataset so that they'll show up on the plot -- don't worry about this bit\n",
        "gbtree_features_orig = gbtree.get_booster().feature_names\n",
        "gbtree_features = []\n",
        "for cat_var in categorical_names:\n",
        "    cat_var_names = [feature_names[cat_var] +\" = \" + cat for cat in categorical_names[cat_var]]\n",
        "    gbtree_features.extend(cat_var_names)\n",
        "gbtree_features.extend([feature_names[i] for i in range(len(feature_names)) if i not in categorical_features])\n",
        "gbtree.get_booster().feature_names = gbtree_features\n",
        "\n",
        "# Plot feature importances\n",
        "plt.rcParams[\"figure.figsize\"] = (10,20)\n",
        "plot_importance(gbtree.get_booster())"
      ]
    },
    {
      "cell_type": "markdown",
      "metadata": {
        "id": "pd-cRCaoq9Ii"
      },
      "source": [
        "Pick an interesting feature with a high importance in the plot above. Can you figure out the relationship of that feature with the outcome variable? (Is a higher or lower value more likely to indicate a high-income individual? For binary variables, is it 0 or 1?)"
      ]
    },
    {
      "cell_type": "code",
      "execution_count": null,
      "metadata": {
        "id": "r6xqC8xaq9Ii"
      },
      "outputs": [],
      "source": [
        "# TODO - Your code here"
      ]
    },
    {
      "cell_type": "markdown",
      "metadata": {
        "id": "-j1NGR73q9I4"
      },
      "source": [
        "The plot_importance function takes a parameter called 'importance_type', which you can read more about [in the documentation](https://xgboost.readthedocs.io/en/latest/python/python_api.html#module-xgboost.plotting). Try changing the importance type and re-making the plot. How does our explanation change?"
      ]
    },
    {
      "cell_type": "code",
      "execution_count": null,
      "metadata": {
        "id": "uMZtvdzXq9I5"
      },
      "outputs": [],
      "source": [
        "# TODO - Your code here"
      ]
    },
    {
      "cell_type": "code",
      "execution_count": null,
      "metadata": {
        "id": "m2Na9ju_q9I6"
      },
      "outputs": [],
      "source": [
        "# Replace the original feature names, which LIME will expect\n",
        "gbtree.get_booster().feature_names = gbtree_features_orig"
      ]
    },
    {
      "cell_type": "markdown",
      "metadata": {
        "id": "jAhSESA_q9I6"
      },
      "source": [
        "***\n",
        "## Part 4: Explaining predictions with LIME\n",
        "\n",
        "Time for LIME!"
      ]
    },
    {
      "cell_type": "markdown",
      "metadata": {
        "id": "7hov3P0uPx-O"
      },
      "source": [
        "### LIME Tabular Explainer\n",
        "\n",
        "The tabular explainer is how we get locally interpretable explanations for classification problems.\n",
        "\n",
        "First, we initialize an explainer object that takes in all the information we stored/encoded earlier about the dataset."
      ]
    },
    {
      "cell_type": "code",
      "execution_count": null,
      "metadata": {
        "id": "-6RMsMWsq9I7"
      },
      "outputs": [],
      "source": [
        "explainer = lime.lime_tabular.LimeTabularExplainer(train.values,\n",
        "                                                   feature_names=feature_names,\n",
        "                                                   class_names=class_names,\n",
        "                                                   categorical_features=categorical_features,\n",
        "                                                   categorical_names=categorical_names)"
      ]
    },
    {
      "cell_type": "markdown",
      "metadata": {
        "id": "X_8ZuaqIq9I7"
      },
      "source": [
        "Next, we need to define a single function that takes in the form of data that LIME expects and returns the type of prediction that LIME expects. In particular,\n",
        "- the input should be a numpy array (which we can get from a pandas df using .values)\n",
        "- the input features should be human-understandable\n",
        "- the input data should have each categorical variable in a single column\n",
        "- the output should be a predicted probability (not a predicted class)"
      ]
    },
    {
      "cell_type": "code",
      "execution_count": null,
      "metadata": {
        "id": "JygO8Hu7q9I8"
      },
      "outputs": [],
      "source": [
        "predict_fn = lambda x: gbtree.predict_proba(encoder.transform(x)).astype(float)"
      ]
    },
    {
      "cell_type": "markdown",
      "metadata": {
        "id": "CEwAQi8Zq9I9"
      },
      "source": [
        "Now we have everything we need to use the explainer. Let's get an explanation for one of the examples in the test set."
      ]
    },
    {
      "cell_type": "code",
      "execution_count": null,
      "metadata": {
        "id": "2Tn42gAtq9I-"
      },
      "outputs": [],
      "source": [
        "i = 2\n",
        "print('Actual class: ', labels_test[i])\n",
        "# Get explanation\n",
        "exp = explainer.explain_instance((test.values[i]), predict_fn, num_features=5)"
      ]
    },
    {
      "cell_type": "code",
      "execution_count": null,
      "metadata": {
        "id": "J_Gq5gfTq9I_"
      },
      "outputs": [],
      "source": [
        "# Visualize the explanation\n",
        "%matplotlib inline\n",
        "fig = exp.as_pyplot_figure()"
      ]
    },
    {
      "cell_type": "markdown",
      "metadata": {
        "id": "hU6Z7Vchq9JA"
      },
      "source": [
        "The explanations can also be exported as an html page (which we can render here in this notebook), using D3.js to render graphs. You could also save the html page to a file if you wanted to."
      ]
    },
    {
      "cell_type": "code",
      "execution_count": null,
      "metadata": {
        "id": "YC2AmRIiq9JA"
      },
      "outputs": [],
      "source": [
        "exp.show_in_notebook(show_all=True)"
      ]
    },
    {
      "cell_type": "markdown",
      "metadata": {
        "id": "3-e0HCinq9JJ"
      },
      "source": [
        "The explanation can also be presented as a list of weighted features."
      ]
    },
    {
      "cell_type": "code",
      "execution_count": null,
      "metadata": {
        "id": "TDedXxbZq9JK"
      },
      "outputs": [],
      "source": [
        "exp.as_list()"
      ]
    },
    {
      "cell_type": "markdown",
      "metadata": {
        "id": "aEwIFNwiq9JK"
      },
      "source": [
        "### **Questions:**\n",
        "4. How do we interpret this plot? That is, what do red and green mean? What's on the x axis?\n",
        "\n",
        "    **Write answer here:**"
      ]
    },
    {
      "cell_type": "markdown",
      "source": [
        "5. How does this explanation differ from the feature importance explanation given above?\n",
        "\n",
        "    **Write answer here:**\n"
      ],
      "metadata": {
        "id": "KmidheqATuDq"
      }
    },
    {
      "cell_type": "markdown",
      "source": [
        "### **TODO - Generate LIME explanations (in whichever format you chose) for some other examples in the test set. Are similar features important? Add text + code cells below**"
      ],
      "metadata": {
        "id": "zkNUXfPNUHu5"
      }
    },
    {
      "cell_type": "markdown",
      "metadata": {
        "id": "ncnzPDQUq9JL"
      },
      "source": [
        "### LIME Submodular Picker\n",
        "\n",
        "As we just saw, explanations can vary a lot depending on what instance we pick. While this is great for explaining a single prediction, it makes it hard to give someone general intuition for \"how the model makes decisions.\" That's where the submodular picker comes in. It picks useful, representative examples that together give global explanation for the model.\n",
        "\n",
        "In broad strokes, the algorithm does the following:\n",
        "1. Calculate an explanation for all examples in the dataset\n",
        "2. Determine which features are important in explaining a lot of predictions -- that is, features that seem globally important\n",
        "3. Select (greedily) examples where the top globally important feature is part of the local explanation for that one example's prediction\n",
        "3. Continue selecting examples until we've covered as many of the globally important features as possible, constrained by the number of features that the user wants returned (num_exps_desired)\n",
        "\n",
        "You can read the details of how this is done in the paper."
      ]
    },
    {
      "cell_type": "code",
      "execution_count": null,
      "metadata": {
        "id": "zMga3Fkzq9JL"
      },
      "outputs": [],
      "source": [
        "# Initialize the SP object\n",
        "sp_obj = submodular_pick.SubmodularPick(explainer, train.values, predict_fn, sample_size=10,\n",
        "                                        num_features=5, num_exps_desired=5)"
      ]
    },
    {
      "cell_type": "markdown",
      "metadata": {
        "id": "-ub4Zpf0q9JM"
      },
      "source": [
        "The attribute V tells us the best indices from the test set to explain the overall predictions of the classifier."
      ]
    },
    {
      "cell_type": "code",
      "execution_count": null,
      "metadata": {
        "id": "fFWAZSh6q9JM"
      },
      "outputs": [],
      "source": [
        "sp_obj.V"
      ]
    },
    {
      "cell_type": "markdown",
      "metadata": {
        "id": "8_dwJfBGq9JN"
      },
      "source": [
        "Now, we can get explantions for each of those examples:"
      ]
    },
    {
      "cell_type": "code",
      "execution_count": null,
      "metadata": {
        "id": "u9VwYBLwq9JN"
      },
      "outputs": [],
      "source": [
        "for ind in sp_obj.V:\n",
        "    exp = explainer.explain_instance(test.values[ind], predict_fn, num_features=5)\n",
        "    print(\"Actual class: \", labels_test[ind])\n",
        "    exp.show_in_notebook(show_all=False)\n",
        "    print(\"==========================\")"
      ]
    },
    {
      "cell_type": "markdown",
      "metadata": {
        "id": "3ktCjp5zq9Jr"
      },
      "source": [
        "### **Question:**\n",
        "\n",
        "6. Based on these carefully chosen examples, what would you say to someone who wanted to know how our model makes decisions?\n",
        "\n",
        "    **Write answer here:**\n"
      ]
    }
  ],
  "metadata": {
    "colab": {
      "provenance": []
    },
    "kernelspec": {
      "display_name": "Python 3",
      "language": "python",
      "name": "python3"
    },
    "language_info": {
      "codemirror_mode": {
        "name": "ipython",
        "version": 3
      },
      "file_extension": ".py",
      "mimetype": "text/x-python",
      "name": "python",
      "nbconvert_exporter": "python",
      "pygments_lexer": "ipython3",
      "version": "3.7.2"
    }
  },
  "nbformat": 4,
  "nbformat_minor": 0
}