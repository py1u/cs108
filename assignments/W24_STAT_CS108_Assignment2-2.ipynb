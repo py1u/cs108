{
  "cells": [
    {
      "cell_type": "markdown",
      "metadata": {
        "id": "0Iwlpn2CKKzx"
      },
      "source": [
        "italicized text# Randomized Response and Differential Privacy\n",
        "\n",
        "In class, we discussed an example of randomized response. We introduced a 'coin-flipping' method for introducing noise to responses of the question \"Have you ever cheated on an exam?\" To answer this question, respondents would use the following procedure:\n",
        "\n",
        "1. Flip a coin **C1**\n",
        "  1. if C1 is heads, then **respond truthfully**\n",
        "  2. if C1 is tails, then flip another coin **C2**\n",
        "    1. if C2 is heads then respond **No**\n",
        "    2. if C2 is tails then respond **Yes**\n",
        "\n",
        "This algorithm is an example of localized random response (i.e., noise is added when the data is collected).\n",
        "\n",
        "In this notebook, you will work through this 'coin-flipping' method. Then you will modify our randomized response algorithm to see how this affects privacy guarantees.\n"
      ]
    },
    {
      "cell_type": "markdown",
      "metadata": {
        "id": "ixDs7KndmnMP"
      },
      "source": [
        "## Setup\n",
        "\n",
        "Import necessary packages."
      ]
    },
    {
      "cell_type": "code",
      "execution_count": 16,
      "metadata": {
        "id": "BYlnmXCPJ6nj"
      },
      "outputs": [],
      "source": [
        "import random\n",
        "import numpy as np\n",
        "import matplotlib.pyplot as plt"
      ]
    },
    {
      "cell_type": "markdown",
      "metadata": {
        "id": "KJ8ZNsDXM-p2"
      },
      "source": [
        "## Randomized response algorithm 1\n",
        "\n",
        "<img src=\"https://drive.google.com/uc?export=view&id=1NEP2dOjcIImisdEaGgRDg08lSlXtDYj1\" width=\"700\">\n",
        "\n",
        "Below we define a function for our 'coin-flipping' randomized response algorithm. This algorithm is depicted by the figure above. We set `truth='Yes'` as our default argument but it would also work with `Truth='No'`. Read through the code to make sure you understand how it works.\n",
        "\n"
      ]
    },
    {
      "cell_type": "code",
      "execution_count": 17,
      "metadata": {
        "id": "e1uwKLQbKIMh"
      },
      "outputs": [],
      "source": [
        "import random\n",
        "\n",
        "def randomized_algorithm1(truth='Yes'):\n",
        "\n",
        "  C1 = random.choice(['Heads', 'Tails'])\n",
        "\n",
        "  if (C1 == 'Heads'):\n",
        "    response = truth\n",
        "  else:\n",
        "    C2 = random.choice(['Heads', 'Tails'])\n",
        "    if (C2 == 'Tails'):\n",
        "      response = 'Yes'\n",
        "    else:\n",
        "      response = 'No'\n",
        "\n",
        "  return response"
      ]
    },
    {
      "cell_type": "markdown",
      "metadata": {
        "id": "nITnRcKYoYYX"
      },
      "source": [
        "Try running the algorithm (below) a few times. Double-check that you sometimes get \"Yes\" and sometimes get \"No\" responses.\n"
      ]
    },
    {
      "cell_type": "code",
      "execution_count": 43,
      "metadata": {
        "id": "DuaIDClLOowM"
      },
      "outputs": [
        {
          "data": {
            "text/plain": [
              "'No'"
            ]
          },
          "execution_count": 43,
          "metadata": {},
          "output_type": "execute_result"
        }
      ],
      "source": [
        "randomized_algorithm1()"
      ]
    },
    {
      "cell_type": "markdown",
      "metadata": {
        "id": "_BLuArpbqS5X"
      },
      "source": [
        "### Calculating epsilon, the privacy parameter\n",
        "\n",
        "The randomized algorithm defined above provides a certain degree of privacy which we call epsilon. Below we will cover how to calculate epsilon."
      ]
    },
    {
      "cell_type": "markdown",
      "metadata": {
        "id": "d9W6UyhIPZe-"
      },
      "source": [
        "#### Probability of \"Yes\" for a person whose true value is \"Yes\"\n",
        "\n",
        "Let's start by taking the case where a person's true value is \"Yes\", i.e. `truth = 'Yes'`. How could that person end up answering \"Yes\" in the randomized algorithm above?\n",
        "\n",
        "> 1. They could flip C1 and get heads, in which case they would answer with the truth, i.e. \"Yes.\" Or;\n",
        "> 2. They could flip C1 and get tails; then flip C2 and get tails again, in which case they would answer \"Yes.\"\n",
        "\n",
        "Calculate the probability of a person answering \"Yes\" given that the truth is \"Yes\":"
      ]
    },
    {
      "cell_type": "code",
      "execution_count": 19,
      "metadata": {
        "id": "bAMBcVGQQfg6"
      },
      "outputs": [
        {
          "name": "stdout",
          "output_type": "stream",
          "text": [
            "0.75\n"
          ]
        }
      ],
      "source": [
        "P_C1_heads = 0.5\n",
        "P_C1_tails = 0.5\n",
        "P_C2_tails = 0.5\n",
        "\n",
        "P_yes_given_yes = P_C1_heads + (P_C1_tails * P_C2_tails)\n",
        "print(P_yes_given_yes)"
      ]
    },
    {
      "cell_type": "markdown",
      "metadata": {
        "id": "h5Wbzv8hR4FF"
      },
      "source": [
        "#### Probability of \"Yes\" for a person whose true value is \"No\"\n",
        "\n",
        "Now let's take the case where a person's true value is \"No,\" i.e. `truth = 'No'`. How could that person end up answering 'Yes' based on the 'coin-flipping' randomized algorithm?\n",
        "\n",
        "1. They could flip C1 and it returns tails; then flip C2 and get tails again, in which case they would answer \"Yes.\"\n",
        "\n",
        "Calculate the probability of a person answering \"Yes\" given that the truth is \"No\":"
      ]
    },
    {
      "cell_type": "code",
      "execution_count": 20,
      "metadata": {
        "id": "VUD2daKzSFBL"
      },
      "outputs": [
        {
          "name": "stdout",
          "output_type": "stream",
          "text": [
            "0.25\n"
          ]
        }
      ],
      "source": [
        "P_yes_given_no = P_C1_tails * P_C2_tails\n",
        "print(P_yes_given_no)"
      ]
    },
    {
      "cell_type": "markdown",
      "metadata": {
        "id": "F6XUYzyWSrc7"
      },
      "source": [
        "#### Calculate epsilon for the first algorithm\n",
        "\n",
        "Epsilon is calculated by taking the probability that a person answered \"Yes\" because the truth for that person was \"Yes\" and dividing it by the probability that a person answered \"Yes\" even though the truth was \"No.\"\n",
        "\n",
        "This captures the idea of **plausible deniability** which is foundational to differential privacy. A person could have answered \"Yes\" because they truthfully did cheat on an exam or they could have answered \"Yes\" because they flipped a certain coin combination. We can't know which route led the person to answering \"Yes\" by looking only at their response."
      ]
    },
    {
      "cell_type": "code",
      "execution_count": 21,
      "metadata": {
        "id": "thlBZqUgS3BC"
      },
      "outputs": [
        {
          "name": "stdout",
          "output_type": "stream",
          "text": [
            "epsilon: 1.0986122886681098\n"
          ]
        }
      ],
      "source": [
        "epsilon = np.log(P_yes_given_yes / P_yes_given_no)\n",
        "print(\"epsilon:\", epsilon)"
      ]
    },
    {
      "cell_type": "markdown",
      "metadata": {
        "id": "osnyFedstPTz"
      },
      "source": [
        "Note that we take the natural log."
      ]
    },
    {
      "cell_type": "markdown",
      "metadata": {
        "id": "lhrFyO-9UfYK"
      },
      "source": [
        "## Randomized response algorithm 2\n",
        "\n",
        "<img src=\"https://drive.google.com/uc?export=view&id=1ELyGARwJnXtVtj9jLub11rJj6N_ejjnC\" width=\"700\">\n",
        "\n",
        "Let's modify the 'coin-flipping' algorithm by introducing a third coin, **C3**. We'll define a new algorithm called `randomized_algorithm2` based on the above figure. Spend some time reviewing the below function so that you understand it."
      ]
    },
    {
      "cell_type": "code",
      "execution_count": 22,
      "metadata": {
        "id": "8hj4hg9tUh-l"
      },
      "outputs": [],
      "source": [
        "def randomized_algorithm2(truth='Yes'):\n",
        "\n",
        "  C1 = random.choice(['Heads', 'Tails'])\n",
        "\n",
        "  if (C1 == 'Heads'):\n",
        "    response = truth\n",
        "  else:\n",
        "    C2 = random.choice(['Heads', 'Tails'])\n",
        "    if (C2 == 'Heads'):\n",
        "      response = 'No'\n",
        "    else:\n",
        "      C3 = random.choice(['Heads', 'Tails'])\n",
        "      if (C3 == 'Heads'):\n",
        "        response = 'No'\n",
        "      else:\n",
        "        response = 'Yes'\n",
        "\n",
        "  return response"
      ]
    },
    {
      "cell_type": "markdown",
      "metadata": {
        "id": "rufNNsOHtxl3"
      },
      "source": [
        "Try running the new algorithm (below) a few times. Double-check that you sometimes get \"Yes\" and sometimes get \"No\" responses."
      ]
    },
    {
      "cell_type": "code",
      "execution_count": 23,
      "metadata": {
        "id": "jM9blfOUt1EV"
      },
      "outputs": [
        {
          "data": {
            "text/plain": [
              "'Yes'"
            ]
          },
          "execution_count": 23,
          "metadata": {},
          "output_type": "execute_result"
        }
      ],
      "source": [
        "randomized_algorithm2()"
      ]
    },
    {
      "cell_type": "markdown",
      "metadata": {
        "id": "MxLciJY0o9Xn"
      },
      "source": [
        "### Calculate epsilon for algorithm 2\n",
        "\n",
        "Think through the ways that a person whose true value is \"Yes\" could respond with \"Yes\" in the second algorithm. These are:\n",
        "\n",
        "> 1. They could flip C1 and get heads in which case they would answer with the truth, i.e. \"Yes.\" Or;\n",
        "> 2. They could flip C1 and get tails; then flip C2 and get tails; then flip C3 and get tails for a third time in a row, in which case they would answer \"Yes.\"\n",
        "\n",
        "Again, calculate the probability of a person answering \"Yes\" given that the truth is \"Yes\":"
      ]
    },
    {
      "cell_type": "code",
      "execution_count": 24,
      "metadata": {
        "id": "2wdXNp5zU9Hw"
      },
      "outputs": [
        {
          "name": "stdout",
          "output_type": "stream",
          "text": [
            "0.625\n"
          ]
        }
      ],
      "source": [
        "P_C3_tails = 0.5\n",
        "\n",
        "P_yes_given_yes2 = P_C1_heads + (P_C1_tails * P_C2_tails * P_C3_tails)\n",
        "print(P_yes_given_yes2)"
      ]
    },
    {
      "cell_type": "markdown",
      "metadata": {
        "id": "SrXmkbQXupBI"
      },
      "source": [
        "The probability of a person answering \"Yes\" given that the truth is \"No\" is also different in our second algorithm. The route to this answer is:\n",
        "\n",
        "> 1. C1 tails; followed by C2 tails, followed by C3 tails\n",
        "\n"
      ]
    },
    {
      "cell_type": "code",
      "execution_count": 25,
      "metadata": {
        "id": "pTVpDGz5WIJh"
      },
      "outputs": [
        {
          "name": "stdout",
          "output_type": "stream",
          "text": [
            "0.125\n"
          ]
        }
      ],
      "source": [
        "P_yes_given_no2 = P_C1_tails * P_C2_tails * P_C3_tails\n",
        "print(P_yes_given_no2)"
      ]
    },
    {
      "cell_type": "markdown",
      "metadata": {
        "id": "EN-26F_KurlV"
      },
      "source": [
        "And now we can calculate epsilon for our second algorithm:"
      ]
    },
    {
      "cell_type": "code",
      "execution_count": 26,
      "metadata": {
        "id": "MjMtgVNFWiqz"
      },
      "outputs": [
        {
          "name": "stdout",
          "output_type": "stream",
          "text": [
            "epsilon: 1.6094379124341003\n"
          ]
        }
      ],
      "source": [
        "epsilon2 = np.log(P_yes_given_yes2 / P_yes_given_no2)\n",
        "print(\"epsilon:\", epsilon2)"
      ]
    },
    {
      "cell_type": "markdown",
      "metadata": {
        "id": "D677wq7JXGfV"
      },
      "source": [
        "Recall that epsilon represents the strength of privacy from the algorithm, where a **lower value indicates stronger privacy**. Why is `epsilon2` for the second algorithm higher than `epsilon` from the first algorithm?"
      ]
    },
    {
      "cell_type": "markdown",
      "metadata": {
        "id": "YKSbFXqluCq2"
      },
      "source": [
        "**Write your answer here and include your reasoning:**\n",
        "epsilon is higher because when comparing the tails possibly for C2, algorithm 1 has no cases after tails, but algorithm 2 has another set of cases as C3. This lowers the strength of privacy and therefore epsilson is higher."
      ]
    },
    {
      "cell_type": "markdown",
      "metadata": {
        "id": "TOnLOd7UXopl"
      },
      "source": [
        "## Randomized response algorithm 3\n",
        "\n",
        "<img src=\"https://drive.google.com/uc?export=view&id=1OFjubxvcx3s73NzoIMMD4tsrfCzIi6AM\" width=\"700\">\n",
        "\n",
        "In the third and final randomized response algorithm, keep three coins but change the algorithm according to the figure above. Note that in the third algorithm, we will flip a coin after C1 no matter what. We'll either flip C2 or C3 depending on C1. That means that every respondent will be guaranteed to flip two coins.\n",
        "\n",
        "The third algorithm is defined as follows:"
      ]
    },
    {
      "cell_type": "code",
      "execution_count": 27,
      "metadata": {
        "id": "JKKI_ITOXtXQ"
      },
      "outputs": [],
      "source": [
        "def randomized_algorithm3(truth='Yes'):\n",
        "\n",
        "  C1 = random.choice(['Heads', 'Tails'])\n",
        "\n",
        "  if (C1 == 'Heads'):\n",
        "    C2 = random.choice(['Heads', 'Tails'])\n",
        "    if (C2 == 'Tails'):\n",
        "      response = 'Yes'\n",
        "    else:\n",
        "      response = 'No'\n",
        "  else:\n",
        "    C3 = random.choice(['Heads', 'Tails'])\n",
        "    if (C3 == 'Tails'):\n",
        "      response = truth\n",
        "    else:\n",
        "      response = 'No'\n",
        "\n",
        "  return response"
      ]
    },
    {
      "cell_type": "markdown",
      "metadata": {
        "id": "blSXbK1Dv9WD"
      },
      "source": [
        "Again, check that it works as anticipated:"
      ]
    },
    {
      "cell_type": "code",
      "execution_count": 28,
      "metadata": {
        "id": "z1hnrS_DcD4I"
      },
      "outputs": [
        {
          "data": {
            "text/plain": [
              "'Yes'"
            ]
          },
          "execution_count": 28,
          "metadata": {},
          "output_type": "execute_result"
        }
      ],
      "source": [
        "randomized_algorithm3()"
      ]
    },
    {
      "cell_type": "markdown",
      "metadata": {
        "id": "V04bsJxGpB1G"
      },
      "source": [
        "### Calculate epsilon for algorithm 3\n",
        "\n",
        "Repeat the exercise from our first and second algorithm. What is the probability that a person will respond \"Yes\" given that the truth for that person is \"Yes\"?"
      ]
    },
    {
      "cell_type": "markdown",
      "metadata": {
        "id": "PUqCJWDVwPlj"
      },
      "source": [
        "**Write down the route(s) here:** \n",
        "C1 heads to C2 tails or C1 tails to c3 and answer the truth tails as YES\n"
      ]
    },
    {
      "cell_type": "markdown",
      "metadata": {
        "id": "65_X50e3wT3H"
      },
      "source": [
        "Calculate the probability of `yes_given_yes` (i.e. the probability that a person responds yes and the truth is yes):"
      ]
    },
    {
      "cell_type": "code",
      "execution_count": 46,
      "metadata": {
        "id": "6-StIq_CYELC"
      },
      "outputs": [
        {
          "name": "stdout",
          "output_type": "stream",
          "text": [
            "0.5\n"
          ]
        }
      ],
      "source": [
        "# Write your code here:\n",
        "P_yes_given_yes3 = (P_C1_heads * P_C2_tails) + (P_C1_tails * P_C3_tails)\n",
        "print(P_yes_given_yes3)\n",
        "\n"
      ]
    },
    {
      "cell_type": "markdown",
      "metadata": {
        "id": "Ie-XNDthzoaL"
      },
      "source": [
        "What is the probability that a person will respond \"Yes\" given that the truth for that person is \"No\"?"
      ]
    },
    {
      "cell_type": "markdown",
      "metadata": {
        "id": "_Ecylclpzu_-"
      },
      "source": [
        "**Write down the route(s) here:**\n",
        "C1 Heads to C2 heads as No or C1 tails to C3 Heads as No"
      ]
    },
    {
      "cell_type": "markdown",
      "metadata": {
        "id": "DTELyCtdwudX"
      },
      "source": [
        "Calculate the probability of `yes_given_no` (i.e. the probability that a person responds yes even though the truth is no):"
      ]
    },
    {
      "cell_type": "code",
      "execution_count": 47,
      "metadata": {
        "id": "IQkWad58Y2a5"
      },
      "outputs": [
        {
          "name": "stdout",
          "output_type": "stream",
          "text": [
            "0.25\n"
          ]
        }
      ],
      "source": [
        "# Write your code here:\n",
        "P_yes_given_no3 = (P_C1_heads * P_C3_tails) \n",
        "print(P_yes_given_no3)\n"
      ]
    },
    {
      "cell_type": "markdown",
      "metadata": {
        "id": "ZRgEqD3EwcK-"
      },
      "source": [
        "Calculate epsilon by using the values `yes_given_yes` and `yes_given_no`:"
      ]
    },
    {
      "cell_type": "code",
      "execution_count": 48,
      "metadata": {
        "id": "V3fS56WgZTpb"
      },
      "outputs": [
        {
          "name": "stdout",
          "output_type": "stream",
          "text": [
            "epsilon: 0.6931471805599453\n"
          ]
        }
      ],
      "source": [
        "# Write your code here:\n",
        "epsilon3 = np.log(P_yes_given_yes3 / P_yes_given_no3)\n",
        "print(\"epsilon:\", epsilon3)"
      ]
    },
    {
      "cell_type": "markdown",
      "metadata": {
        "id": "rZHU_2miwiSf"
      },
      "source": [
        "What do you observe about epsilon for the third algorithm?"
      ]
    },
    {
      "cell_type": "markdown",
      "metadata": {
        "id": "KWu6-9qowkZq"
      },
      "source": [
        "**Write your answer here:** Of the three algorithms, 3 has the strongest privacy compared to 1 and 2 likely due to the split of two coins for C1 being heads or tails."
      ]
    },
    {
      "cell_type": "markdown",
      "metadata": {
        "id": "p_wLn8BzPId5"
      },
      "source": [
        "## Example with data\n",
        "\n",
        "In the first randomized algorithm (called `randomized_algorithm1`), we can estimate the proportion of responses for whom we expect the truth to be \"Yes\" by the formula:\n",
        "\n",
        "> $\\hat{p} = 2y - 0.5$\n",
        "\n",
        "where $\\hat{p}$ is the estimated proportion of respondents for whom Truth = Yes and $y$ is the proportion of respondents who say \"Yes\".\n",
        "\n",
        "Suppose 100 students are asked to respond to our question \"Have you ever cheated on an exam?\". Also suppose that the truth is \"Yes\" for 30 of those students and \"No\" for the other 70. If we ask each student to respond via our first randomized algorithm, we would estimate the proportion of true \"Yes\" responses from our 100 students to be:"
      ]
    },
    {
      "cell_type": "code",
      "execution_count": 32,
      "metadata": {
        "id": "HrnuhRAZPIF7"
      },
      "outputs": [
        {
          "data": {
            "text/plain": [
              "0.31999999999999995"
            ]
          },
          "execution_count": 32,
          "metadata": {},
          "output_type": "execute_result"
        }
      ],
      "source": [
        "results = [randomized_algorithm1(truth=P) for P in ['Yes']*30 + ['No']*70]\n",
        "\n",
        "(2 *(results.count('Yes') / 100) - 0.5)"
      ]
    },
    {
      "cell_type": "markdown",
      "metadata": {
        "id": "LpkPUA9ZhK15"
      },
      "source": [
        "## Simulate the proportion of 'Yes' responses\n",
        "\n",
        "The above is just a one-shot example. The estimate, $\\hat{p}$, will vary each time we run the above cell because there's randomization involved.\n",
        "\n",
        "Let's simulate the distribution of estimates for a population of 100 students responding using the randomization algorithm over and over again. We'll simulate the randomized response 10,000 times and estimate the proportion of \"Yes\" responses each time."
      ]
    },
    {
      "cell_type": "code",
      "execution_count": 33,
      "metadata": {
        "id": "9ghpJ1HIh8vK"
      },
      "outputs": [
        {
          "data": {
            "image/png": "[encoded data removed]",
            "text/plain": [
              "<Figure size 640x480 with 1 Axes>"
            ]
          },
          "metadata": {},
          "output_type": "display_data"
        }
      ],
      "source": [
        "output = []*10000\n",
        "for x in range(0, 10000):\n",
        "  results = [randomized_algorithm1(truth=P) for P in ['Yes']*30 + ['No']*70]\n",
        "  output.append(2 * (results.count('Yes') / 100) - 0.5)\n",
        "\n",
        "plt.hist(output, density=True, bins=30)  # density=False would make counts\n",
        "plt.ylabel('Proportion of Simulations')\n",
        "plt.xlabel('Estimated Proportion, $\\hat{p}$ of \"Yes\" Responses');\n"
      ]
    },
    {
      "cell_type": "markdown",
      "metadata": {
        "id": "a7uxZ502llhV"
      },
      "source": [
        "What do you observe from this distribution?"
      ]
    },
    {
      "cell_type": "markdown",
      "metadata": {
        "id": "q83KSQaJlrqI"
      },
      "source": [
        "**Write your answer here:** It is normally distributed around 0.3 where it is most likely that the proportion of the population that responds yes is 0.3 frequently."
      ]
    },
    {
      "cell_type": "markdown",
      "metadata": {
        "id": "sXtaBFlFn2kS"
      },
      "source": [
        "## Create your own randomized response algorithm\n",
        "\n",
        "Come up with your own randomized response algorithm, write a function for it, calculate epsilon, and see how it works in practice. You can use the above examples as a template."
      ]
    },
    {
      "cell_type": "markdown",
      "metadata": {
        "id": "X5IT3MxioLel"
      },
      "source": [
        "**Describe your randomized response algorithm here:**"
      ]
    },
    {
      "cell_type": "code",
      "execution_count": 68,
      "metadata": {
        "id": "Id3GfakQoKMU"
      },
      "outputs": [
        {
          "data": {
            "text/plain": [
              "0.51"
            ]
          },
          "execution_count": 68,
          "metadata": {},
          "output_type": "execute_result"
        }
      ],
      "source": [
        "# Write your algorithm code here.\n",
        "results = [randomized_algorithm1(truth=P) for P in ['Yes']*45 + ['No']*55]\n",
        "\n",
        "(2 *(results.count('Yes') / 100) - 0.45)\n"
      ]
    },
    {
      "cell_type": "markdown",
      "metadata": {
        "id": "qHbZtkanqv0c"
      },
      "source": [
        "Try running your algorithm a few times to make sure you get both \"Yes\" and \"No\" responses."
      ]
    },
    {
      "cell_type": "code",
      "execution_count": 71,
      "metadata": {
        "id": "WuoxvkhMqhMe"
      },
      "outputs": [
        {
          "data": {
            "image/png": "[encoded data removed]",
            "text/plain": [
              "<Figure size 640x480 with 1 Axes>"
            ]
          },
          "metadata": {},
          "output_type": "display_data"
        }
      ],
      "source": [
        "# Write your code here.\n",
        "output = []*10000\n",
        "for x in range(0, 10000):\n",
        "  results = [randomized_algorithm1(truth=P) for P in ['Yes']*45 + ['No']*55]\n",
        "  output.append(2 * (results.count('Yes') / 100) - 0.45)\n",
        "\n",
        "plt.hist(output, density=True, bins=30)  # density=False would make counts\n",
        "plt.ylabel('Proportion of Simulations')\n",
        "plt.xlabel('Estimated Proportion, $\\hat{p}$ of \"Yes\" Responses');\n"
      ]
    },
    {
      "cell_type": "markdown",
      "metadata": {
        "id": "l1SMxcgLohge"
      },
      "source": [
        "### Calculate epsilon for your algorithm\n",
        "\n",
        "What are that routes to a person responding \"Yes\" given that the truth for that person is \"Yes\"?"
      ]
    },
    {
      "cell_type": "markdown",
      "metadata": {
        "id": "a0X-30UEpA6v"
      },
      "source": [
        "**Write the route(s) here:** In this examples, if asked 100 students 45 students will say yes and 55 will say no. Routes would be they get C1 heads as the truth Yes or C1 tails to C2 Tails as Yes"
      ]
    },
    {
      "cell_type": "markdown",
      "metadata": {},
      "source": []
    },
    {
      "cell_type": "markdown",
      "metadata": {
        "id": "VtviYokKpcsQ"
      },
      "source": [
        "What is the probability that a person will respond \"Yes\" given that the truth for that person is \"Yes\"?"
      ]
    },
    {
      "cell_type": "code",
      "execution_count": 72,
      "metadata": {
        "id": "YyvQC0VBpexg"
      },
      "outputs": [
        {
          "name": "stdout",
          "output_type": "stream",
          "text": [
            "0.7250000000000001\n"
          ]
        }
      ],
      "source": [
        "# In this code cell - calculate the probability of `yes_given_yes':\n",
        "P_C1_heads = 0.45\n",
        "P_C1_tails = 0.55\n",
        "P_C2_tails = 0.5\n",
        "\n",
        "P_yes_given_yes4 = P_C1_heads + (P_C1_tails * P_C2_tails)\n",
        "print(P_yes_given_yes)"
      ]
    },
    {
      "cell_type": "markdown",
      "metadata": {
        "id": "VfHIxOtOsIbc"
      },
      "source": [
        "What are the route(s) to a \"Yes\" given the truth is \"No\"?"
      ]
    },
    {
      "cell_type": "markdown",
      "metadata": {
        "id": "OAdx1ZIGtCQ5"
      },
      "source": [
        "**Write the route(s) here:** They would get C1 Tails to C2 Tails"
      ]
    },
    {
      "cell_type": "markdown",
      "metadata": {
        "id": "uHNLbKDhqHLj"
      },
      "source": [
        "What is the probability that a person will respond \"Yes\" given that the truth for that person is \"No\"?"
      ]
    },
    {
      "cell_type": "code",
      "execution_count": 73,
      "metadata": {
        "id": "fqUVgHIFtHCC"
      },
      "outputs": [
        {
          "name": "stdout",
          "output_type": "stream",
          "text": [
            "0.25\n"
          ]
        }
      ],
      "source": [
        "# Write your code here:\n",
        "P_yes_given_no4 = P_C1_tails * P_C2_tails\n",
        "print(P_yes_given_no)"
      ]
    },
    {
      "cell_type": "markdown",
      "metadata": {
        "id": "JB-zIeoktS-1"
      },
      "source": [
        "Now calculate epsilon for your algorithm."
      ]
    },
    {
      "cell_type": "code",
      "execution_count": 74,
      "metadata": {
        "id": "-CYl29FCtXPj"
      },
      "outputs": [
        {
          "name": "stdout",
          "output_type": "stream",
          "text": [
            "epsilon: 0.9694005571881036\n"
          ]
        }
      ],
      "source": [
        "# Write your code here:\n",
        "epsilon4 = np.log(P_yes_given_yes4 / P_yes_given_no4)\n",
        "print(\"epsilon:\", epsilon4)"
      ]
    },
    {
      "cell_type": "markdown",
      "metadata": {
        "id": "kAhiEqoltliP"
      },
      "source": [
        "### Comparing algorithms\n",
        "\n",
        "Compare the four algorithms (your algorithm + algorithm 1, 2, and 3 from this assignmnet) by ranking them from most private to least private. Which algorithm provides the most privacy? What does this mean in terms of the accuracy of the estimate, $\\hat{p}$ when using each of the algorithms?"
      ]
    },
    {
      "cell_type": "code",
      "execution_count": 76,
      "metadata": {},
      "outputs": [
        {
          "name": "stdout",
          "output_type": "stream",
          "text": [
            "epsilon: 1.0986122886681098\n",
            "epsilon: 1.6094379124341003\n",
            "epsilon: 0.6931471805599453\n",
            "epsilon: 0.9694005571881036\n"
          ]
        }
      ],
      "source": [
        "print(\"epsilon:\", epsilon)\n",
        "print(\"epsilon:\", epsilon2)\n",
        "print(\"epsilon:\", epsilon3)\n",
        "print(\"epsilon:\", epsilon4)"
      ]
    },
    {
      "cell_type": "markdown",
      "metadata": {
        "id": "NHk2c6SLuTmo"
      },
      "source": [
        "**Write your answer here:**\n",
        "Comparing my algorithm with the rest it seems that the ranking from most to least private is 3,4,1,2 where 3 is the most consistent provider of privacy. It shows that the algorithm that is most near a 50/50 proportion of yes and no's gives the strongest privacy."
      ]
    },
    {
      "cell_type": "markdown",
      "metadata": {
        "id": "MBpSIIDEqYOW"
      },
      "source": [
        "Submit this notebook as an .ipynb file on Gradescope."
      ]
    }
  ],
  "metadata": {
    "colab": {
      "provenance": []
    },
    "kernelspec": {
      "display_name": "Python 3",
      "name": "python3"
    },
    "language_info": {
      "codemirror_mode": {
        "name": "ipython",
        "version": 3
      },
      "file_extension": ".py",
      "mimetype": "text/x-python",
      "name": "python",
      "nbconvert_exporter": "python",
      "pygments_lexer": "ipython3",
      "version": "3.11.3"
    }
  },
  "nbformat": 4,
  "nbformat_minor": 0
}
