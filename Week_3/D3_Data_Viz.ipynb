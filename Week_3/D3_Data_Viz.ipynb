{
  "cells": [
    {
      "cell_type": "markdown",
      "metadata": {
        "id": "uh6gpG4KKpp5"
      },
      "source": [
        "***\n",
        "**Author:** Peter Lu \\\n",
        "CS108: Data Science Ethics (UCR - Winter 2024)\n",
        "***"
      ]
    },
    {
      "cell_type": "markdown",
      "metadata": {
        "id": "uAWP4pvuLfCc"
      },
      "source": [
        "# Data Preprocessing and Visualization\n",
        "This week, we'll discuss how to use built-in `numpy` and `pandas` functionality to do some data cleaning, preprocessing, and plotting. We'll see examples of how to use two fundamental plotting libraries: `matplotlib` and `seaborn`. This will give you the fundamentals to start your first integrative assignment!\\\n",
        "\\\n",
        "Before running the code, please download the **[Global Temperature Records](https://www.kaggle.com/datasets/maso0dahmed/global-temperature-records-1850-2022?resource=download)** dataset, upload it to your google colab environment, and rename it `data.csv`."
      ]
    },
    {
      "cell_type": "markdown",
      "metadata": {
        "id": "z4vVnQdIMdg3"
      },
      "source": [
        "# Data Preprocessing\n",
        "`pandas` has some great built-in tools for basic data preprocessing like removing or filling null values. Let's see some below!"
      ]
    },
    {
      "cell_type": "code",
      "execution_count": null,
      "metadata": {
        "id": "ib95w6qHKoVM"
      },
      "outputs": [],
      "source": [
        "# Import libraries\n",
        "import numpy as np\n",
        "import pandas as pd"
      ]
    },
    {
      "cell_type": "code",
      "execution_count": null,
      "metadata": {
        "id": "Gh83SDNjVXL_"
      },
      "outputs": [],
      "source": [
        "# Load data\n",
        "data = pd.read_csv('data.csv')\n",
        "data"
      ]
    },
    {
      "cell_type": "markdown",
      "metadata": {
        "id": "B4S5a-oqXIeN"
      },
      "source": [
        "## Locating and filtering na/null values"
      ]
    },
    {
      "cell_type": "markdown",
      "metadata": {
        "id": "7fKY0kolY0bt"
      },
      "source": [
        "isna() and any()"
      ]
    },
    {
      "cell_type": "code",
      "execution_count": null,
      "metadata": {
        "id": "_wjScGxZY7_0"
      },
      "outputs": [],
      "source": [
        "data.isna()"
      ]
    },
    {
      "cell_type": "code",
      "execution_count": null,
      "metadata": {
        "id": "atSHVUjBZDU1"
      },
      "outputs": [],
      "source": [
        "data.isna().any()"
      ]
    },
    {
      "cell_type": "code",
      "execution_count": null,
      "metadata": {
        "id": "Yu9xUvoXVbkF"
      },
      "outputs": [],
      "source": [
        "# Grab data points with na values\n",
        "points_na, column_idxs = np.where(data.isna())\n",
        "print(f'Datapoints with null values: {points_na[:3]}\\nNull columns: {list(data.columns[column_idxs[:3]])}')"
      ]
    },
    {
      "cell_type": "code",
      "execution_count": null,
      "metadata": {
        "id": "u7OW6JiQV8Ry"
      },
      "outputs": [],
      "source": [
        "# What percent of our data has na values?\n",
        "points_na_uniq = np.unique(points_na)\n",
        "num_null_points = len(points_na_uniq)\n",
        "print(f'Number of points with null values: {num_null_points}\\nPercent of data with null values: {num_null_points / data.shape[0]:.2%}')"
      ]
    },
    {
      "cell_type": "code",
      "execution_count": null,
      "metadata": {
        "id": "VECR3_3LZ1hH"
      },
      "outputs": [],
      "source": [
        "data.loc[points_na_uniq[:3]]"
      ]
    },
    {
      "cell_type": "code",
      "execution_count": null,
      "metadata": {
        "id": "MAwrxIMOV-gf"
      },
      "outputs": [],
      "source": [
        "# Find number of na values per feature\n",
        "na_mask = data.isna().any()\n",
        "columns_w_na = data.columns[na_mask]\n",
        "for col in columns_w_na:\n",
        "  num_na = data[col].isna().sum()\n",
        "  print(f'{col} na count: {num_na}')"
      ]
    },
    {
      "cell_type": "code",
      "execution_count": null,
      "metadata": {
        "id": "NLGpqoIUa5fB"
      },
      "outputs": [],
      "source": [
        "# dataset without samples with na values\n",
        "data_dropna = data.dropna().copy()\n",
        "data_dropna.shape"
      ]
    },
    {
      "cell_type": "code",
      "execution_count": null,
      "metadata": {
        "id": "3Js_uqNMet73"
      },
      "outputs": [],
      "source": [
        "len(data) - len(data_dropna) == len(points_na_uniq)"
      ]
    },
    {
      "cell_type": "markdown",
      "metadata": {
        "id": "GeOl_suFgqxL"
      },
      "source": [
        "fillna()"
      ]
    },
    {
      "cell_type": "code",
      "execution_count": null,
      "metadata": {
        "id": "VUSYu0Z6fFPm"
      },
      "outputs": [],
      "source": [
        "# New dataset with only numerical values\n",
        "data_num = data.select_dtypes(include = ['number']).copy()\n",
        "data_num"
      ]
    },
    {
      "cell_type": "code",
      "execution_count": null,
      "metadata": {
        "id": "8vto6jGIhiv5"
      },
      "outputs": [],
      "source": [
        "data_num.mean()"
      ]
    },
    {
      "cell_type": "code",
      "execution_count": null,
      "metadata": {
        "id": "VOPntCwnkqaJ"
      },
      "outputs": [],
      "source": [
        "data_num = data_num.fillna(data_num.mean())\n",
        "data_num.loc[points_na_uniq]"
      ]
    },
    {
      "cell_type": "markdown",
      "metadata": {
        "id": "_TCu54FRmkmf"
      },
      "source": [
        "`pandas` has many data transformation functions/methods like `DataFrame.map` and `DataFrame.replace`. If you think there's away to clean/preprocess, there is probably a method or function for it. Check the documentation or google! We'll see some useful functionality as needed."
      ]
    },
    {
      "cell_type": "markdown",
      "metadata": {
        "id": "YYWgpDOMn-R2"
      },
      "source": [
        "***\n",
        "## Data Visualization\n"
      ]
    },
    {
      "cell_type": "code",
      "execution_count": null,
      "metadata": {
        "id": "BSP5dZgCmRWt"
      },
      "outputs": [],
      "source": [
        "# Import libraries\n",
        "import matplotlib.pyplot as plt\n",
        "import seaborn as sns\n",
        "\n",
        "%matplotlib inline"
      ]
    },
    {
      "cell_type": "code",
      "execution_count": null,
      "metadata": {
        "id": "Tj8eOn3Mpy4C"
      },
      "outputs": [],
      "source": [
        "data.head()"
      ]
    },
    {
      "cell_type": "markdown",
      "metadata": {
        "id": "HTBdkByNpp3w"
      },
      "source": [
        "### `pandas` plotting"
      ]
    },
    {
      "cell_type": "code",
      "execution_count": null,
      "metadata": {
        "id": "P8KdrSeHpovP"
      },
      "outputs": [],
      "source": [
        "df = pd.DataFrame(data, columns = ['AverageTemperature', 'Country'])\n",
        "df.head()"
      ]
    },
    {
      "cell_type": "code",
      "execution_count": null,
      "metadata": {
        "id": "zvnr-Q-0qESf"
      },
      "outputs": [],
      "source": [
        "df['AverageTemperature'].hist()\n",
        "plt.show()"
      ]
    },
    {
      "cell_type": "code",
      "execution_count": null,
      "metadata": {
        "id": "S_bb1AnDqbU_"
      },
      "outputs": [],
      "source": [
        "df['Country'].value_counts().plot.pie(figsize = (18, 12))\n",
        "plt.show()"
      ]
    },
    {
      "cell_type": "markdown",
      "metadata": {
        "id": "oAGmxkbkuofv"
      },
      "source": [
        "### `plt` plotting"
      ]
    },
    {
      "cell_type": "code",
      "execution_count": null,
      "metadata": {
        "id": "PBrcJ6u8soA0"
      },
      "outputs": [],
      "source": [
        "# Plot sin(x)\n",
        "x = np.linspace(-4, 4, 100)\n",
        "y = np.sin(x)\n",
        "\n",
        "plt.plot(x, y, color = 'green', linestyle = '--')\n",
        "plt.axhline(0, color = 'black')\n",
        "plt.axvline(0, color = 'black')\n",
        "\n",
        "plt.title('sin(x)')\n",
        "plt.xlabel('x')\n",
        "plt.ylabel('y')\n",
        "plt.grid()\n",
        "plt.show()"
      ]
    },
    {
      "cell_type": "code",
      "execution_count": null,
      "metadata": {
        "id": "uhgagUScxKxX"
      },
      "outputs": [],
      "source": [
        "# Subplots\n",
        "cool_func = lambda x: np.abs(np.sin(x ** x) / (2 ** ((x ** x - np.pi/2)/np.pi)))\n",
        "func_list = [np.cos, lambda x: x ** 2, lambda x: np.abs(x), cool_func]\n",
        "func_names = [r'$\\cos{x}$', r'$x^2$', r'$|x|$', r'$|\\frac{\\sin{x^x}}{2^{(x^x-\\pi / 2) / \\pi}}|$']\n",
        "\n",
        "plt.figure(figsize = (10, 10))\n",
        "for i, f in enumerate(func_list):\n",
        "  plt.subplot(2, 2, i + 1)\n",
        "  plt.plot(x, f(x))\n",
        "  plt.axhline(0, color = 'black')\n",
        "  plt.axvline(0, color = 'black')\n",
        "  plt.title(func_names[i])\n",
        "  plt.grid()\n",
        "\n",
        "plt.show()"
      ]
    },
    {
      "cell_type": "markdown",
      "metadata": {
        "id": "6eTf8f3n0fS8"
      },
      "source": [
        "Combining `plt` with `pandas` and `seaborn`"
      ]
    },
    {
      "cell_type": "code",
      "execution_count": null,
      "metadata": {
        "id": "u7mV8xwgzQOG"
      },
      "outputs": [],
      "source": [
        "# Using plt with pandas plotting\n",
        "df['AverageTemperature'].hist(bins = 50)\n",
        "plt.title('Avg Temp Histogram')\n",
        "plt.xlabel('Temperature')\n",
        "plt.ylabel('Count')\n",
        "plt.show()"
      ]
    },
    {
      "cell_type": "code",
      "execution_count": null,
      "metadata": {
        "id": "XH3RBfky0mrN"
      },
      "outputs": [],
      "source": [
        "# Seaborn and plt\n",
        "sns.displot(df['AverageTemperature'], kde = True, bins = 50, color = 'purple')\n",
        "plt.title('Density Estimation')\n",
        "plt.xlabel('Temperature')\n",
        "plt.ylabel('Counts')\n",
        "plt.grid()\n",
        "plt.show()"
      ]
    },
    {
      "cell_type": "code",
      "execution_count": null,
      "metadata": {
        "id": "it1MaWTF4r7H"
      },
      "outputs": [],
      "source": [
        "# Only density plot\n",
        "sns.displot(df['AverageTemperature'], kind = 'kde')\n",
        "plt.title('Density Estimation')\n",
        "plt.xlabel('Temperature')\n",
        "plt.ylabel(r'f(x)')\n",
        "plt.grid()\n",
        "plt.show()"
      ]
    },
    {
      "cell_type": "code",
      "execution_count": null,
      "metadata": {
        "id": "NF7vl6M844U6"
      },
      "outputs": [],
      "source": [
        "# Grab subset of data\n",
        "countries = np.unique(df['Country'])\n",
        "df_3countries = df[df['Country'].isin(countries[:3])] # df['Country'] == countries[i] for i in 0:3\n",
        "np.unique(df_3countries['Country'])"
      ]
    },
    {
      "cell_type": "code",
      "execution_count": null,
      "metadata": {
        "id": "vhQoFKl_42_Y"
      },
      "outputs": [],
      "source": [
        "# Separate density curves on one graph\n",
        "sns.displot(df_3countries, x = 'AverageTemperature', hue = 'Country', kind = 'kde')\n",
        "plt.title('Density Estimation')\n",
        "plt.xlabel('Temperature')\n",
        "plt.ylabel('Counts')\n",
        "plt.grid()\n",
        "plt.show()"
      ]
    },
    {
      "cell_type": "code",
      "execution_count": null,
      "metadata": {
        "id": "nakgh0bP2OWx"
      },
      "outputs": [],
      "source": [
        "# Barplots with sns\n",
        "colors = ['red', 'green', 'blue']\n",
        "sns.barplot(df_3countries['Country'].value_counts(), palette = colors)\n",
        "plt.title('3-Country Barplot')\n",
        "plt.xlabel('Countries')\n",
        "plt.ylabel('Count')\n",
        "plt.show()"
      ]
    }
  ],
  "metadata": {
    "colab": {
      "provenance": []
    },
    "kernelspec": {
      "display_name": "Python 3",
      "name": "python3"
    },
    "language_info": {
      "name": "python"
    }
  },
  "nbformat": 4,
  "nbformat_minor": 0
}
