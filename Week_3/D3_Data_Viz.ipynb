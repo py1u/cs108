{
  "nbformat": 4,
  "nbformat_minor": 0,
  "metadata": {
    "colab": {
      "provenance": []
    },
    "kernelspec": {
      "name": "python3",
      "display_name": "Python 3"
    },
    "language_info": {
      "name": "python"
    }
  },
  "cells": [
    {
      "cell_type": "markdown",
      "source": [
        "***\n",
        "**Author:** Josiah Wallis \\\n",
        "Created for use in CS/STAT108: Data Science Ethics (UCR - Winter 2024)\n",
        "***"
      ],
      "metadata": {
        "id": "uh6gpG4KKpp5"
      }
    },
    {
      "cell_type": "markdown",
      "source": [
        "# Data Preprocessing and Visualization\n",
        "This week, we'll discuss how to use built-in `numpy` and `pandas` functionality to do some data cleaning, preprocessing, and plotting. We'll see examples of how to use two fundamental plotting libraries: `matplotlib` and `seaborn`. This will give you the fundamentals to start your first integrative assignment!\\\n",
        "\\\n",
        "Before running the code, please download the **[Global Temperature Records](https://www.kaggle.com/datasets/maso0dahmed/global-temperature-records-1850-2022?resource=download)** dataset, upload it to your google colab environment, and rename it `data.csv`."
      ],
      "metadata": {
        "id": "uAWP4pvuLfCc"
      }
    },
    {
      "cell_type": "markdown",
      "source": [
        "# Data Preprocessing\n",
        "`pandas` has some great built-in tools for basic data preprocessing like removing or filling null values. Let's see some below!"
      ],
      "metadata": {
        "id": "z4vVnQdIMdg3"
      }
    },
    {
      "cell_type": "code",
      "execution_count": null,
      "metadata": {
        "id": "ib95w6qHKoVM"
      },
      "outputs": [],
      "source": [
        "# Import libraries\n",
        "import numpy as np\n",
        "import pandas as pd"
      ]
    },
    {
      "cell_type": "code",
      "source": [
        "# Load data\n",
        "data = pd.read_csv('data.csv')\n",
        "data"
      ],
      "metadata": {
        "id": "Gh83SDNjVXL_"
      },
      "execution_count": null,
      "outputs": []
    },
    {
      "cell_type": "markdown",
      "source": [
        "## Locating and filtering na/null values"
      ],
      "metadata": {
        "id": "B4S5a-oqXIeN"
      }
    },
    {
      "cell_type": "markdown",
      "source": [
        "isna() and any()"
      ],
      "metadata": {
        "id": "7fKY0kolY0bt"
      }
    },
    {
      "cell_type": "code",
      "source": [
        "data.isna()"
      ],
      "metadata": {
        "id": "_wjScGxZY7_0"
      },
      "execution_count": null,
      "outputs": []
    },
    {
      "cell_type": "code",
      "source": [
        "data.isna().any()"
      ],
      "metadata": {
        "id": "atSHVUjBZDU1"
      },
      "execution_count": null,
      "outputs": []
    },
    {
      "cell_type": "code",
      "source": [
        "# Grab data points with na values\n",
        "points_na, column_idxs = np.where(data.isna())\n",
        "print(f'Datapoints with null values: {points_na[:3]}\\nNull columns: {list(data.columns[column_idxs[:3]])}')"
      ],
      "metadata": {
        "id": "Yu9xUvoXVbkF"
      },
      "execution_count": null,
      "outputs": []
    },
    {
      "cell_type": "code",
      "source": [
        "# What percent of our data has na values?\n",
        "points_na_uniq = np.unique(points_na)\n",
        "num_null_points = len(points_na_uniq)\n",
        "print(f'Number of points with null values: {num_null_points}\\nPercent of data with null values: {num_null_points / data.shape[0]:.2%}')"
      ],
      "metadata": {
        "id": "u7OW6JiQV8Ry"
      },
      "execution_count": null,
      "outputs": []
    },
    {
      "cell_type": "code",
      "source": [
        "data.loc[points_na_uniq[:3]]"
      ],
      "metadata": {
        "id": "VECR3_3LZ1hH"
      },
      "execution_count": null,
      "outputs": []
    },
    {
      "cell_type": "code",
      "source": [
        "# Find number of na values per feature\n",
        "na_mask = data.isna().any()\n",
        "columns_w_na = data.columns[na_mask]\n",
        "for col in columns_w_na:\n",
        "  num_na = data[col].isna().sum()\n",
        "  print(f'{col} na count: {num_na}')"
      ],
      "metadata": {
        "id": "MAwrxIMOV-gf"
      },
      "execution_count": null,
      "outputs": []
    },
    {
      "cell_type": "code",
      "source": [
        "# dataset without samples with na values\n",
        "data_dropna = data.dropna().copy()\n",
        "data_dropna.shape"
      ],
      "metadata": {
        "id": "NLGpqoIUa5fB"
      },
      "execution_count": null,
      "outputs": []
    },
    {
      "cell_type": "code",
      "source": [
        "len(data) - len(data_dropna) == len(points_na_uniq)"
      ],
      "metadata": {
        "id": "3Js_uqNMet73"
      },
      "execution_count": null,
      "outputs": []
    },
    {
      "cell_type": "markdown",
      "source": [
        "fillna()"
      ],
      "metadata": {
        "id": "GeOl_suFgqxL"
      }
    },
    {
      "cell_type": "code",
      "source": [
        "# New dataset with only numerical values\n",
        "data_num = data.select_dtypes(include = ['number']).copy()\n",
        "data_num"
      ],
      "metadata": {
        "id": "VUSYu0Z6fFPm"
      },
      "execution_count": null,
      "outputs": []
    },
    {
      "cell_type": "code",
      "source": [
        "data_num.mean()"
      ],
      "metadata": {
        "id": "8vto6jGIhiv5"
      },
      "execution_count": null,
      "outputs": []
    },
    {
      "cell_type": "code",
      "source": [
        "data_num = data_num.fillna(data_num.mean())\n",
        "data_num.loc[points_na_uniq]"
      ],
      "metadata": {
        "id": "VOPntCwnkqaJ"
      },
      "execution_count": null,
      "outputs": []
    },
    {
      "cell_type": "markdown",
      "source": [
        "`pandas` has many data transformation functions/methods like `DataFrame.map` and `DataFrame.replace`. If you think there's away to clean/preprocess, there is probably a method or function for it. Check the documentation or google! We'll see some useful functionality as needed."
      ],
      "metadata": {
        "id": "_TCu54FRmkmf"
      }
    },
    {
      "cell_type": "markdown",
      "source": [
        "***\n",
        "## Data Visualization\n"
      ],
      "metadata": {
        "id": "YYWgpDOMn-R2"
      }
    },
    {
      "cell_type": "code",
      "source": [
        "# Import libraries\n",
        "import matplotlib.pyplot as plt\n",
        "import seaborn as sns\n",
        "\n",
        "%matplotlib inline"
      ],
      "metadata": {
        "id": "BSP5dZgCmRWt"
      },
      "execution_count": null,
      "outputs": []
    },
    {
      "cell_type": "code",
      "source": [
        "data.head()"
      ],
      "metadata": {
        "id": "Tj8eOn3Mpy4C"
      },
      "execution_count": null,
      "outputs": []
    },
    {
      "cell_type": "markdown",
      "source": [
        "### `pandas` plotting"
      ],
      "metadata": {
        "id": "HTBdkByNpp3w"
      }
    },
    {
      "cell_type": "code",
      "source": [
        "df = pd.DataFrame(data, columns = ['AverageTemperature', 'Country'])\n",
        "df.head()"
      ],
      "metadata": {
        "id": "P8KdrSeHpovP"
      },
      "execution_count": null,
      "outputs": []
    },
    {
      "cell_type": "code",
      "source": [
        "df['AverageTemperature'].hist()\n",
        "plt.show()"
      ],
      "metadata": {
        "id": "zvnr-Q-0qESf"
      },
      "execution_count": null,
      "outputs": []
    },
    {
      "cell_type": "code",
      "source": [
        "df['Country'].value_counts().plot.pie(figsize = (18, 12))\n",
        "plt.show()"
      ],
      "metadata": {
        "id": "S_bb1AnDqbU_"
      },
      "execution_count": null,
      "outputs": []
    },
    {
      "cell_type": "markdown",
      "source": [
        "### `plt` plotting"
      ],
      "metadata": {
        "id": "oAGmxkbkuofv"
      }
    },
    {
      "cell_type": "code",
      "source": [
        "# Plot sin(x)\n",
        "x = np.linspace(-4, 4, 100)\n",
        "y = np.sin(x)\n",
        "\n",
        "plt.plot(x, y, color = 'green', linestyle = '--')\n",
        "plt.axhline(0, color = 'black')\n",
        "plt.axvline(0, color = 'black')\n",
        "\n",
        "plt.title('sin(x)')\n",
        "plt.xlabel('x')\n",
        "plt.ylabel('y')\n",
        "plt.grid()\n",
        "plt.show()"
      ],
      "metadata": {
        "id": "PBrcJ6u8soA0"
      },
      "execution_count": null,
      "outputs": []
    },
    {
      "cell_type": "code",
      "source": [
        "# Subplots\n",
        "cool_func = lambda x: np.abs(np.sin(x ** x) / (2 ** ((x ** x - np.pi/2)/np.pi)))\n",
        "func_list = [np.cos, lambda x: x ** 2, lambda x: np.abs(x), cool_func]\n",
        "func_names = [r'$\\cos{x}$', r'$x^2$', r'$|x|$', r'$|\\frac{\\sin{x^x}}{2^{(x^x-\\pi / 2) / \\pi}}|$']\n",
        "\n",
        "plt.figure(figsize = (10, 10))\n",
        "for i, f in enumerate(func_list):\n",
        "  plt.subplot(2, 2, i + 1)\n",
        "  plt.plot(x, f(x))\n",
        "  plt.axhline(0, color = 'black')\n",
        "  plt.axvline(0, color = 'black')\n",
        "  plt.title(func_names[i])\n",
        "  plt.grid()\n",
        "\n",
        "plt.show()"
      ],
      "metadata": {
        "id": "uhgagUScxKxX"
      },
      "execution_count": null,
      "outputs": []
    },
    {
      "cell_type": "markdown",
      "source": [
        "Combining `plt` with `pandas` and `seaborn`"
      ],
      "metadata": {
        "id": "6eTf8f3n0fS8"
      }
    },
    {
      "cell_type": "code",
      "source": [
        "# Using plt with pandas plotting\n",
        "df['AverageTemperature'].hist(bins = 50)\n",
        "plt.title('Avg Temp Histogram')\n",
        "plt.xlabel('Temperature')\n",
        "plt.ylabel('Count')\n",
        "plt.show()"
      ],
      "metadata": {
        "id": "u7mV8xwgzQOG"
      },
      "execution_count": null,
      "outputs": []
    },
    {
      "cell_type": "code",
      "source": [
        "# Seaborn and plt\n",
        "sns.displot(df['AverageTemperature'], kde = True, bins = 50, color = 'purple')\n",
        "plt.title('Density Estimation')\n",
        "plt.xlabel('Temperature')\n",
        "plt.ylabel('Counts')\n",
        "plt.grid()\n",
        "plt.show()"
      ],
      "metadata": {
        "id": "XH3RBfky0mrN"
      },
      "execution_count": null,
      "outputs": []
    },
    {
      "cell_type": "code",
      "source": [
        "# Only density plot\n",
        "sns.displot(df['AverageTemperature'], kind = 'kde')\n",
        "plt.title('Density Estimation')\n",
        "plt.xlabel('Temperature')\n",
        "plt.ylabel(r'f(x)')\n",
        "plt.grid()\n",
        "plt.show()"
      ],
      "metadata": {
        "id": "it1MaWTF4r7H"
      },
      "execution_count": null,
      "outputs": []
    },
    {
      "cell_type": "code",
      "source": [
        "# Grab subset of data\n",
        "countries = np.unique(df['Country'])\n",
        "df_3countries = df[df['Country'].isin(countries[:3])] # df['Country'] == countries[i] for i in 0:3\n",
        "np.unique(df_3countries['Country'])"
      ],
      "metadata": {
        "id": "NF7vl6M844U6"
      },
      "execution_count": null,
      "outputs": []
    },
    {
      "cell_type": "code",
      "source": [
        "# Separate density curves on one graph\n",
        "sns.displot(df_3countries, x = 'AverageTemperature', hue = 'Country', kind = 'kde')\n",
        "plt.title('Density Estimation')\n",
        "plt.xlabel('Temperature')\n",
        "plt.ylabel('Counts')\n",
        "plt.grid()\n",
        "plt.show()"
      ],
      "metadata": {
        "id": "vhQoFKl_42_Y"
      },
      "execution_count": null,
      "outputs": []
    },
    {
      "cell_type": "code",
      "source": [
        "# Barplots with sns\n",
        "colors = ['red', 'green', 'blue']\n",
        "sns.barplot(df_3countries['Country'].value_counts(), palette = colors)\n",
        "plt.title('3-Country Barplot')\n",
        "plt.xlabel('Countries')\n",
        "plt.ylabel('Count')\n",
        "plt.show()"
      ],
      "metadata": {
        "id": "nakgh0bP2OWx"
      },
      "execution_count": null,
      "outputs": []
    }
  ]
}