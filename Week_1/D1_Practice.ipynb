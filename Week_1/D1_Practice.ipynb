{
  "nbformat": 4,
  "nbformat_minor": 0,
  "metadata": {
    "colab": {
      "provenance": []
    },
    "kernelspec": {
      "name": "python3",
      "display_name": "Python 3"
    },
    "language_info": {
      "name": "python"
    }
  },
  "cells": [
    {
      "cell_type": "markdown",
      "source": [
        "# Python Fundamentals Practice\n",
        "This notebook contains a number of problems to practice the concepts discussed in the **D1_Python_Fundamentals.ipynb** notebook. It will **not** be graded. Please print your results at the end of each cell by either writing the variable(s) or using the `print` function. Feel free to email me at jwall014@ucr.edu or come to my office hours if you'd like to go over any problems or discuss the concepts!"
      ],
      "metadata": {
        "id": "Me7dH28OCpvP"
      }
    },
    {
      "cell_type": "markdown",
      "source": [
        "Please refer to this [link](https://www.w3schools.com/python/python_reference.asp) as a handy Python reference! Additionally, the `help` function can give you details about any Python object or keyword. Below are some examples of how to use it:"
      ],
      "metadata": {
        "id": "TETbwZhwdyy2"
      }
    },
    {
      "cell_type": "code",
      "source": [
        "# See what a function does\n",
        "help(len)"
      ],
      "metadata": {
        "id": "NEdY9fSheNVN"
      },
      "execution_count": null,
      "outputs": []
    },
    {
      "cell_type": "code",
      "source": [
        "# See what a class method does\n",
        "help(list.append)"
      ],
      "metadata": {
        "id": "ShNuVloteafd"
      },
      "execution_count": null,
      "outputs": []
    },
    {
      "cell_type": "code",
      "source": [
        "# help can be used on data types to see their class definition and other information!\n",
        "help(int)"
      ],
      "metadata": {
        "id": "vjxQUTbUekom"
      },
      "execution_count": null,
      "outputs": []
    },
    {
      "cell_type": "markdown",
      "source": [
        "To see what methods a data type or object has, use the `dir` function."
      ],
      "metadata": {
        "id": "cYfHzh11e9xp"
      }
    },
    {
      "cell_type": "code",
      "source": [
        "dir(str)"
      ],
      "metadata": {
        "id": "phH7qcO3e7q-"
      },
      "execution_count": null,
      "outputs": []
    },
    {
      "cell_type": "markdown",
      "source": [
        "# Basic Data Types and Casting\n"
      ],
      "metadata": {
        "id": "8-SPEqRVFmhr"
      }
    },
    {
      "cell_type": "markdown",
      "source": [
        "1) Assign the variables `x` and `e` to `10` and `3.14` respectively. Assign their sum to a new variable. What do you think the resulting data type will be? Check the type using the `type` function."
      ],
      "metadata": {
        "id": "8vzxLLziFuCz"
      }
    },
    {
      "cell_type": "code",
      "execution_count": null,
      "metadata": {
        "id": "R4ncR3E-CiJZ"
      },
      "outputs": [],
      "source": [
        "# Enter code below\n"
      ]
    },
    {
      "cell_type": "markdown",
      "source": [
        "2) Let `boolean` and `num` be a boolean and number respectively. Assign their sum to a new variable. What do you think the resulting data type will be? Based on this and the last exercise, what conclusion(s) can you make about trying to combine bools, ints, and floats?"
      ],
      "metadata": {
        "id": "HB_XOAOvHKeb"
      }
    },
    {
      "cell_type": "code",
      "source": [
        "# Enter code below\n"
      ],
      "metadata": {
        "id": "bgQQrdJXGMoL"
      },
      "execution_count": null,
      "outputs": []
    },
    {
      "cell_type": "markdown",
      "source": [
        "# Integer Operations"
      ],
      "metadata": {
        "id": "VTbs4zDvIgEI"
      }
    },
    {
      "cell_type": "markdown",
      "source": [
        "3) Combine arithmetic operators and the below variables to get `2`. \\\n",
        "*Hint*: This can be achieved using three operations with one being the power operator."
      ],
      "metadata": {
        "id": "LNvM232QHtSh"
      }
    },
    {
      "cell_type": "code",
      "source": [
        "a = 20\n",
        "b = 15\n",
        "c = 10\n",
        "d = 2\n",
        "\n",
        "# Enter code below\n"
      ],
      "metadata": {
        "id": "OVDaf032HUJ2"
      },
      "execution_count": null,
      "outputs": []
    },
    {
      "cell_type": "markdown",
      "source": [
        "4) Check that neither `a` is not equal to `b` nor `a` is greater than or equal to `c`. \\\n",
        "*Hint*: Are you `or`ing or `and`ing? If you're familiar with DeMorgan's Law, you can apply it here!"
      ],
      "metadata": {
        "id": "ENs8JaZZIpA8"
      }
    },
    {
      "cell_type": "code",
      "source": [
        "a = 15\n",
        "b = 13\n",
        "c = 20\n",
        "\n",
        "# Enter code below\n"
      ],
      "metadata": {
        "id": "QCb9DAz_IZr-"
      },
      "execution_count": null,
      "outputs": []
    },
    {
      "cell_type": "markdown",
      "source": [
        "# String Operations"
      ],
      "metadata": {
        "id": "HKdHc2yDJhcc"
      }
    },
    {
      "cell_type": "markdown",
      "source": [
        "5) Using the variables below, create the sentence `I like _ and _.` using string addition. Set `fav1` and `fav2` to be two of your favorite things in the world.\n"
      ],
      "metadata": {
        "id": "YUVGEmwvJue1"
      }
    },
    {
      "cell_type": "code",
      "source": [
        "w1 = 'I'\n",
        "w2 = \"like\"\n",
        "w4 = 'and'\n",
        "space = \" \"\n",
        "\n",
        "# Enter code below\n",
        "fav1 =\n",
        "fav2 =\n"
      ],
      "metadata": {
        "id": "MhAtUCnfJIar"
      },
      "execution_count": null,
      "outputs": []
    },
    {
      "cell_type": "markdown",
      "source": [
        "# Strings and F-Strings\n"
      ],
      "metadata": {
        "id": "oK1FShecLTJp"
      }
    },
    {
      "cell_type": "markdown",
      "source": [
        "6) Create a list of three of your classes this quarter as a one-line string. For example:\n",
        "```\n",
        "1. CRN 1\n",
        "2. CRN 2\n",
        "3. CRN 3\n",
        "```\n",
        "Print your result using the `print` function and check how long the string is. Does the length make sense?"
      ],
      "metadata": {
        "id": "CFjc0q4gLtxs"
      }
    },
    {
      "cell_type": "code",
      "source": [
        "# Enter code below\n"
      ],
      "metadata": {
        "id": "YRVtnadxLKAq"
      },
      "execution_count": null,
      "outputs": []
    },
    {
      "cell_type": "markdown",
      "source": [
        "7) Using the variables below, make the f-string `1 is 33.3% of 3.`. `1` and `3` should be inserted into the f-string as variables and `33.3%` should be computed and formatted in the f-string."
      ],
      "metadata": {
        "id": "uexkBqBPNnod"
      }
    },
    {
      "cell_type": "code",
      "source": [
        "num = 1\n",
        "denom = 3\n",
        "\n",
        "# Enter code below\n"
      ],
      "metadata": {
        "id": "IjjNZQQrMWlQ"
      },
      "execution_count": null,
      "outputs": []
    },
    {
      "cell_type": "markdown",
      "source": [
        "8)\n",
        "1.   Using the string `sentence`, slice out each word. For each slice, use one positive and one negative index (either first or second index).\n",
        "2.   Create a slice of the first and second half of the string.\n",
        "3. From index 15 to 40, output ever 3rd character.\n",
        "\n",
        "\n"
      ],
      "metadata": {
        "id": "N75Van2IQtC2"
      }
    },
    {
      "cell_type": "code",
      "source": [
        "sentence = 'Python is a versatile programming language.'\n",
        "\n",
        "# Enter code below\n"
      ],
      "metadata": {
        "id": "Z1ZwMUYHPwZU"
      },
      "execution_count": null,
      "outputs": []
    },
    {
      "cell_type": "markdown",
      "source": [
        "# Lists"
      ],
      "metadata": {
        "id": "tY-zTKW2T1MR"
      }
    },
    {
      "cell_type": "markdown",
      "source": [
        "9) Using `items`, append 3 songs to the list then insert your favorite number at the list's 3rd position. Pop the last two elements from the list and save those elements in a new list called `popped_items`. Print `items` and `popped_items`."
      ],
      "metadata": {
        "id": "_0nJ3wWIS1HB"
      }
    },
    {
      "cell_type": "code",
      "source": [
        "items = []\n",
        "\n",
        "# Enter code below\n"
      ],
      "metadata": {
        "id": "FHgQopQHS0eq"
      },
      "execution_count": null,
      "outputs": []
    },
    {
      "cell_type": "markdown",
      "source": [
        "10) `split` is a useful string method that returns all words in a string as a list by partitioning the string at a specific character. It accepts a string argument to specify what character to split on, but it default splits on whitespace. See the example below:"
      ],
      "metadata": {
        "id": "tDT-kccaciiZ"
      }
    },
    {
      "cell_type": "code",
      "source": [
        "string = 'I like pepperoni pizza.'\n",
        "string = string.split()\n",
        "string"
      ],
      "metadata": {
        "id": "1AlRtRGUchLT"
      },
      "execution_count": null,
      "outputs": []
    },
    {
      "cell_type": "markdown",
      "source": [
        "Split `string` using 3 different characters. For the last split, reverse and output the list."
      ],
      "metadata": {
        "id": "TNseA94XdEv-"
      }
    },
    {
      "cell_type": "code",
      "source": [
        "string = 'An alaskan bull worm is quite the formidable foe.'\n",
        "\n",
        "# Enter code below\n"
      ],
      "metadata": {
        "id": "Nt3WDorfc_6g"
      },
      "execution_count": null,
      "outputs": []
    },
    {
      "cell_type": "markdown",
      "source": [
        "# Tuples"
      ],
      "metadata": {
        "id": "SGqikQBygKpM"
      }
    },
    {
      "cell_type": "markdown",
      "source": [
        "11) Cast `items` to a tuple then print the list. After, assign the tuple's last index to any value. What happens?"
      ],
      "metadata": {
        "id": "YSDE46QtgL-E"
      }
    },
    {
      "cell_type": "code",
      "source": [
        "items = [1, 2.5, 'good evening', [1, 2]]\n",
        "\n",
        "# Enter code below\n"
      ],
      "metadata": {
        "id": "ZYoK9CLbdvil"
      },
      "execution_count": null,
      "outputs": []
    },
    {
      "cell_type": "markdown",
      "source": [
        "# Dictionaries"
      ],
      "metadata": {
        "id": "Kq2tjiungxwJ"
      }
    },
    {
      "cell_type": "markdown",
      "source": [
        "12) Create a dictionary called `favs` with the keys 1-3 and the values being your first, second, and third favorite foods. Then, add another entry with the key being \"Favorite Drink\" and the value being said drink. Finally, delete keys 2 and 3."
      ],
      "metadata": {
        "id": "wF6bh8NFgzVo"
      }
    },
    {
      "cell_type": "code",
      "source": [
        "# Enter code below\n"
      ],
      "metadata": {
        "id": "s2AcdTZCgh1k"
      },
      "execution_count": null,
      "outputs": []
    },
    {
      "cell_type": "markdown",
      "source": [
        "# if Statements"
      ],
      "metadata": {
        "id": "Rh1PJwS5kg14"
      }
    },
    {
      "cell_type": "markdown",
      "source": [
        "13) Given any value `n`, write an if-else statement that prints \"Even!\" if `n` is even and \"Odd!\" if `n` is odd. An example value is given below.\\\n",
        "*Hint*: The modulo operator is helpful here!"
      ],
      "metadata": {
        "id": "Mc9-tLRykjKm"
      }
    },
    {
      "cell_type": "code",
      "source": [
        "n = 5\n",
        "\n",
        "# Enter code below\n"
      ],
      "metadata": {
        "id": "F0wtAmRHjhLy"
      },
      "execution_count": null,
      "outputs": []
    },
    {
      "cell_type": "markdown",
      "source": [
        "# While Loops"
      ],
      "metadata": {
        "id": "_h0h5WBtlJc8"
      }
    },
    {
      "cell_type": "markdown",
      "source": [
        "14) Recall that you can access an iterable object's elements using `obj[i]` where `obj` is an iterable object and `i` is an index. Use a while loop to iterate over `vals` and print out each element. \\\n",
        "*Hint*: Recall the start and end indices of an iterable object."
      ],
      "metadata": {
        "id": "xdZFsPlslMdh"
      }
    },
    {
      "cell_type": "code",
      "source": [
        "vals = ['hi', 'hello', 'bonjour', 'hola']\n",
        "\n",
        "# Enter code below\n"
      ],
      "metadata": {
        "id": "QS-ZD_ydlBU8"
      },
      "execution_count": null,
      "outputs": []
    },
    {
      "cell_type": "markdown",
      "source": [
        "# For Loops"
      ],
      "metadata": {
        "id": "nImITsVSmnMG"
      }
    },
    {
      "cell_type": "markdown",
      "source": [
        "15) Use a for loop to print \"Hi for the ith time\" 15 times, where `i` is the current loop count. `i` should start at 1. If you want to add some more depth to the problem,\n",
        "\n",
        "\n",
        "*   when i = 1, \"ith\" should be \"1st\"\n",
        "*   when i = 2, \"ith\" should be \"2nd\"\n",
        "*   when i = 3, \"ith\" should be \"3rd\"\n",
        "\n"
      ],
      "metadata": {
        "id": "PaMj1jX1m2_2"
      }
    },
    {
      "cell_type": "code",
      "source": [
        "#Enter code below:\n"
      ],
      "metadata": {
        "id": "C2y12UrSmofx"
      },
      "execution_count": null,
      "outputs": []
    },
    {
      "cell_type": "markdown",
      "source": [
        "16) For loops can also iterate over multiple objects at a time. The `zip` function pairs corresponding elements together as tuples, and it can be used to see for loop's multiple iteration functionality:"
      ],
      "metadata": {
        "id": "T64a7qQIn0MA"
      }
    },
    {
      "cell_type": "code",
      "source": [
        "list_1 = [1, 2, 3]\n",
        "list_2 = ['a', 'b', 'c']\n",
        "lists = zip(list_1, list_2)\n",
        "\n",
        "for x, y in lists:\n",
        "  print(x, y)"
      ],
      "metadata": {
        "id": "MlrE-YpFoNkl"
      },
      "execution_count": null,
      "outputs": []
    },
    {
      "cell_type": "markdown",
      "source": [
        "`zip` is useful in many circumstances. Using two iterators `key` and `value`, loop through all the key-value pairs in `movies` and print them out as \"key: value.\"\n",
        "*Hint*: A dictionary method creates something similar to a zipped list of keys and values."
      ],
      "metadata": {
        "id": "gvBKvaSto7wI"
      }
    },
    {
      "cell_type": "code",
      "source": [
        "movies = {\n",
        "    'Name': 'Jojo',\n",
        "    1: 'Interstellar',\n",
        "    2: 'Avengers: Infinity War',\n",
        "    3: 'Saving Private Ryan'\n",
        "}\n",
        "\n",
        "# Enter code below\n"
      ],
      "metadata": {
        "id": "QMk-CIy8o5_S"
      },
      "execution_count": null,
      "outputs": []
    },
    {
      "cell_type": "markdown",
      "source": [
        "# Functions"
      ],
      "metadata": {
        "id": "cuNIqXZDqMke"
      }
    },
    {
      "cell_type": "markdown",
      "source": [
        "17) Suppose you have a right triangle with sides `a` and `b`. Let `c` be the hypotenuse of the triangle. Write a function that finds `c` given `a` and `b`. `c` should be returned with at most 2 digits after the decimal place."
      ],
      "metadata": {
        "id": "u1NAdu90sNsy"
      }
    },
    {
      "cell_type": "code",
      "source": [
        "# Enter code below\n"
      ],
      "metadata": {
        "id": "d3-n1U4ws-eh"
      },
      "execution_count": null,
      "outputs": []
    },
    {
      "cell_type": "markdown",
      "source": [
        "18) Given a list, start index, and end index, write a function `slice` that replicates the slice functionality. In other words, this function should return a slice of a list from a start index up to, but not including, an end index. Test the function with your own arguments."
      ],
      "metadata": {
        "id": "W4yWhNWeqQS8"
      }
    },
    {
      "cell_type": "code",
      "source": [
        "# Enter code below\n"
      ],
      "metadata": {
        "id": "5imE--DVqNUN"
      },
      "execution_count": null,
      "outputs": []
    },
    {
      "cell_type": "markdown",
      "source": [
        "# Classes"
      ],
      "metadata": {
        "id": "kEGt_Dpsr-m5"
      }
    },
    {
      "cell_type": "markdown",
      "source": [
        "19) Create the ShoppingCart class. It should have the following methods:\n",
        "\n",
        "1.   `add_item`: puts an item in the shopping cart. Increase the size of the cart.\n",
        "2.   `del_item`: deletes a specific item from the shopping cart. Decrease the size of the cart. If the specified item is not in the shopping cart, print a statement saying so and do not decrease the size of the cart.\n",
        "3.   `find_item`: check if an item is in the shopping cart.\n",
        "4.   `add_mult_items`: several ways to write this method. as long as you can add multiple items to the cart with this method, try things out!\n",
        "5.   `del_mult_items`: same as `add_mult_items` but deletes instead\n",
        "6.   `cart_size`: returns the number of items in cart\n",
        "7.   `cart_value`: returns the cart value. The cart value is the sum of the lengths of the string in the cart.\n",
        "8.   `most_valuable`: returns the most valuable item in the cart\n",
        "\n",
        "Make sure to handle edge cases, or cases where functions may return errors (like calling a method on an empty cart). Skeleton code is provided below."
      ],
      "metadata": {
        "id": "IyKeAb7Vrr-d"
      }
    },
    {
      "cell_type": "code",
      "source": [
        "class ShoppingCart():\n",
        "  def __init__(self, cart = None):\n",
        "    if not cart:\n",
        "      self.cart = []\n",
        "    else:\n",
        "      self.cart = cart\n",
        "\n",
        "    self.num_items = len(self.cart)\n",
        "\n",
        "  # Enter code below\n",
        "  def add_item(self, item):\n",
        "    pass\n",
        "\n",
        "  def del_item(self, item):\n",
        "    pass\n",
        "\n",
        "  def find_item(self, item):\n",
        "    pass\n",
        "\n",
        "  # add_mult_items\n",
        "\n",
        "  # del_mult_items\n",
        "\n",
        "  def cart_size(self):\n",
        "    pass\n",
        "\n",
        "  def cart_value(self):\n",
        "    pass\n",
        "\n",
        "  def most_valuable(self):\n",
        "    pass\n",
        "\n",
        "# Test code\n",
        "# cart1 = ShoppingCart()\n",
        "# cart2 = ShoppingCart(['milk'])"
      ],
      "metadata": {
        "id": "Xoq4DaFKx2m8"
      },
      "execution_count": null,
      "outputs": []
    }
  ]
}