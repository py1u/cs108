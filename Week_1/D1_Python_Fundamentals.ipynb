{
  "cells": [
    {
      "cell_type": "markdown",
      "metadata": {
        "id": "SV2WrN3HT2sU"
      },
      "source": [
        "# Python Fundamentals\n",
        "This notebook is one of two notebooks that will walk through the basics of the **Python** programming language. Each section consists of a concept(s), example, and possibly an exercise to test what you've learned. The notebook is meant to be completed together in your discussion section, but feel free to complete it before, during, or after your section. It will **not** be graded."
      ]
    },
    {
      "cell_type": "markdown",
      "metadata": {
        "id": "1HFcZ0yXWBAd"
      },
      "source": [
        "# Python Setup\n",
        "### Locally\n",
        "\n",
        "\n",
        "1.   To set up Python on your own device, please head [here](https://www.python.org/) to download and install the latest Python version.\n",
        "2.   Once installed, download a code environment to start programming! I use [Visual Studio Code](https://code.visualstudio.com/) \\(tutorial for setup [here](https://code.visualstudio.com/docs/python/python-tutorial)\\), but feel free to browse around for IDEs that suit you.\n",
        "3. To work with Python in an environment like this, an ipython notebook, create a new file with the file extension '.ipynb'\n",
        "\n",
        "### Online\n",
        "\n",
        "\n",
        "1.   To use Python through your browser, head [here](https://colab.google/) to start a new notebook through Google Colaboratory\n",
        "2.   Notebooks will save to your Google Drive\n",
        "\n"
      ]
    },
    {
      "cell_type": "markdown",
      "metadata": {
        "id": "QZLh6Nc8WC_Q"
      },
      "source": [
        "# Python and IPython Notebooks\n",
        "**Python** is an interpreted, high-level programming language built for simplicity and readability. Its structure is designed to sweep away the nitty gritty of the backend to make development of complicated software more streamlined. Python is one of the most popular programming languages for data science and will be the language of choice for this course. \\\n",
        "\\\n",
        "Assignments and discussion activities that involve programming will utilize **IPython notebooks** (.ipynb). Though standard Python scripts are run from Python files (.py), IPython notebooks leverage cells to break up your code into executable blocks to easily navigate both the logic and output of your programs. Additionally, text and LaTeX can be added to accompany your cells similar to working with R in RStudio. IPython notebooks can be opened in [Google Colaboratory](https://colab.google/), [Jupyter Notebook](https://jupyter.org/), or locally via VS Code."
      ]
    },
    {
      "cell_type": "markdown",
      "metadata": {
        "id": "6jEUAkEicYaq"
      },
      "source": [
        "# Variables and Assignment\n",
        "**Variables** are data containers that can be invoked by their name. Variable names can only contain the following characters:\n",
        "\n",
        "\n",
        "1.   Letters from A-Z\n",
        "2.   Letters from a-z\n",
        "3.   Numbers from 0-9\n",
        "4.   Underscores _\n",
        "\n",
        "Variable names cannot start with numbers, and they are case-sensitive. Examples of valid variable names:\n",
        "\n",
        "\n",
        "*   aBcD\n",
        "*   AbCd\n",
        "*   x_coord1\n",
        "*   \\_method\\_name_\n",
        "*   CarObj\n",
        "\n",
        "Examples of invalid variable names:\n",
        "\n",
        "* variable.name\n",
        "* 5by5\n",
        "* @hello\n",
        "\n",
        "**Variable assignment** is the act of storing data in a variable. See the code block below:\n",
        "\n",
        "\n"
      ]
    },
    {
      "cell_type": "code",
      "execution_count": 5,
      "metadata": {
        "id": "BHuZYV4VTODK"
      },
      "outputs": [
        {
          "data": {
            "text/plain": [
              "(5,\n",
              " 23,\n",
              " 23,\n",
              " 'Jojo',\n",
              " {'enrolled': 100, 'cross_listed': True, 'title': 'Data Science Ethics'},\n",
              " [1, 2, '3', [4]])"
            ]
          },
          "execution_count": 5,
          "metadata": {},
          "output_type": "execute_result"
        }
      ],
      "source": [
        "x = 5\n",
        "\n",
        "y = 23\n",
        "\n",
        "z = y\n",
        "\n",
        "name = 'Jojo'\n",
        "\n",
        "cs_stat_108 = {'enrolled': 100,\n",
        "               'cross_listed': True,\n",
        "               'title': 'Data Science Ethics'}\n",
        "\n",
        "folder_contents = [1, 2, '3', [4]]\n",
        "\n",
        "x, y, z, name, cs_stat_108, folder_contents\n"
      ]
    },
    {
      "cell_type": "markdown",
      "metadata": {
        "id": "4n5aQ7GQoJh-"
      },
      "source": [
        "**Multiple assignment** allows you to assign values to multiple variables in a single line!"
      ]
    },
    {
      "cell_type": "code",
      "execution_count": 1,
      "metadata": {
        "id": "mhtpz0gqoTY4"
      },
      "outputs": [
        {
          "data": {
            "text/plain": [
              "(1, 2, 'hi')"
            ]
          },
          "execution_count": 1,
          "metadata": {},
          "output_type": "execute_result"
        }
      ],
      "source": [
        "x, y, z = 1, 2, 'hi'\n",
        "x, y, z"
      ]
    },
    {
      "cell_type": "markdown",
      "metadata": {
        "id": "SNG6EbMF6FET"
      },
      "source": [
        "We can also swap values in 1 line!"
      ]
    },
    {
      "cell_type": "code",
      "execution_count": 11,
      "metadata": {
        "id": "WHl4Qyyr6Jme"
      },
      "outputs": [
        {
          "data": {
            "text/plain": [
              "(23, 5)"
            ]
          },
          "execution_count": 11,
          "metadata": {},
          "output_type": "execute_result"
        }
      ],
      "source": [
        "x, y = y, x\n",
        "x, y"
      ]
    },
    {
      "cell_type": "markdown",
      "metadata": {
        "id": "hf9D1qRDiOKd"
      },
      "source": [
        "# Basic Data Types\n",
        "\n",
        "\n",
        "*   Integer (int)\n",
        "*   Float (float)\n",
        "*   String (str)\n",
        "*   Boolean (bool)\n",
        "*   None (None)\n",
        "\n"
      ]
    },
    {
      "cell_type": "code",
      "execution_count": 2,
      "metadata": {
        "id": "3MHiNBt-iC3q"
      },
      "outputs": [
        {
          "data": {
            "text/plain": [
              "(0, 5, int)"
            ]
          },
          "execution_count": 2,
          "metadata": {},
          "output_type": "execute_result"
        }
      ],
      "source": [
        "# Integer\n",
        "empty_int = int()\n",
        "int_num = 5\n",
        "\n",
        "empty_int, int_num, type(int_num)"
      ]
    },
    {
      "cell_type": "code",
      "execution_count": 3,
      "metadata": {
        "id": "qQXc1Zc5U76q"
      },
      "outputs": [
        {
          "data": {
            "text/plain": [
              "(0.0, 3.14, float)"
            ]
          },
          "execution_count": 3,
          "metadata": {},
          "output_type": "execute_result"
        }
      ],
      "source": [
        "# Float\n",
        "empty_float = float()\n",
        "float_num = 3.14\n",
        "\n",
        "empty_float, float_num, type(float_num)"
      ]
    },
    {
      "cell_type": "code",
      "execution_count": 4,
      "metadata": {
        "id": "_2vjbtITVMth"
      },
      "outputs": [
        {
          "data": {
            "text/plain": [
              "('', 'abc', '123', str, str)"
            ]
          },
          "execution_count": 4,
          "metadata": {},
          "output_type": "execute_result"
        }
      ],
      "source": [
        "# String\n",
        "empty_str = str()\n",
        "string1 = 'abc'\n",
        "string2 = \"123\"\n",
        "\n",
        "empty_str, string1, string2, type(string1), type(string2)"
      ]
    },
    {
      "cell_type": "code",
      "execution_count": null,
      "metadata": {
        "id": "X4R38VPeVoro"
      },
      "outputs": [],
      "source": [
        "# Boolean\n",
        "empty_bool = bool()\n",
        "truth = True\n",
        "lies = False\n",
        "\n",
        "empty_bool, truth, lies, type(truth)"
      ]
    },
    {
      "cell_type": "code",
      "execution_count": null,
      "metadata": {
        "id": "R_CjUywqWABT"
      },
      "outputs": [],
      "source": [
        "# None - Python's null value\n",
        "empty = None\n",
        "\n",
        "None, type(None)"
      ]
    },
    {
      "cell_type": "markdown",
      "metadata": {
        "id": "0U1Uugd2ZNRn"
      },
      "source": [
        "### Type Casting\n",
        "Sometimes, you want to change a variable of one data type to another. We'll discuss one way here. You may use the object's **constructor**, or the data type followed by (), eg ```int('5')```. Here are some examples:"
      ]
    },
    {
      "cell_type": "code",
      "execution_count": 12,
      "metadata": {
        "id": "8yIFvHfRZjYn"
      },
      "outputs": [
        {
          "data": {
            "text/plain": [
              "('5', 5, '3.14', 3.14)"
            ]
          },
          "execution_count": 12,
          "metadata": {},
          "output_type": "execute_result"
        }
      ],
      "source": [
        "string_int = '5'\n",
        "string_float = '3.14'\n",
        "\n",
        "num_int = int(string_int)\n",
        "num_float = float(string_float)\n",
        "\n",
        "string_int, num_int, string_float, num_float"
      ]
    },
    {
      "cell_type": "markdown",
      "metadata": {
        "id": "qhwbdjqaaPCi"
      },
      "source": [
        "If a type cast makes sense logically, it can most likely be done. There are some circumstances where you may lose information after type casting, or you may have a result that is easier to work with. See below:"
      ]
    },
    {
      "cell_type": "code",
      "execution_count": 13,
      "metadata": {
        "id": "MdLHuGDeavs2"
      },
      "outputs": [
        {
          "data": {
            "text/plain": [
              "(1, 3)"
            ]
          },
          "execution_count": 13,
          "metadata": {},
          "output_type": "execute_result"
        }
      ],
      "source": [
        "yes = True\n",
        "num_float = 3.14\n",
        "\n",
        "int(yes), int(num_float)"
      ]
    },
    {
      "cell_type": "markdown",
      "metadata": {
        "id": "5Mb1upgIbRbI"
      },
      "source": [
        "Note that treating Trues and Falses as 1s and 0s is common practice, especially in data science."
      ]
    },
    {
      "cell_type": "markdown",
      "metadata": {
        "id": "TnWQG9H9WYk3"
      },
      "source": [
        "# Operations\n",
        "In Python, you can perform operations between the different data types to produce new elements or objects (discussed later). **Arithmetic operators** are your typical mathematical operations like addition, subtraction, multiplication, and division. **Conditional operators** check if a single argument, or several arguments, satisfy a condition. They return ```True``` if the condition is satisfied and ```False``` otherwise. Though these operators work well with numbers, they can also work with other data types as we'll see later.\n",
        "\n",
        "\n",
        "\n"
      ]
    },
    {
      "cell_type": "markdown",
      "metadata": {
        "id": "Bc9JjQfUlxWQ"
      },
      "source": [
        "## Integer Operations"
      ]
    },
    {
      "cell_type": "markdown",
      "metadata": {
        "id": "ZDdyxKv3dz3E"
      },
      "source": [
        "### Arithmetic Operators\n",
        "For integers, we have the following **arithmetic operators**:\n",
        "```\n",
        "Let a and b be integers.\n",
        "a + b   addition\n",
        "a - b   subtraction\n",
        "a * b   multiplication\n",
        "a ** b  a^b\n",
        "a / b   division\n",
        "a // b  integer division\n",
        "a % b   modulo or remainder\n",
        "```\n",
        "They are evaluated using the standard order of operations, but parentheses improve readability."
      ]
    },
    {
      "cell_type": "markdown",
      "metadata": {
        "id": "XZ8Aj2sSgUAZ"
      },
      "source": [
        "Examples of integer division and modulo operators"
      ]
    },
    {
      "cell_type": "code",
      "execution_count": 16,
      "metadata": {
        "id": "hSs-YCU1gIFr"
      },
      "outputs": [
        {
          "data": {
            "text/plain": [
              "4"
            ]
          },
          "execution_count": 16,
          "metadata": {},
          "output_type": "execute_result"
        }
      ],
      "source": [
        "int_div = 17 // 4\n",
        "int_div"
      ]
    },
    {
      "cell_type": "code",
      "execution_count": 17,
      "metadata": {
        "id": "K-127G94ja0y"
      },
      "outputs": [
        {
          "data": {
            "text/plain": [
              "1"
            ]
          },
          "execution_count": 17,
          "metadata": {},
          "output_type": "execute_result"
        }
      ],
      "source": [
        "mod = 17 % 4\n",
        "mod"
      ]
    },
    {
      "cell_type": "markdown",
      "metadata": {
        "id": "VX_8KJuikaIJ"
      },
      "source": [
        "### Exercise\n",
        "Combine arithmetic operators and these variables to get ```2```. Code the operations below.\\\n",
        "*Hint*: There are three operations and one of them is the power operator"
      ]
    },
    {
      "cell_type": "code",
      "execution_count": 28,
      "metadata": {
        "id": "R_RB0HureAvk"
      },
      "outputs": [
        {
          "data": {
            "text/plain": [
              "2"
            ]
          },
          "execution_count": 28,
          "metadata": {},
          "output_type": "execute_result"
        }
      ],
      "source": [
        "a = 20\n",
        "b = 15\n",
        "c = 10\n",
        "d = 2\n",
        "\n",
        "# Enter code below\n",
        "a // b % c * d"
      ]
    },
    {
      "cell_type": "markdown",
      "metadata": {
        "id": "Fk1WdsdchCYJ"
      },
      "source": [
        "### Conditional Operators\n",
        "We have the following **conditional operators** for integers as well:\n",
        "```\n",
        "a == b   equal\n",
        "a != b   not equal\n",
        "a < b    less than\n",
        "a <= b   less than or equal to\n",
        "a > b    greater than\n",
        "a >= b   greater than or equal to\n",
        "p and q  True if p is True and q is True\n",
        "p or q   True if p is True or q is True\n",
        "not p    flips the boolean state of p\n",
        "```\n",
        "When combining conditional operators, it is best practice to use parentheses as well."
      ]
    },
    {
      "cell_type": "markdown",
      "metadata": {
        "id": "PDZINk9LattK"
      },
      "source": [
        "Examples"
      ]
    },
    {
      "cell_type": "code",
      "execution_count": 29,
      "metadata": {
        "id": "tJPrXga6f0nY"
      },
      "outputs": [
        {
          "data": {
            "text/plain": [
              "True"
            ]
          },
          "execution_count": 29,
          "metadata": {},
          "output_type": "execute_result"
        }
      ],
      "source": [
        "a = 10\n",
        "b = 10\n",
        "c = 3\n",
        "\n",
        "a == b"
      ]
    },
    {
      "cell_type": "code",
      "execution_count": 30,
      "metadata": {
        "id": "UFs7NFqwjUjK"
      },
      "outputs": [
        {
          "data": {
            "text/plain": [
              "False"
            ]
          },
          "execution_count": 30,
          "metadata": {},
          "output_type": "execute_result"
        }
      ],
      "source": [
        "b <= c"
      ]
    },
    {
      "cell_type": "code",
      "execution_count": 32,
      "metadata": {
        "id": "bu66zjy0jWJH"
      },
      "outputs": [
        {
          "data": {
            "text/plain": [
              "True"
            ]
          },
          "execution_count": 32,
          "metadata": {},
          "output_type": "execute_result"
        }
      ],
      "source": [
        "p = (a == b)\n",
        "q = (b > c)\n",
        "p and q"
      ]
    },
    {
      "cell_type": "code",
      "execution_count": 33,
      "metadata": {
        "id": "mBJKRDXTjzcA"
      },
      "outputs": [
        {
          "data": {
            "text/plain": [
              "True"
            ]
          },
          "execution_count": 33,
          "metadata": {},
          "output_type": "execute_result"
        }
      ],
      "source": [
        "p or q"
      ]
    },
    {
      "cell_type": "code",
      "execution_count": 37,
      "metadata": {
        "id": "4fqM2XT7jz-K"
      },
      "outputs": [
        {
          "data": {
            "text/plain": [
              "(False, True)"
            ]
          },
          "execution_count": 37,
          "metadata": {},
          "output_type": "execute_result"
        }
      ],
      "source": [
        "p = (p != q) # this is false\n",
        "p, not p"
      ]
    },
    {
      "cell_type": "markdown",
      "metadata": {
        "id": "KIM43r0smoEh"
      },
      "source": [
        "### Exercise\n",
        "Check that neither `a` is not equal to `b` nor `a` is greater than or equal to `c`. Write the conditional expression you used to check this statement."
      ]
    },
    {
      "cell_type": "code",
      "execution_count": 48,
      "metadata": {
        "id": "QUmr5cvpm4_O"
      },
      "outputs": [
        {
          "data": {
            "text/plain": [
              "True"
            ]
          },
          "execution_count": 48,
          "metadata": {},
          "output_type": "execute_result"
        }
      ],
      "source": [
        "a = 15\n",
        "b = 13\n",
        "c = 20\n",
        "# should display  \n",
        "# Enter code below\n",
        "statement = not(a == b or a >= c)\n",
        "statement"
      ]
    },
    {
      "cell_type": "markdown",
      "metadata": {
        "id": "xRZNT40roiTH"
      },
      "source": [
        "## String Operations and Methods"
      ]
    },
    {
      "cell_type": "markdown",
      "metadata": {
        "id": "0ZuF3-gfpd4z"
      },
      "source": [
        "### Arithmetic operators\n",
        "**Arithmetic operators** for strings are not as commonly used, but they do exist. Note that operators that work for some data types might not work for others. For instance, subtraction and division do not work with strings."
      ]
    },
    {
      "cell_type": "code",
      "execution_count": null,
      "metadata": {
        "id": "ooCgX-nOpcf8"
      },
      "outputs": [],
      "source": [
        "word1 = 'Hello'\n",
        "space = ' '\n",
        "word2 = 'World'\n",
        "word1 + space + word2"
      ]
    },
    {
      "cell_type": "code",
      "execution_count": null,
      "metadata": {
        "id": "oZwSetonpo7_"
      },
      "outputs": [],
      "source": [
        "word1 * 4"
      ]
    },
    {
      "cell_type": "markdown",
      "metadata": {
        "id": "xn7TUbN2qM5p"
      },
      "source": [
        "### Conditional operators\n",
        "**Conditional operators** for strings are usually used together with other functions, not the raw string. One common conditional operator used on raw strings is the ```in``` operator."
      ]
    },
    {
      "cell_type": "code",
      "execution_count": null,
      "metadata": {
        "id": "8SIXCywNqD9p"
      },
      "outputs": [],
      "source": [
        "'H' in 'Hello World'"
      ]
    },
    {
      "cell_type": "code",
      "execution_count": null,
      "metadata": {
        "id": "qQC5aoDVq5B1"
      },
      "outputs": [],
      "source": [
        "'h' in 'Hello World'"
      ]
    },
    {
      "cell_type": "code",
      "execution_count": null,
      "metadata": {
        "id": "xo2jBpnYq6iF"
      },
      "outputs": [],
      "source": [
        "'Wo' in 'Hello World'"
      ]
    },
    {
      "cell_type": "markdown",
      "metadata": {
        "id": "B8gDoUCqrQMY"
      },
      "source": [
        "### String methods\n",
        "**String methods** are special operations inherent to strings themselves. They are accessed by using the member access operator `.` like in ```string.method(arguments)```. Let's explore some of the commonly used methods below as well as a very useful function!"
      ]
    },
    {
      "cell_type": "markdown",
      "metadata": {
        "id": "9daAz64CtO3Y"
      },
      "source": [
        "len() \\\n",
        "length function. It is not a string method, but is used often with strings to return their lengths. It is also commonly used with sequences (discussed later)."
      ]
    },
    {
      "cell_type": "code",
      "execution_count": null,
      "metadata": {
        "id": "Z-rpqG7ite0O"
      },
      "outputs": [],
      "source": [
        "x = 'Hello World'\n",
        "len(x)"
      ]
    },
    {
      "cell_type": "markdown",
      "metadata": {
        "id": "343TsFoasKkp"
      },
      "source": [
        "upper()"
      ]
    },
    {
      "cell_type": "code",
      "execution_count": null,
      "metadata": {
        "id": "scETkwGJq8dL"
      },
      "outputs": [],
      "source": [
        "x = 'hello'\n",
        "x.upper()"
      ]
    },
    {
      "cell_type": "markdown",
      "metadata": {
        "id": "eIcQR0irsQ8W"
      },
      "source": [
        "lower()"
      ]
    },
    {
      "cell_type": "code",
      "execution_count": null,
      "metadata": {
        "id": "tSAHamwrsQEw"
      },
      "outputs": [],
      "source": [
        "x = 'HeLlO'\n",
        "x.lower()"
      ]
    },
    {
      "cell_type": "markdown",
      "metadata": {
        "id": "AHRYrMvQsUTU"
      },
      "source": [
        "title()"
      ]
    },
    {
      "cell_type": "code",
      "execution_count": null,
      "metadata": {
        "id": "oT39EVM8sTmc"
      },
      "outputs": [],
      "source": [
        "x = 'josiah wallis'\n",
        "x.title()"
      ]
    },
    {
      "cell_type": "markdown",
      "metadata": {
        "id": "BqWQbVn7s0g2"
      },
      "source": [
        "lstrip() \\\n",
        "removes all whitespace on the left of the string"
      ]
    },
    {
      "cell_type": "code",
      "execution_count": null,
      "metadata": {
        "id": "7qbXgkSMsYSL"
      },
      "outputs": [],
      "source": [
        "x = '                   hello           world'\n",
        "x.lstrip()"
      ]
    },
    {
      "cell_type": "markdown",
      "metadata": {
        "id": "XJVmzMh3s_wt"
      },
      "source": [
        "rstrip() \\\n",
        "removes all whitesace on the right of the string. though it can't be seen, we can check using len()"
      ]
    },
    {
      "cell_type": "code",
      "execution_count": null,
      "metadata": {
        "id": "HwtA0ebisyZM"
      },
      "outputs": [],
      "source": [
        "x = 'hello                  '\n",
        "len(x)"
      ]
    },
    {
      "cell_type": "code",
      "execution_count": null,
      "metadata": {
        "id": "YM1vTttJt81E"
      },
      "outputs": [],
      "source": [
        "len(x.rstrip())"
      ]
    },
    {
      "cell_type": "markdown",
      "metadata": {
        "id": "ITZ5tVdguCKi"
      },
      "source": [
        "strip() \\\n",
        "removes all whitespace on the left and right of the string"
      ]
    },
    {
      "cell_type": "code",
      "execution_count": null,
      "metadata": {
        "id": "Wi_UP604t_1w"
      },
      "outputs": [],
      "source": [
        "x = '           hello world                '\n",
        "len(x)"
      ]
    },
    {
      "cell_type": "code",
      "execution_count": null,
      "metadata": {
        "id": "dP7EIAAEuIe8"
      },
      "outputs": [],
      "source": [
        "len(x.strip())"
      ]
    },
    {
      "cell_type": "markdown",
      "metadata": {
        "id": "vctrtyn5vqM1"
      },
      "source": [
        "### Escape characters and the print function\n",
        "Some characters cannot be entered in a string. For example, if you want a string like ```\" \" \"```, this will not work because the string will end at the second quote and Python will see the third quote as a stray character, causing an error."
      ]
    },
    {
      "cell_type": "code",
      "execution_count": null,
      "metadata": {
        "id": "r-azQFZvv__G"
      },
      "outputs": [],
      "source": [
        "\" \" \""
      ]
    },
    {
      "cell_type": "markdown",
      "metadata": {
        "id": "OXkzROPBwDGA"
      },
      "source": [
        "The character `\\` is the escape character - it allows these restricted characters to be used. Additionally, there are other escape characters that perform specific actions in strings:\n",
        "\n",
        "\n",
        "```\n",
        "\\n   newline/enter\n",
        "\\t   tab\n",
        "\\b   backspace\n",
        "```\n",
        "Before showing these escape characters, notice how when code results are output, the variable names are simply stated at the end of a code block. The value of the variables are output below that list. This only occurs within this environment: an ipython notebook. Normally, we'd use the ```print()``` function to print information. In this environment, ```print()``` captures the behavior of the escape characters while simply outputting them as we have been thus far print the strings literally. Also, an additional newline is printed after a string when ```print()``` is used. See below for examples:\n"
      ]
    },
    {
      "cell_type": "code",
      "execution_count": null,
      "metadata": {
        "id": "7rix7TPHyL6m"
      },
      "outputs": [],
      "source": [
        "x = 'hi\\nthere\\npartner'\n",
        "x"
      ]
    },
    {
      "cell_type": "code",
      "execution_count": null,
      "metadata": {
        "id": "P4H26HmzyO2j"
      },
      "outputs": [],
      "source": [
        "print(x)"
      ]
    },
    {
      "cell_type": "code",
      "execution_count": null,
      "metadata": {
        "id": "Eq3FyVeWyYGT"
      },
      "outputs": [],
      "source": [
        "y = '\\tspaghetti'\n",
        "y"
      ]
    },
    {
      "cell_type": "code",
      "execution_count": null,
      "metadata": {
        "id": "Wx_cGh2myfPh"
      },
      "outputs": [],
      "source": [
        "print(y)"
      ]
    },
    {
      "cell_type": "code",
      "execution_count": null,
      "metadata": {
        "id": "TAHcO8dAyh_t"
      },
      "outputs": [],
      "source": [
        "z = 'stromboli \\b'\n",
        "z"
      ]
    },
    {
      "cell_type": "code",
      "execution_count": null,
      "metadata": {
        "id": "3L4ceY4Zym-Z"
      },
      "outputs": [],
      "source": [
        "print(z)"
      ]
    },
    {
      "cell_type": "markdown",
      "metadata": {
        "id": "xXiNDF2DyxQK"
      },
      "source": [
        "In an ipython notebook, typing the variable name(s) at the end of a cell or using ```print()``` is up to you! Though, one method is sometimes more convenient than the other given different contexts. If you need the output from multiple parts of your code at specific lines of execution, ```print()``` will be your goto function."
      ]
    },
    {
      "cell_type": "markdown",
      "metadata": {
        "id": "lXkFe_axuqJW"
      },
      "source": [
        "### Format Strings / F-Strings\n",
        "F-strings provide a handy way of including variables in strings as well as formatting them! An entire chapter can be spent on the several different kinds of formats, but we'll cover some commonly used formats in data science."
      ]
    },
    {
      "cell_type": "markdown",
      "metadata": {
        "id": "0kW8vS0_vWY4"
      },
      "source": [
        "Creating an f-string"
      ]
    },
    {
      "cell_type": "code",
      "execution_count": null,
      "metadata": {
        "id": "B95fMA4Wu6ta"
      },
      "outputs": [],
      "source": [
        "x = f'hi'\n",
        "x"
      ]
    },
    {
      "cell_type": "markdown",
      "metadata": {
        "id": "fGw-9g36vbVZ"
      },
      "source": [
        "Entering a variable into an f-string"
      ]
    },
    {
      "cell_type": "code",
      "execution_count": null,
      "metadata": {
        "id": "DnLkAAZSvaQ-"
      },
      "outputs": [],
      "source": [
        "name = 'Josiah'\n",
        "age = 23\n",
        "print(f'Hi! My name is {name}, and I am {age} yeards old.')"
      ]
    },
    {
      "cell_type": "markdown",
      "metadata": {
        "id": "X_gJIQe50gjO"
      },
      "source": [
        "Separating place values in large numbers"
      ]
    },
    {
      "cell_type": "code",
      "execution_count": null,
      "metadata": {
        "id": "NO9HMYCDzvBB"
      },
      "outputs": [],
      "source": [
        "x = 1000000\n",
        "print(f'{10000:,}, {x:_}, {x + 2000:,}')"
      ]
    },
    {
      "cell_type": "markdown",
      "metadata": {
        "id": "4jqDkUC21CSG"
      },
      "source": [
        "Rounding/precision \\\n",
        "Form: ```f'{x:.d}'```. `x` is a variable to format while `d` is a number specifying the number of values you want after the decimal point"
      ]
    },
    {
      "cell_type": "code",
      "execution_count": null,
      "metadata": {
        "id": "vfdPckjL0ds1"
      },
      "outputs": [],
      "source": [
        "x = 0.1234\n",
        "f'{x:.2}'"
      ]
    },
    {
      "cell_type": "markdown",
      "metadata": {
        "id": "f1zQ40g-2NP_"
      },
      "source": [
        "Percent"
      ]
    },
    {
      "cell_type": "code",
      "execution_count": null,
      "metadata": {
        "id": "cCZ34fxG1jmP"
      },
      "outputs": [],
      "source": [
        "x = 0.4255\n",
        "\n",
        "# x written as a percent with 2 digits after the decimal point\n",
        "f'{x:.2%}'"
      ]
    },
    {
      "cell_type": "markdown",
      "metadata": {
        "id": "RItWZVeS2wJp"
      },
      "source": [
        "### Index Operator and Slicing\n",
        "Given a sequence-type object, like a string, we can access specific elements of the string or a subset of its characters using the ```[]``` operator in the format of ```string[index]``` and ```string[start:end:step]```. Note that sequence objects in Python are 0-indexed, meaning the first index is 0 and the last index is (len(string) - 1). Let's see how these work."
      ]
    },
    {
      "cell_type": "markdown",
      "metadata": {
        "id": "BXWwPtLE37P6"
      },
      "source": [
        "Element access"
      ]
    },
    {
      "cell_type": "code",
      "execution_count": null,
      "metadata": {
        "id": "T7FYW_6D3KqT"
      },
      "outputs": [],
      "source": [
        "x = 'Hello World'\n",
        "x_0 = x[0]\n",
        "x_0"
      ]
    },
    {
      "cell_type": "code",
      "execution_count": null,
      "metadata": {
        "id": "XyUIkLUj4JT8"
      },
      "outputs": [],
      "source": [
        "x[len(x) - 1]"
      ]
    },
    {
      "cell_type": "markdown",
      "metadata": {
        "id": "qgeCVl-g4ORa"
      },
      "source": [
        "Negative indices work by accessing from the end of the object!"
      ]
    },
    {
      "cell_type": "code",
      "execution_count": null,
      "metadata": {
        "id": "ycYm_APH4MNk"
      },
      "outputs": [],
      "source": [
        "x[-1], x[-2]"
      ]
    },
    {
      "cell_type": "markdown",
      "metadata": {
        "id": "1yck89F34YSL"
      },
      "source": [
        "Slicing \\\n",
        "When slicing, a substring is produced from the original string from index `start` up to, but *not* including, index `end`"
      ]
    },
    {
      "cell_type": "code",
      "execution_count": null,
      "metadata": {
        "id": "pS6RxTXl4Wij"
      },
      "outputs": [],
      "source": [
        "x[0:5], x[:5]"
      ]
    },
    {
      "cell_type": "code",
      "execution_count": null,
      "metadata": {
        "id": "8jCg_Rj94850"
      },
      "outputs": [],
      "source": [
        "x[5:], x[5:len(x)]"
      ]
    },
    {
      "cell_type": "code",
      "execution_count": null,
      "metadata": {
        "id": "F80qnFpz5EZn"
      },
      "outputs": [],
      "source": [
        "x[4:7]"
      ]
    },
    {
      "cell_type": "code",
      "execution_count": null,
      "metadata": {
        "id": "pYfQRFii5OOa"
      },
      "outputs": [],
      "source": [
        "x[-5:], x[:-5]"
      ]
    },
    {
      "cell_type": "markdown",
      "metadata": {
        "id": "TBmlnO9Y5d8p"
      },
      "source": [
        "Slicing with step size \\\n",
        "We can specify how many letters we count by when slicing"
      ]
    },
    {
      "cell_type": "code",
      "execution_count": null,
      "metadata": {
        "id": "Lo4__o4H5YbC"
      },
      "outputs": [],
      "source": [
        "# Counts 1 letter at a time. Double colon because I want to use the default start and end of the string\n",
        "x[::1]"
      ]
    },
    {
      "cell_type": "code",
      "execution_count": null,
      "metadata": {
        "id": "pvKTK-pI5t2-"
      },
      "outputs": [],
      "source": [
        "# Counts every other letter\n",
        "x[::2]"
      ]
    },
    {
      "cell_type": "code",
      "execution_count": null,
      "metadata": {
        "id": "4Ac6rbwO5zSa"
      },
      "outputs": [],
      "source": [
        "# Reversing\n",
        "x[::-1]"
      ]
    },
    {
      "cell_type": "markdown",
      "metadata": {
        "id": "iDXEiImd6ZO_"
      },
      "source": [
        "# Python Data Structures\n",
        "Aside from the data types we've discussed so far, Python also has more complex containers for holding data. We'll start with **lists, tuples, and dictionaries.**"
      ]
    },
    {
      "cell_type": "markdown",
      "metadata": {
        "id": "VRXsFbZu7dUC"
      },
      "source": [
        "## Lists\n",
        "**Lists** are **mutable** data structures, meaning you can change the elements in the list. This includes removing, adding, or changing the index of the elements of the list. Additionally, lists can hold objects of all kinds!"
      ]
    },
    {
      "cell_type": "markdown",
      "metadata": {
        "id": "aCG__PQE8GWC"
      },
      "source": [
        "Empty list"
      ]
    },
    {
      "cell_type": "code",
      "execution_count": null,
      "metadata": {
        "id": "hH7i2g2M6ySI"
      },
      "outputs": [],
      "source": [
        "x = list()\n",
        "y = []\n",
        "x, y"
      ]
    },
    {
      "cell_type": "markdown",
      "metadata": {
        "id": "kmFCnpUn8QUf"
      },
      "source": [
        "Initializing with elements"
      ]
    },
    {
      "cell_type": "code",
      "execution_count": null,
      "metadata": {
        "id": "3InueXJB8Ml4"
      },
      "outputs": [],
      "source": [
        "x = [1, 2, 'hi', True]\n",
        "x"
      ]
    },
    {
      "cell_type": "code",
      "execution_count": null,
      "metadata": {
        "id": "bBRB07Q6fw7c"
      },
      "outputs": [],
      "source": [
        "len(x)"
      ]
    },
    {
      "cell_type": "markdown",
      "metadata": {
        "id": "bb3Jgdhn8Zoz"
      },
      "source": [
        "Adding elements"
      ]
    },
    {
      "cell_type": "code",
      "execution_count": null,
      "metadata": {
        "id": "EnpDBcwJ8Vf4"
      },
      "outputs": [],
      "source": [
        "x = []\n",
        "x.append('hi')\n",
        "x.append(123)\n",
        "x.append(False)\n",
        "x"
      ]
    },
    {
      "cell_type": "markdown",
      "metadata": {
        "id": "CG2LqSSK8lUj"
      },
      "source": [
        "Inserting element at specific index"
      ]
    },
    {
      "cell_type": "code",
      "execution_count": null,
      "metadata": {
        "id": "xLpfaBDh8hmQ"
      },
      "outputs": [],
      "source": [
        "x.insert(1, '2nd item')\n",
        "x, len(x)"
      ]
    },
    {
      "cell_type": "markdown",
      "metadata": {
        "id": "NXxDDhtV8viS"
      },
      "source": [
        "Removing elements"
      ]
    },
    {
      "cell_type": "code",
      "execution_count": null,
      "metadata": {
        "id": "ipFG_EdD8rKC"
      },
      "outputs": [],
      "source": [
        "popped_item = x.pop(1)\n",
        "f'removed item: {popped_item}, final list: {x}'"
      ]
    },
    {
      "cell_type": "markdown",
      "metadata": {
        "id": "jJ1DSy1I9MbN"
      },
      "source": [
        "Remove specific item"
      ]
    },
    {
      "cell_type": "code",
      "execution_count": null,
      "metadata": {
        "id": "OZORP6ss80UM"
      },
      "outputs": [],
      "source": [
        "x.remove(123)\n",
        "x"
      ]
    },
    {
      "cell_type": "markdown",
      "metadata": {
        "id": "iyRM7Wif9Tap"
      },
      "source": [
        "`in` operator"
      ]
    },
    {
      "cell_type": "code",
      "execution_count": null,
      "metadata": {
        "id": "ZwvIOtAo9SG2"
      },
      "outputs": [],
      "source": [
        "'hi' in x"
      ]
    },
    {
      "cell_type": "markdown",
      "metadata": {
        "id": "4WSbBZzO9ZE6"
      },
      "source": [
        "Concatenating lists"
      ]
    },
    {
      "cell_type": "code",
      "execution_count": null,
      "metadata": {
        "id": "q6x46id-9Vrd"
      },
      "outputs": [],
      "source": [
        "x = [4, 3, 2, 1]\n",
        "y = [5, 6, 7, 8]\n",
        "z = x + y\n",
        "z"
      ]
    },
    {
      "cell_type": "markdown",
      "metadata": {
        "id": "Svui5Sy19iBZ"
      },
      "source": [
        "Sorting"
      ]
    },
    {
      "cell_type": "code",
      "execution_count": null,
      "metadata": {
        "id": "j10u1Yy59dfL"
      },
      "outputs": [],
      "source": [
        "z.sort()\n",
        "z"
      ]
    },
    {
      "cell_type": "markdown",
      "metadata": {
        "id": "tiJC92ha9vjX"
      },
      "source": [
        "Lists can be sliced like strings!"
      ]
    },
    {
      "cell_type": "code",
      "execution_count": null,
      "metadata": {
        "id": "1e2bw1529ner"
      },
      "outputs": [],
      "source": [
        "z[::2], z[-1], z[2:]"
      ]
    },
    {
      "cell_type": "markdown",
      "metadata": {
        "id": "-RLVtCUR-EEH"
      },
      "source": [
        "Writing to a list"
      ]
    },
    {
      "cell_type": "code",
      "execution_count": null,
      "metadata": {
        "id": "J5HjEsqf-JV7"
      },
      "outputs": [],
      "source": [
        "z[0] = 20\n",
        "z[-1] = 'last item'\n",
        "z[1:-1] = [8] * 6\n",
        "z"
      ]
    },
    {
      "cell_type": "markdown",
      "metadata": {
        "id": "80p6xosg_lwV"
      },
      "source": [
        "Casting"
      ]
    },
    {
      "cell_type": "code",
      "execution_count": null,
      "metadata": {
        "id": "vEMc9joc_m9Y"
      },
      "outputs": [],
      "source": [
        "string = 'Hello World'\n",
        "list(string)"
      ]
    },
    {
      "cell_type": "markdown",
      "metadata": {
        "id": "CfIC1QSj9_CN"
      },
      "source": [
        "## Tuples\n",
        "Like lists, **tuples** are sequence objects as well. Thus you can slice and access tuple elements. But unlike lists, tuples are **immutable**, meaning they cannot be changed after they've been created. Note that strings are also immutable, and that the strings we've produced are actually new strings and not modified versions of the old strings."
      ]
    },
    {
      "cell_type": "markdown",
      "metadata": {
        "id": "1vGoMra1_xxa"
      },
      "source": [
        "Instantiating a tuple"
      ]
    },
    {
      "cell_type": "code",
      "execution_count": null,
      "metadata": {
        "id": "l2bCcqhr91fq"
      },
      "outputs": [],
      "source": [
        "empty_tuple = tuple()\n",
        "x = (1, 2, 3)\n",
        "print(f'{empty_tuple}, {x}')\n"
      ]
    },
    {
      "cell_type": "markdown",
      "metadata": {
        "id": "wfLJVrGsAWXs"
      },
      "source": [
        "Accessing"
      ]
    },
    {
      "cell_type": "code",
      "execution_count": null,
      "metadata": {
        "id": "yb4Y5mSqAXSL"
      },
      "outputs": [],
      "source": [
        "print(f'2nd element: {x[1]}, reversed tuple: {x[::-1]}')"
      ]
    },
    {
      "cell_type": "markdown",
      "metadata": {
        "id": "AafPRGvJAOHm"
      },
      "source": [
        "Casting"
      ]
    },
    {
      "cell_type": "code",
      "execution_count": null,
      "metadata": {
        "id": "lNTbQKAy_f9a"
      },
      "outputs": [],
      "source": [
        "string = 'Hello World'\n",
        "tuple(string)"
      ]
    },
    {
      "cell_type": "markdown",
      "metadata": {
        "id": "o7dKrmVkA2dy"
      },
      "source": [
        "## Dictionaries\n",
        "**Dictionaries** consist of key-value pairs where the keys are immutable objects and the values can be anything! Dictionary objects are mutable."
      ]
    },
    {
      "cell_type": "markdown",
      "metadata": {
        "id": "GcjmF3MqBU0B"
      },
      "source": [
        "Instantiating a dictionary"
      ]
    },
    {
      "cell_type": "code",
      "execution_count": null,
      "metadata": {
        "id": "42DkDlsnBQj1"
      },
      "outputs": [],
      "source": [
        "empty_dict1 = {}\n",
        "empty_dict2 = dict()\n",
        "dict1 = {'class': 'CS/STAT108', 'students': 100}\n",
        "empty_dict1, empty_dict2, dict1"
      ]
    },
    {
      "cell_type": "code",
      "execution_count": null,
      "metadata": {
        "id": "TbsgotMIf6_M"
      },
      "outputs": [],
      "source": [
        "len(dict1)"
      ]
    },
    {
      "cell_type": "markdown",
      "metadata": {
        "id": "PP4VlBVwcGkz"
      },
      "source": [
        "Accessing an element"
      ]
    },
    {
      "cell_type": "code",
      "execution_count": null,
      "metadata": {
        "id": "63NvEXt3cGSs"
      },
      "outputs": [],
      "source": [
        "dict1['class']"
      ]
    },
    {
      "cell_type": "markdown",
      "metadata": {
        "id": "VoedWqa4ByoE"
      },
      "source": [
        "Adding/Changing an element"
      ]
    },
    {
      "cell_type": "code",
      "execution_count": null,
      "metadata": {
        "id": "ERba6grHBbBL"
      },
      "outputs": [],
      "source": [
        "dict1['new item'] = True\n",
        "dict1"
      ]
    },
    {
      "cell_type": "code",
      "execution_count": null,
      "metadata": {
        "id": "i6-HSPfnB3Qm"
      },
      "outputs": [],
      "source": [
        "dict1['new item'] = False\n",
        "dict1"
      ]
    },
    {
      "cell_type": "markdown",
      "metadata": {
        "id": "iABl8LOjCFz_"
      },
      "source": [
        "Deleting a pair"
      ]
    },
    {
      "cell_type": "code",
      "execution_count": null,
      "metadata": {
        "id": "xO-cSI5rB6xF"
      },
      "outputs": [],
      "source": [
        "del dict1['new item']\n",
        "dict1"
      ]
    },
    {
      "cell_type": "markdown",
      "metadata": {
        "id": "KssM9jxUCRPO"
      },
      "source": [
        "3 useful methods"
      ]
    },
    {
      "cell_type": "code",
      "execution_count": null,
      "metadata": {
        "id": "265FSSHCCKsi"
      },
      "outputs": [],
      "source": [
        "dict1.keys()"
      ]
    },
    {
      "cell_type": "code",
      "execution_count": null,
      "metadata": {
        "id": "PQ3R6YlvCUAp"
      },
      "outputs": [],
      "source": [
        "dict1.values()"
      ]
    },
    {
      "cell_type": "code",
      "execution_count": null,
      "metadata": {
        "id": "x-UJZK3dCVZW"
      },
      "outputs": [],
      "source": [
        "dict1.items()"
      ]
    },
    {
      "cell_type": "markdown",
      "metadata": {
        "id": "jUNhP6DqCeMT"
      },
      "source": [
        "get() \\\n",
        "The `get()` method is useful for checking if a key exists in a dict before trying to access it so we may avoid an error if it doesn't exist. `get()` returns a default value if the key is not found"
      ]
    },
    {
      "cell_type": "code",
      "execution_count": null,
      "metadata": {
        "id": "xrkcWVQSCXUV"
      },
      "outputs": [],
      "source": [
        "dict1.get('class', None)"
      ]
    },
    {
      "cell_type": "code",
      "execution_count": null,
      "metadata": {
        "id": "IqTZ4IfxC0Fx"
      },
      "outputs": [],
      "source": [
        "dict1.get('course number', 'N/A')"
      ]
    },
    {
      "cell_type": "markdown",
      "metadata": {
        "id": "YmeFjkunDKAF"
      },
      "source": [
        "# Control Flow\n",
        "It's useful when programming to control when code executes and how many times. Python has many useful tools for such tasks."
      ]
    },
    {
      "cell_type": "markdown",
      "metadata": {
        "id": "X5rLF2p8Dd5s"
      },
      "source": [
        "## if Statements\n",
        "`if` statements allow us to check a condition before executing code, do something if a different condition is met, or execute code if no condition is met. Below is the structure for this in Python:\n",
        "```\n",
        "if condition1:\n",
        "  execute code1\n",
        "elif condition2:\n",
        "  execute code2\n",
        "else:\n",
        "  execute code3\n",
        "```\n",
        "You may have as many elif branches as you'd like, but in a single if-elif-else chain, only 1 block will execute. Additionally, notice the indentation. In Python, we don't have braces like in R to specify blocks of code or containment. Instead, we use indentation to specify where a code block begins and ends. If you indent too much or incorrectly, errors will arise in your code, so be on the lookout."
      ]
    },
    {
      "cell_type": "markdown",
      "metadata": {
        "id": "ekacTyEAE0Uw"
      },
      "source": [
        "Let's look at some examples below:"
      ]
    },
    {
      "cell_type": "code",
      "execution_count": null,
      "metadata": {
        "id": "chfMeynEDbru"
      },
      "outputs": [],
      "source": [
        "grade = 11\n",
        "\n",
        "if 1 <= grade <= 6:\n",
        "  print('Elementary School')\n",
        "elif 7 <= grade <= 8:\n",
        "  print('Junior High')\n",
        "elif 9 <= grade <= 12:\n",
        "  print('High School')\n",
        "else:\n",
        "  print('Higher Education or not in school')"
      ]
    },
    {
      "cell_type": "markdown",
      "metadata": {
        "id": "mhzHhswlGOAj"
      },
      "source": [
        "Only one branch executes in an if-elif-else chain, but multiple chains may be present at a given time"
      ]
    },
    {
      "cell_type": "code",
      "execution_count": null,
      "metadata": {
        "id": "SMGdZCVBFTzt"
      },
      "outputs": [],
      "source": [
        "if 9 <= grade <= 12:\n",
        "  print('High School')\n",
        "else:\n",
        "  print('something something')\n",
        "\n",
        "if grade <= 12:\n",
        "  print(\"You're not even in college yet!\")"
      ]
    },
    {
      "cell_type": "markdown",
      "metadata": {
        "id": "IYS9PIVKGhOM"
      },
      "source": [
        "## While Loops and input\n",
        "**While loops** execute code until a certain condition is no longer met. They have the following form:\n",
        "```\n",
        "while condition:\n",
        "  execute code\n",
        "```\n",
        "While loops are commonly paired with checking if a user wants to continue performing an action. The `input()` function provides a prompt for the user, then the user enters text. Let's see how these two work together"
      ]
    },
    {
      "cell_type": "markdown",
      "metadata": {
        "id": "32SIc570I-hO"
      },
      "source": [
        "While loop with terminal value"
      ]
    },
    {
      "cell_type": "code",
      "execution_count": null,
      "metadata": {
        "id": "Aogxa9r-GL14"
      },
      "outputs": [],
      "source": [
        "x = 0\n",
        "while x < 5:\n",
        "  print(x)\n",
        "\n",
        "  # equivalent to `x = x + 1`\n",
        "  x += 1"
      ]
    },
    {
      "cell_type": "markdown",
      "metadata": {
        "id": "GczGOZCjJAfv"
      },
      "source": [
        "While loop with terminal condition and no terminal value"
      ]
    },
    {
      "cell_type": "code",
      "execution_count": null,
      "metadata": {
        "id": "PofNxErVHYjt"
      },
      "outputs": [],
      "source": [
        "word = list('rainbow')\n",
        "while len(word) > 0:\n",
        "\n",
        "  # str.pop() removes the last item by default\n",
        "  char = word.pop()\n",
        "  print(f'Popped character: {char}')\n"
      ]
    },
    {
      "cell_type": "markdown",
      "metadata": {
        "id": "FsWGkr0SKX34"
      },
      "source": [
        "While loop with input from user"
      ]
    },
    {
      "cell_type": "code",
      "execution_count": null,
      "metadata": {
        "id": "UncLkWCEKZ3s"
      },
      "outputs": [],
      "source": [
        "inp = ''\n",
        "while inp != 'quit':\n",
        "  print('Executing code!')\n",
        "  inp = input('Do you want to continue? ')"
      ]
    },
    {
      "cell_type": "markdown",
      "metadata": {
        "id": "gWdK2bF8KsSd"
      },
      "source": [
        "There are two keywords for controlling the flow of loops at will. `break` stops the loop and continues executing code immediately after the end of the loop's code block. `continue` skips the rest of the code execution in the current loop and starts the next loop if the condition is still met."
      ]
    },
    {
      "cell_type": "code",
      "execution_count": null,
      "metadata": {
        "id": "RsLD7zVILGAZ"
      },
      "outputs": [],
      "source": [
        "x = 0\n",
        "while x < 2000000:\n",
        "  print(x)\n",
        "\n",
        "  if x == 13:\n",
        "    x += 2\n",
        "    continue\n",
        "\n",
        "  if x == 15:\n",
        "    break\n",
        "\n",
        "  x += 1"
      ]
    },
    {
      "cell_type": "markdown",
      "metadata": {
        "id": "eTl9AdbTIPiX"
      },
      "source": [
        "## For Loops and range\n",
        "**For loops** loop a specified number of times without the need for a counter like in the first while loop example. They're also good for looping through sequence items. For example, the `range` object is commonly used with for loops to loop a specific number of times. The structure is as follows:\n",
        "```\n",
        "for iterator in iterable:\n",
        "  execute code\n",
        "```\n"
      ]
    },
    {
      "cell_type": "markdown",
      "metadata": {
        "id": "__0AuKNdJGDu"
      },
      "source": [
        "Container iteration using range"
      ]
    },
    {
      "cell_type": "code",
      "execution_count": null,
      "metadata": {
        "id": "mFtR1ykLH4aY"
      },
      "outputs": [],
      "source": [
        "for i in range(5):\n",
        "  print(i)"
      ]
    },
    {
      "cell_type": "code",
      "execution_count": null,
      "metadata": {
        "id": "Hvui2GntJNKN"
      },
      "outputs": [],
      "source": [
        "for i in range(0, 5, 2):\n",
        "  print(i)"
      ]
    },
    {
      "cell_type": "code",
      "execution_count": null,
      "metadata": {
        "id": "lAvog3cJJRsF"
      },
      "outputs": [],
      "source": [
        "for i in range(5, 0, -1):\n",
        "  print(i)"
      ]
    },
    {
      "cell_type": "code",
      "execution_count": null,
      "metadata": {
        "id": "yLFG8rn1JUQ5"
      },
      "outputs": [],
      "source": [
        "word = 'Hello'\n",
        "for char in word:\n",
        "  print(char)"
      ]
    },
    {
      "cell_type": "markdown",
      "metadata": {
        "id": "Qf1sPq_6Mc5N"
      },
      "source": [
        "# Functions\n",
        "**Functions** are reusable blocks of code that can be called when needed. A function is defined by using the `def` keyword:\n",
        "```\n",
        "def myfunc(arg1, arg2, arg3,...):\n",
        "  execute code\n",
        "```\n",
        "In a function definition, the function can be named, its arguments can be defined, and its executable code can be written. Additionally, one can state whether or not the function returns a value or values using the `return` statement, which not only returns a value but ends the function's code execution. The function can be called by typing its name with closed parentheses next to the name along with its specified arguments."
      ]
    },
    {
      "cell_type": "markdown",
      "metadata": {
        "id": "hpjt8aPvOQcc"
      },
      "source": [
        "Function with no return statement"
      ]
    },
    {
      "cell_type": "code",
      "execution_count": null,
      "metadata": {
        "id": "lF9AGlIYOSNM"
      },
      "outputs": [],
      "source": [
        "def hello_world():\n",
        "  print('Hello World!')\n",
        "\n",
        "hello_world()"
      ]
    },
    {
      "cell_type": "markdown",
      "metadata": {
        "id": "84iG9I8SOG_V"
      },
      "source": [
        "Addition as a function"
      ]
    },
    {
      "cell_type": "code",
      "execution_count": null,
      "metadata": {
        "id": "hwfOnAFCN_Jw"
      },
      "outputs": [],
      "source": [
        "def add(x, y):\n",
        "  return x + y\n",
        "\n",
        "print(add(5, 6))"
      ]
    },
    {
      "cell_type": "markdown",
      "metadata": {
        "id": "qFQnCkYzPRgD"
      },
      "source": [
        "Returning multiple values"
      ]
    },
    {
      "cell_type": "code",
      "execution_count": null,
      "metadata": {
        "id": "7LnCLR_9PTph"
      },
      "outputs": [],
      "source": [
        "def person(name, age):\n",
        "  return name, age, [name, age]\n",
        "\n",
        "person('Josiah', 24)"
      ]
    },
    {
      "cell_type": "markdown",
      "metadata": {
        "id": "B6rWmnFHOKBj"
      },
      "source": [
        "Functions may also have default values, but the default arguments must be at the end of the argument list"
      ]
    },
    {
      "cell_type": "code",
      "execution_count": null,
      "metadata": {
        "id": "Wvlhd5xNOEIz"
      },
      "outputs": [],
      "source": [
        "def entered_nums(x, y, z = 3):\n",
        "  print(f'x: {x}, y: {y}, z: {z}')\n",
        "\n",
        "entered_nums(1, 2)\n",
        "entered_nums(1, 2, 50)"
      ]
    },
    {
      "cell_type": "markdown",
      "metadata": {
        "id": "y2pGwCzrPlyf"
      },
      "source": [
        "# Classes\n",
        "**Classes** define how a collection of data values (of possibly different data types and structures) behave as a single unit. They can be defined using the `class` keyword. In a class definition, they can be given a name, the components that make up the class, and functions that the class can use. These functions are referred to as methods.\n",
        "```\n",
        "class ClassName:\n",
        "  def __init__(self, args):\n",
        "    data components of class\n",
        "  def method1(self, args):\n",
        "    code\n",
        "  def method2(self):\n",
        "    code\n",
        "\n",
        "x = ClassName(args)\n",
        "```\n",
        "the `__init__` method is the class constructor - it details what components the class needs to instantiate itself as well as where those components go to initialize the class object. Also, each method within the class requires the `self` keyword so that the methods can access the elements of the class as well as its methods."
      ]
    },
    {
      "cell_type": "markdown",
      "metadata": {
        "id": "nMUYU6hUQuzw"
      },
      "source": [
        "Class example"
      ]
    },
    {
      "cell_type": "code",
      "execution_count": null,
      "metadata": {
        "id": "ecEcrxGFO0TS"
      },
      "outputs": [],
      "source": [
        "class Car:\n",
        "  def __init__(self, brand, color, tank_size = 15):\n",
        "    self.brand = brand\n",
        "    self.color = color\n",
        "    self.tank_size = tank_size\n",
        "\n",
        "    self.curr_tank = tank_size\n",
        "\n",
        "  def get_brand(self):\n",
        "    return self.brand\n",
        "\n",
        "  def get_color(self):\n",
        "    return self.color\n",
        "\n",
        "  def get_curr_tank(self):\n",
        "    return self.curr_tank\n",
        "\n",
        "  def get_tank_size(self):\n",
        "    return self.tank_size\n",
        "\n",
        "  def change_color(self, color):\n",
        "    print(f\"Your car's color has been changed from {self.color} to {color}\")\n",
        "    self.color = color\n",
        "\n",
        "  def drive(self, gallons_used):\n",
        "    self.curr_tank -= gallons_used\n",
        "\n",
        "    if self.curr_tank <= 0:\n",
        "      self.curr_tank = 0\n",
        "      print('Your car needs gas!')\n",
        "    elif 0 < self.curr_tank < 3:\n",
        "      print('Your tank is getting low')\n",
        "    else:\n",
        "      print(f'Current tank: {self.curr_tank} gallons')\n",
        "\n",
        "  def fill_tank(self):\n",
        "    print('Filling the tank')\n",
        "    print('The tank is full!')\n",
        "    self.curr_tank = self.tank_size\n",
        "\n",
        "mycar = Car('Ford', 'red')\n",
        "\n"
      ]
    },
    {
      "cell_type": "code",
      "execution_count": null,
      "metadata": {
        "id": "uZgIPGfWTVkc"
      },
      "outputs": [],
      "source": [
        "mycar.get_brand()"
      ]
    },
    {
      "cell_type": "code",
      "execution_count": null,
      "metadata": {
        "id": "tZJQjLUxTXXp"
      },
      "outputs": [],
      "source": [
        "mycar.get_tank_size()"
      ]
    },
    {
      "cell_type": "code",
      "execution_count": null,
      "metadata": {
        "id": "liAXiwLrTZJV"
      },
      "outputs": [],
      "source": [
        "mycar.drive(6)"
      ]
    },
    {
      "cell_type": "code",
      "execution_count": null,
      "metadata": {
        "id": "C0tR1fBnTbrb"
      },
      "outputs": [],
      "source": [
        "mycar.drive(8)"
      ]
    },
    {
      "cell_type": "code",
      "execution_count": null,
      "metadata": {
        "id": "s9KJO4VHTdeO"
      },
      "outputs": [],
      "source": [
        "mycar.drive(2)"
      ]
    },
    {
      "cell_type": "code",
      "execution_count": null,
      "metadata": {
        "id": "Ws4dIEaZTew0"
      },
      "outputs": [],
      "source": [
        "mycar.fill_tank()"
      ]
    },
    {
      "cell_type": "code",
      "execution_count": null,
      "metadata": {
        "id": "swcvALVkTnbS"
      },
      "outputs": [],
      "source": [
        "mycar.get_curr_tank()"
      ]
    },
    {
      "cell_type": "code",
      "execution_count": null,
      "metadata": {
        "id": "ltTliMDjTzfj"
      },
      "outputs": [],
      "source": [
        "mycar.drive(5)"
      ]
    }
  ],
  "metadata": {
    "colab": {
      "collapsed_sections": [
        "6jEUAkEicYaq",
        "hf9D1qRDiOKd",
        "0U1Uugd2ZNRn",
        "TnWQG9H9WYk3",
        "xRZNT40roiTH",
        "vctrtyn5vqM1",
        "iDXEiImd6ZO_",
        "VRXsFbZu7dUC",
        "CfIC1QSj9_CN",
        "o7dKrmVkA2dy",
        "YmeFjkunDKAF",
        "eTl9AdbTIPiX",
        "Qf1sPq_6Mc5N",
        "y2pGwCzrPlyf"
      ],
      "provenance": []
    },
    "kernelspec": {
      "display_name": "Python 3",
      "name": "python3"
    },
    "language_info": {
      "codemirror_mode": {
        "name": "ipython",
        "version": 3
      },
      "file_extension": ".py",
      "mimetype": "text/x-python",
      "name": "python",
      "nbconvert_exporter": "python",
      "pygments_lexer": "ipython3",
      "version": "3.11.3"
    }
  },
  "nbformat": 4,
  "nbformat_minor": 0
}
