{
  "cells": [
    {
      "cell_type": "markdown",
      "metadata": {
        "id": "TdQHriuLFLcT"
      },
      "source": [
        "***\n",
        "**Author:** Peter Lu \\\n",
        "CS108: Data Science Ethics (UCR - Winter 2024)\n",
        "***"
      ]
    },
    {
      "cell_type": "markdown",
      "metadata": {
        "id": "gW_Aq0qiPh2R"
      },
      "source": [
        "# Functional Programming and Data Practice"
      ]
    },
    {
      "cell_type": "markdown",
      "metadata": {
        "id": "S2_2kyiOPwTX"
      },
      "source": [
        "This notebook contains practice problems for lambda functions, functional programming, and `numpy`. You will see old as well as new use cases for the above topics. Good luck!"
      ]
    },
    {
      "cell_type": "markdown",
      "metadata": {
        "id": "hE7F6gd8gGQV"
      },
      "source": [
        "***\n",
        "# Functional Programming"
      ]
    },
    {
      "cell_type": "markdown",
      "metadata": {
        "id": "rDKlCX4_fI2X"
      },
      "source": [
        "1) Given a list of strings, `map` each element of the list to a new list containing every other letter of the respective words."
      ]
    },
    {
      "cell_type": "code",
      "execution_count": null,
      "metadata": {
        "id": "LQ2F9WluNeGr"
      },
      "outputs": [],
      "source": [
        "words = ['yellow', 'appropriate', 'happy', 'court']\n",
        "\n",
        "# Enter code below\n"
      ]
    },
    {
      "cell_type": "markdown",
      "metadata": {
        "id": "79PkkclCgInZ"
      },
      "source": [
        "2) The `ord` function returns the [ascii value](https://www.ascii-code.com/) of a character. Use this function to return the strings from `words` whose total ascii values do not exceed 600. \\\n",
        "*Hint*: Python has a built in `sum` method that aggregates the numerical values of a list. It may be useful. There are multiple ways to solve this problem, but kudos if you can use some combination of `filter` and/or `map`!"
      ]
    },
    {
      "cell_type": "code",
      "execution_count": null,
      "metadata": {
        "id": "Z8hoadkYgFB7"
      },
      "outputs": [],
      "source": [
        "# Enter code below\n"
      ]
    },
    {
      "cell_type": "markdown",
      "metadata": {
        "id": "adEtIND0jWdQ"
      },
      "source": [
        "***\n",
        "# Numpy"
      ]
    },
    {
      "cell_type": "code",
      "execution_count": null,
      "metadata": {
        "id": "xXzsvf3jiY_4"
      },
      "outputs": [],
      "source": [
        "# Import the numpy library\n"
      ]
    },
    {
      "cell_type": "markdown",
      "metadata": {
        "id": "-bJ_aAecwG9b"
      },
      "source": [
        "3) Using `sample`, return a slice containing the latter half of the middle 3 rows.\n"
      ]
    },
    {
      "cell_type": "code",
      "execution_count": null,
      "metadata": {
        "id": "oPbzJ_mexiBl"
      },
      "outputs": [],
      "source": [
        "sample = np.random.uniform(0, 10, (5, 7)).astype('int64')\n",
        "sample"
      ]
    },
    {
      "cell_type": "code",
      "execution_count": null,
      "metadata": {
        "id": "wZIT4Vs7xw2c"
      },
      "outputs": [],
      "source": [
        "# Enter code below\n"
      ]
    },
    {
      "cell_type": "markdown",
      "metadata": {
        "id": "UVBMog1XuKah"
      },
      "source": [
        "4) Given a data set sampled from a gamma distribution, find the mean of the data set. Then, create two slices: one slice of all values less than the mean and the other half of all values greater than or equal to the mean. \\\n",
        "*Hint:* Similar to `pandas`, `numpy` has its own mean function *and* method."
      ]
    },
    {
      "cell_type": "code",
      "execution_count": null,
      "metadata": {
        "id": "2-o0d2SYo6Y8"
      },
      "outputs": [],
      "source": [
        "sample = np.random.gamma(5, 1, 30).round(3)\n",
        "sample"
      ]
    },
    {
      "cell_type": "code",
      "execution_count": null,
      "metadata": {
        "id": "yKewU0RevaJ0"
      },
      "outputs": [],
      "source": [
        "# Enter code below\n"
      ]
    },
    {
      "cell_type": "markdown",
      "metadata": {
        "id": "K6KIWgR_zZQu"
      },
      "source": [
        "5) Create a function `zscore` that takes a random sample as input and returns the z-score of each value. The z-score is calculated as\n",
        "$$z = \\frac{x - \\mu}{\\sigma}$$\n",
        "where $x$ is a data point, $\\mu$ is the mean of the sample, and $\\sigma$ is the standard deviation of the sample. Compare your results to `scipy.stats.zscore`. Then, find all z-scores that are within 2 standard deviations of the mean of the z-scores. In other words, find all values between $\\mu_Z \\pm 2\\sigma_Z$."
      ]
    },
    {
      "cell_type": "code",
      "execution_count": null,
      "metadata": {
        "id": "S8u66B3svpka"
      },
      "outputs": [],
      "source": [
        "import scipy\n",
        "\n",
        "sample = np.random.normal(53, 5, 100)\n",
        "sample"
      ]
    },
    {
      "cell_type": "code",
      "execution_count": null,
      "metadata": {
        "id": "XAz8MDP80eUN"
      },
      "outputs": [],
      "source": [
        "# Enter code below\n"
      ]
    },
    {
      "cell_type": "markdown",
      "metadata": {
        "id": "-Hnj4ubB23I9"
      },
      "source": [
        "6a) `np.dot` returns the dot product between two vectors, the product of two matrices, or the product of a vector and matrix. \\\n",
        "\\\n",
        "In the case of a dot product of 2 vectors $\\boldsymbol{x}$ and $\\boldsymbol{y}$, it performs the operation\n",
        "$$\\boldsymbol{x} \\cdot \\boldsymbol{y} = \\sum_{i = 1}^n x_iy_i.$$\n",
        "In other words, corresponding vector elements are multiplied then summed together. Given the various data values below, compute the dot products of the variables in the specified orders. Output your results. Do the dimensions of your outputs make sense?"
      ]
    },
    {
      "cell_type": "code",
      "execution_count": null,
      "metadata": {
        "id": "AZFaQ2qG1aSE"
      },
      "outputs": [],
      "source": [
        "x = np.array([1, 2, 3])\n",
        "y = np.array([3, 2, 1])\n",
        "\n",
        "mat1 = np.random.uniform(0, 10, (3, 3)).astype('int64')\n",
        "mat1"
      ]
    },
    {
      "cell_type": "code",
      "execution_count": null,
      "metadata": {
        "id": "aUHNmBl46meX"
      },
      "outputs": [],
      "source": [
        "mat2 = mat1.T # matrix transpose\n",
        "mat2"
      ]
    },
    {
      "cell_type": "code",
      "execution_count": null,
      "metadata": {
        "id": "nOzzyJx76J0g"
      },
      "outputs": [],
      "source": [
        "# x dot y\n",
        "# Enter code below\n"
      ]
    },
    {
      "cell_type": "code",
      "execution_count": null,
      "metadata": {
        "id": "EB4Uy8vU6KD6"
      },
      "outputs": [],
      "source": [
        "# mat1 dot mat2\n",
        "# Enter code below\n"
      ]
    },
    {
      "cell_type": "code",
      "execution_count": null,
      "metadata": {
        "id": "B60u8dYt6KP3"
      },
      "outputs": [],
      "source": [
        "# mat1 dot x\n",
        "# Enter code below\n"
      ]
    },
    {
      "cell_type": "markdown",
      "metadata": {
        "id": "ujsuo2vo64yc"
      },
      "source": [
        "6b) Suppose $\\boldsymbol{\\theta}$ is a 3-dimensional vector of coefficients for a linear regression model. In other words, given a data vector $\\boldsymbol{x}$, its predicted value is computed as\n",
        "$$\\hat{f}(\\boldsymbol{x}) = \\hat{\\boldsymbol{\\theta}}^{T}\\boldsymbol{x} + \\hat{b} = \\sum_{i = 1}^3 \\hat{\\theta}_i x_i + \\hat{b}$$\n",
        "where $\\hat{b}$ is the bias term.\n",
        "Write a function `predict` that takes three arguments: a vector of coefficients $\\hat{\\boldsymbol{\\theta}}$, an $n \\times 3$ data matrix $X$, and an optional bias term $\\hat{b}$ that defaults to $0$. The function should return an $n \\times 1$ vector containing the predicted value for each of the $n$ points in the data matrix. \\\n",
        "*Hint*: Pay close attention to your dimensions/shapes!"
      ]
    },
    {
      "cell_type": "code",
      "execution_count": null,
      "metadata": {
        "id": "nEx7GvUX3o04"
      },
      "outputs": [],
      "source": [
        "X = np.random.uniform(0, 10, (100, 3)).astype('int64')\n",
        "theta_hat = np.array([2, 1, 6])"
      ]
    },
    {
      "cell_type": "code",
      "execution_count": null,
      "metadata": {
        "id": "XCDtqdhK_BBp"
      },
      "outputs": [],
      "source": [
        "# Enter code below\n"
      ]
    },
    {
      "cell_type": "markdown",
      "metadata": {
        "id": "5VQDxx8W_1Nt"
      },
      "source": [
        "7) A useful function for simulating intervals of real numbers is `np.linspace`. As we'll see later in disussion, it is also useful for plotting lines and functions in $\\mathbb{R}^2$. It generates a specified number of values between a start and end value as an ndarray. Here's an example of generating the interval $[-5, 5]$:"
      ]
    },
    {
      "cell_type": "code",
      "execution_count": null,
      "metadata": {
        "id": "rEory6DSApI3"
      },
      "outputs": [],
      "source": [
        "# 1000 points generated evenly between -5 and 5 inclusively\n",
        "interval = np.linspace(-5, 5, 1000)\n",
        "interval"
      ]
    },
    {
      "cell_type": "markdown",
      "metadata": {
        "id": "x06PzZ8qBQ7D"
      },
      "source": [
        "Given a coefficient $\\hat{\\theta}$ and bias $\\hat{b}$ for a linear regression model, generate an ndarray `line` that represents the predictive function\n",
        "$$\\hat{y} = \\hat{\\theta} x + \\hat{b}.$$\n",
        "Does the resulting array make sense? What do $\\hat{\\theta}$ and $\\hat{b}$ represent? What conclusions can be drawn about $\\hat{\\boldsymbol{\\theta}}$ in problem 6b? \\\n",
        "*Hint*: This is a line in $\\mathbb{R}^2$!"
      ]
    },
    {
      "cell_type": "code",
      "execution_count": null,
      "metadata": {
        "id": "ZtKf_58rFCAW"
      },
      "outputs": [],
      "source": [
        "theta_hat = 5\n",
        "b_hat = 2\n",
        "\n",
        "# Enter code below:\n"
      ]
    }
  ],
  "metadata": {
    "colab": {
      "provenance": []
    },
    "kernelspec": {
      "display_name": "Python 3",
      "name": "python3"
    },
    "language_info": {
      "name": "python"
    }
  },
  "nbformat": 4,
  "nbformat_minor": 0
}
