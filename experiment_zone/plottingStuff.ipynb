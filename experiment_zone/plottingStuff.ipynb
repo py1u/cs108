{
 "cells": [
  {
   "cell_type": "code",
   "execution_count": 2,
   "metadata": {},
   "outputs": [],
   "source": [
    "cols = ['MedInc', 'HouseAge', 'Population', 'MedHouseVal']"
   ]
  },
  {
   "cell_type": "code",
   "execution_count": 3,
   "metadata": {},
   "outputs": [
    {
     "name": "stdout",
     "output_type": "stream",
     "text": [
      "index 0: MedInc\n",
      "index 1: HouseAge\n",
      "index 2: Population\n",
      "index 3: MedHouseVal\n"
     ]
    }
   ],
   "source": [
    "for i,x in enumerate(cols):\n",
    "    print(f'index {i}: {x}')"
   ]
  },
  {
   "cell_type": "code",
   "execution_count": 5,
   "metadata": {},
   "outputs": [],
   "source": [
    "import numpy as np\n",
    "import matplotlib.pyplot as plt"
   ]
  },
  {
   "cell_type": "code",
   "execution_count": 13,
   "metadata": {},
   "outputs": [
    {
     "name": "stdout",
     "output_type": "stream",
     "text": [
      "[1 2 3 4 5 6]\n"
     ]
    }
   ],
   "source": [
    "A = np.array([1,2,3,4,5,6])\n",
    "print(A)"
   ]
  },
  {
   "cell_type": "code",
   "execution_count": 14,
   "metadata": {},
   "outputs": [
    {
     "name": "stdout",
     "output_type": "stream",
     "text": [
      "(6,)\n",
      "1\n"
     ]
    }
   ],
   "source": [
    "print(A.shape)\n",
    "print(A.ndim)"
   ]
  },
  {
   "cell_type": "code",
   "execution_count": 28,
   "metadata": {},
   "outputs": [
    {
     "name": "stdout",
     "output_type": "stream",
     "text": [
      "[[['1' '2' '3']\n",
      "  ['a' 'b' 'c']]\n",
      "\n",
      " [['4' '5' '6']\n",
      "  ['a' 'b' 'c']]\n",
      "\n",
      " [['7' '8' '9']\n",
      "  ['a' 'b' 'c']]]\n"
     ]
    }
   ],
   "source": [
    "B = np.array([ [ [1,2,3],['a','b','c'] ], [ [4,5,6],['a', 'b', 'c'] ] , [ [7,8,9], ['a', 'b', 'c'] ] ])\n",
    "print(B)"
   ]
  },
  {
   "cell_type": "code",
   "execution_count": 30,
   "metadata": {},
   "outputs": [
    {
     "name": "stdout",
     "output_type": "stream",
     "text": [
      "(3, 2, 3)\n",
      "3\n"
     ]
    }
   ],
   "source": [
    "#\n",
    "print(B.shape)\n",
    "print(B.ndim)"
   ]
  }
 ],
 "metadata": {
  "kernelspec": {
   "display_name": "Python 3",
   "language": "python",
   "name": "python3"
  },
  "language_info": {
   "codemirror_mode": {
    "name": "ipython",
    "version": 3
   },
   "file_extension": ".py",
   "mimetype": "text/x-python",
   "name": "python",
   "nbconvert_exporter": "python",
   "pygments_lexer": "ipython3",
   "version": "3.11.3"
  }
 },
 "nbformat": 4,
 "nbformat_minor": 2
}
