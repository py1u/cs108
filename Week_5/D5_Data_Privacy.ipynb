{
  "cells": [
    {
      "cell_type": "markdown",
      "metadata": {
        "id": "TOaHbqtSCZWn"
      },
      "source": [
        "***\n",
        "**Adapted by**: Peter Lu \\\n",
        "CS/STAT108: Data Science Ethics (UCR - Winter 2024)\n",
        "***"
      ]
    },
    {
      "cell_type": "markdown",
      "metadata": {
        "id": "aRNNjcHC26x2"
      },
      "source": [
        "# Data Privacy\n",
        "This week, we'll be taking a look at de-identification, re-identification, and $\\varepsilon$-differential privacy with continuous values!"
      ]
    },
    {
      "cell_type": "code",
      "execution_count": null,
      "metadata": {
        "id": "U8WjLsam26x6"
      },
      "outputs": [],
      "source": [
        "# Load the data and libraries\n",
        "import pandas as pd\n",
        "import numpy as np\n",
        "\n",
        "adult = pd.read_csv('adult_with_pii.csv')"
      ]
    },
    {
      "cell_type": "code",
      "execution_count": null,
      "metadata": {
        "id": "XeI77vnzr1of"
      },
      "outputs": [],
      "source": [
        "adult.head()"
      ]
    },
    {
      "cell_type": "markdown",
      "metadata": {
        "id": "BIDPiBCi26x9"
      },
      "source": [
        "## Question 1\n",
        "\n",
        "How many individuals in this dataset are uniquely identified by their Zip code? How many are uniquely identified by their age?\n",
        "\n",
        "Hint:\n",
        "1. The number of *unique ZIP codes* is **different** from the number of *individuals uniquely identified by ZIP code*.\n",
        "2. You can use the `value_counts` method to count the number of occurrences of each value in a series."
      ]
    },
    {
      "cell_type": "code",
      "execution_count": null,
      "metadata": {
        "deletable": false,
        "id": "BG4yqzc526x-",
        "nbgrader": {
          "cell_type": "code",
          "checksum": "9733ff7d940158fb81a39ca36af422e7",
          "grade": false,
          "grade_id": "cell-0e380ac68dd0c77e",
          "locked": false,
          "schema_version": 3,
          "solution": true,
          "task": false
        }
      },
      "outputs": [],
      "source": [
        "def num_unique_id(data: pd.DataFrame, feature: str) -> int:\n",
        "    '''\n",
        "    Returns the number of individuals uniquely identifiable by `feature`.\n",
        "    -------------------\n",
        "    data: pd.DataFrame data matrix\n",
        "    feature: string of variable to group individuals by\n",
        "    '''\n",
        "\n",
        "    # Enter code below\n",
        "\n",
        "    raise NotImplementedError()"
      ]
    },
    {
      "cell_type": "markdown",
      "metadata": {
        "id": "n3zSfpOlam7V"
      },
      "source": [
        "### Test Cases"
      ]
    },
    {
      "cell_type": "code",
      "execution_count": null,
      "metadata": {
        "deletable": false,
        "editable": false,
        "id": "xFgGeVRZ26x-",
        "nbgrader": {
          "cell_type": "code",
          "checksum": "421e414115ab089d6098fe0ea29dcfa0",
          "grade": true,
          "grade_id": "cell-9b009427c61dbb2b",
          "locked": true,
          "points": 5,
          "schema_version": 3,
          "solution": false,
          "task": false
        }
      },
      "outputs": [],
      "source": [
        "assert num_unique_id(adult, 'Zip') == 23513\n",
        "assert num_unique_id(adult, 'Age') == 2"
      ]
    },
    {
      "cell_type": "markdown",
      "metadata": {
        "id": "dSK641ZQ26x_"
      },
      "source": [
        "## Question 2\n",
        "\n",
        "Write code to determine the `Education-Num` of any individual by performing a differencing attack. Your code should *only* use aggregate data to find the education number.\n",
        "\n",
        "Assume you can look up aggregate data about the dataset, but no one's specific education number."
      ]
    },
    {
      "cell_type": "code",
      "execution_count": null,
      "metadata": {
        "deletable": false,
        "id": "IoLZnpJF26x_",
        "nbgrader": {
          "cell_type": "code",
          "checksum": "8df97903495b1e9b1994064fef277bdd",
          "grade": false,
          "grade_id": "cell-ef28e136429ae8c2",
          "locked": false,
          "schema_version": 3,
          "solution": true,
          "task": false
        }
      },
      "outputs": [],
      "source": [
        "def differencing_attack(data: pd.DataFrame, name: str, feature: str) -> int:\n",
        "    '''\n",
        "    Returns the `feature` of `name` using differencing attack on `feature`.\n",
        "    Only works with numeric variables.\n",
        "    -----------------\n",
        "    data: pd.DataFrame data matrix\n",
        "    name: string of user whose feature is of interest\n",
        "    feature: string of variable of interest\n",
        "    '''\n",
        "\n",
        "    # Enter code below\n",
        "\n",
        "    raise NotImplementedError()"
      ]
    },
    {
      "cell_type": "markdown",
      "metadata": {
        "id": "tvmObznJcQ9w"
      },
      "source": [
        "### Test Cases"
      ]
    },
    {
      "cell_type": "code",
      "execution_count": null,
      "metadata": {
        "deletable": false,
        "editable": false,
        "id": "QERW9T-926yA",
        "nbgrader": {
          "cell_type": "code",
          "checksum": "8da4b59a750fee877ac13ca81e692791",
          "grade": true,
          "grade_id": "cell-d06fb722893a39a5",
          "locked": true,
          "points": 10,
          "schema_version": 3,
          "solution": false,
          "task": false
        }
      },
      "outputs": [],
      "source": [
        "assert differencing_attack(adult, 'Ardyce Golby', 'Education-Num') == 12\n",
        "assert differencing_attack(adult, 'Reuben Skrzynski', 'Education-Num') == 9"
      ]
    },
    {
      "cell_type": "markdown",
      "metadata": {
        "id": "_3zD5kM7uhB1"
      },
      "source": [
        "## Differential Privacy\n",
        "As seen in lecture, a randomized algorithm ***M*** provides **$\\boldsymbol{\\varepsilon}$-differential privacy** if, for all neighboring databases $\\boldsymbol{D}_1$ and $\\boldsymbol{D}_2$, and for any set of outputs $\\boldsymbol{S}$:\n",
        "$$P[M(D_1) \\in S] \\leq e^{\\varepsilon}P[M(D_2) \\in S].$$\n",
        "$\\varepsilon$ is the privacy parameter. Smaller values of $\\varepsilon$ provide stronger privacy.\n",
        "\n",
        "The two-coin algorithm is a useful ***M*** in the context of categorical or discrete variables, but what about continuous variables? One useful randomized algorithm is the **Laplace Mechanism**.\n"
      ]
    },
    {
      "cell_type": "markdown",
      "metadata": {
        "id": "R5zuLRIAw012"
      },
      "source": [
        "## Laplace Distribution\n",
        "Before discussing the the Laplace Mechanism, we must discuss the Laplace distribution which is used to generate our noise. \\\n",
        "\\\n",
        "The **Laplace distribution** $\\text{Lap}(\\mu,  b)$ with mean $\\mu$ and scale parameter $b$ has the following distribution function:\n",
        "$$f(x; \\mu, b) = \\frac{1}{2b}\\exp{\\bigg(-\\frac{|x - \\mu|}{b}\\bigg)}.$$\n",
        "When noise is generated from this distribution under certain conditions, we can produce differentially privatized data using the noise.\\\n",
        "\\\n",
        "Essentially, the **Laplace Mechanism** is a function that inserts noise into numeric data. The noise can be inserted when the data is collected or when the data is queried. This can be seen in the following formulation:\n",
        "$$M_{L}(x, f, \\varepsilon) = f(x) + \\text{noise}$$\n",
        "where\n",
        "* f is either $f(x) = x$ or a query function (like a histogram)\n",
        "* $\\text{noise} \\sim \\text{Lap}(0, \\frac{s}{\\varepsilon})$\n",
        "* $s$ is the sensitivity of $f$, or how much a change in your data can change $f$\n"
      ]
    },
    {
      "cell_type": "markdown",
      "metadata": {
        "id": "yLLYuSQQYq5n"
      },
      "source": [
        "\n",
        "## Question 3\n",
        "\n",
        "Suppose we want to query the `Education-Num` data using a histogram. Use a Laplace Mechanism to introduce $\\varepsilon$-differential privacy into the data. Test your function with $\\varepsilon = 1, 2, 3$. Compare your queries before and after differentially privatizing your data.\n",
        "\n",
        "*Hints*:  \n",
        "1. `numpy` may have a useful module for generating values from probability distributions.\n",
        "2. The sensitivity of a histogram is $1$.\n",
        "3. The query function $f$ is the histogram counts.\n",
        "4. Check out the data with the `better_hist`! After calling it, you can still add labels and whatnot.\n",
        "\n"
      ]
    },
    {
      "cell_type": "code",
      "execution_count": 4,
      "metadata": {
        "id": "EUV8u73Vrndc"
      },
      "outputs": [],
      "source": [
        "import matplotlib.pyplot as plt\n",
        "\n",
        "# use instead of plt's histogram\n",
        "def better_hist(data: pd.DataFrame, bins: int = 10, color: str = None) -> None:\n",
        "  _, _, patches = plt.hist(data, bins = bins, edgecolor = 'black', color = color)\n",
        "  for i in range(len(patches)):\n",
        "    plt.text(patches[i].get_x() + patches[i].get_width() / 2, patches[i].get_height(),\n",
        "             str(int(patches[i].get_height())), ha='center', va='bottom')"
      ]
    },
    {
      "cell_type": "code",
      "execution_count": null,
      "metadata": {
        "id": "j5g69hko_7wU"
      },
      "outputs": [],
      "source": [
        "# Plot initial histogram\n",
        "# Enter code below\n"
      ]
    },
    {
      "cell_type": "code",
      "execution_count": null,
      "metadata": {
        "id": "dDr-dGzsro-r"
      },
      "outputs": [],
      "source": [
        "def eps_diff_privacy_hist(data: pd.Series, eps: float) -> pd.Series:\n",
        "  '''\n",
        "  Introduces `eps`-differential privacy into `data` using Laplace Mechanism.\n",
        "  Returns data with noise added.\n",
        "  -------------\n",
        "  data: pd.Series column data to be noisified\n",
        "  eps: privacy parameter\n",
        "  '''\n",
        "\n",
        "  # Enter code below\n",
        "\n",
        "  return noisy_data"
      ]
    },
    {
      "cell_type": "code",
      "execution_count": 5,
      "metadata": {
        "id": "zbhdgBFXACar"
      },
      "outputs": [],
      "source": [
        "# Plot histogram of un-noisified and noisified data\n",
        "# Enter code below\n"
      ]
    }
  ],
  "metadata": {
    "colab": {
      "provenance": []
    },
    "kernelspec": {
      "display_name": "Python 3 (ipykernel)",
      "language": "python",
      "name": "python3"
    },
    "language_info": {
      "codemirror_mode": {
        "name": "ipython",
        "version": 3
      },
      "file_extension": ".py",
      "mimetype": "text/x-python",
      "name": "python",
      "nbconvert_exporter": "python",
      "pygments_lexer": "ipython3",
      "version": "3.8.11"
    }
  },
  "nbformat": 4,
  "nbformat_minor": 0
}
